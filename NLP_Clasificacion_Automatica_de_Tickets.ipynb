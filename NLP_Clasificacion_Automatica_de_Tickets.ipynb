{
  "cells": [
    {
      "cell_type": "markdown",
      "metadata": {
        "id": "rhR-ZUkwJrFn"
      },
      "source": [
        "# Clasificacion Automatica de Tickets con NLP\n",
        "\n",
        "### Integrantes\n",
        "* Ivan Castillo\n",
        "* Adad Flores\n",
        "* Nadir Rodriguez\n",
        "* Carlos Perez\n",
        "\n",
        "## Descripcion del Problema\n",
        "\n",
        "Debe crear un modelo que pueda clasificar las quejas (complaints) de los clientes en función de los productos/servicios. Al hacerlo, puede segregar estos tickets en sus categorías relevantes y, por lo tanto, ayudar en la resolución rápida del problema.\n",
        "\n",
        "Realizará el modelado de temas en los datos <b>.json</b> proporcionados por la empresa. Dado que estos datos no están etiquetados, debe aplicar NMF para analizar patrones y clasificar los tickets en los siguientes cinco grupos según sus productos/servicios:\n",
        "\n",
        "* Tarjetas de Credito / Tarjetas Prepagadas (Credit card / Prepaid Card)\n",
        "\n",
        "* Servicios de Cuentas de Banco (Bank account services)\n",
        "\n",
        "* Reportes de Robos (Theft/Dispute reporting)\n",
        "\n",
        "* Prestamos Hipotecarios y Otros Prestamos (Mortgages/loans)\n",
        "\n",
        "* Otros\n",
        "\n",
        "Con la ayuda del modelado de temas, podrá asignar cada ticket a su respectivo departamento/categoría. Luego puede usar estos datos para entrenar cualquier modelo supervisado, como regresión logística, árbol de decisión o bosque aleatorio. Usando este modelo entrenado, puede clasificar cualquier nuevo ticket de soporte de quejas de clientes en su departamento correspondiente."
      ]
    },
    {
      "cell_type": "markdown",
      "metadata": {
        "id": "mcgXVNyaLUFS"
      },
      "source": [
        "## Flujo de Trajajo a Realizar:\n",
        "\n",
        "Debe realizar las siguientes ocho tareas principales para completar la tarea:\n",
        "\n",
        "1. Data Loading\n",
        "\n",
        "2. Text preprocessing\n",
        "\n",
        "3. Exploratory Data Analysis (EDA)\n",
        "\n",
        "4. Feature Extraction\n",
        "\n",
        "5. Topic modeling\n",
        "\n",
        "6. Model building using Supervised Learning\n",
        "\n",
        "7. Model training and evaluation\n",
        "\n",
        "8. Model inference"
      ]
    },
    {
      "cell_type": "markdown",
      "metadata": {
        "id": "5dn8WtJ9jscz"
      },
      "source": [
        "## Setup e Importacion de Librerias"
      ]
    },
    {
      "cell_type": "code",
      "execution_count": 1,
      "metadata": {
        "colab": {
          "base_uri": "https://localhost:8080/"
        },
        "id": "hryiAceMjscz",
        "outputId": "115b8d68-9af8-470b-d89c-4dd45de8ae87"
      },
      "outputs": [
        {
          "name": "stdout",
          "output_type": "stream",
          "text": [
            "Defaulting to user installation because normal site-packages is not writeable\n",
            "Requirement already satisfied: spacy in c:\\users\\adadf\\appdata\\roaming\\python\\python311\\site-packages (3.8.2)\n",
            "Requirement already satisfied: spacy-legacy<3.1.0,>=3.0.11 in c:\\users\\adadf\\appdata\\roaming\\python\\python311\\site-packages (from spacy) (3.0.12)\n",
            "Requirement already satisfied: spacy-loggers<2.0.0,>=1.0.0 in c:\\users\\adadf\\appdata\\roaming\\python\\python311\\site-packages (from spacy) (1.0.5)\n",
            "Requirement already satisfied: murmurhash<1.1.0,>=0.28.0 in c:\\users\\adadf\\appdata\\roaming\\python\\python311\\site-packages (from spacy) (1.0.11)\n",
            "Requirement already satisfied: cymem<2.1.0,>=2.0.2 in c:\\users\\adadf\\appdata\\roaming\\python\\python311\\site-packages (from spacy) (2.0.10)\n",
            "Requirement already satisfied: preshed<3.1.0,>=3.0.2 in c:\\users\\adadf\\appdata\\roaming\\python\\python311\\site-packages (from spacy) (3.0.9)\n",
            "Requirement already satisfied: thinc<8.4.0,>=8.3.0 in c:\\users\\adadf\\appdata\\roaming\\python\\python311\\site-packages (from spacy) (8.3.2)\n",
            "Requirement already satisfied: wasabi<1.2.0,>=0.9.1 in c:\\users\\adadf\\appdata\\roaming\\python\\python311\\site-packages (from spacy) (1.1.3)\n",
            "Requirement already satisfied: srsly<3.0.0,>=2.4.3 in c:\\users\\adadf\\appdata\\roaming\\python\\python311\\site-packages (from spacy) (2.4.8)\n",
            "Requirement already satisfied: catalogue<2.1.0,>=2.0.6 in c:\\users\\adadf\\appdata\\roaming\\python\\python311\\site-packages (from spacy) (2.0.10)\n",
            "Requirement already satisfied: weasel<0.5.0,>=0.1.0 in c:\\users\\adadf\\appdata\\roaming\\python\\python311\\site-packages (from spacy) (0.4.1)\n",
            "Requirement already satisfied: typer<1.0.0,>=0.3.0 in c:\\users\\adadf\\appdata\\roaming\\python\\python311\\site-packages (from spacy) (0.13.1)\n",
            "Requirement already satisfied: tqdm<5.0.0,>=4.38.0 in c:\\programdata\\anaconda3\\lib\\site-packages (from spacy) (4.65.0)\n",
            "Requirement already satisfied: requests<3.0.0,>=2.13.0 in c:\\programdata\\anaconda3\\lib\\site-packages (from spacy) (2.31.0)\n",
            "Requirement already satisfied: pydantic!=1.8,!=1.8.1,<3.0.0,>=1.7.4 in c:\\programdata\\anaconda3\\lib\\site-packages (from spacy) (1.10.8)\n",
            "Requirement already satisfied: jinja2 in c:\\programdata\\anaconda3\\lib\\site-packages (from spacy) (3.1.2)\n",
            "Requirement already satisfied: setuptools in c:\\programdata\\anaconda3\\lib\\site-packages (from spacy) (68.0.0)\n",
            "Requirement already satisfied: packaging>=20.0 in c:\\users\\adadf\\appdata\\roaming\\python\\python311\\site-packages (from spacy) (24.1)\n",
            "Requirement already satisfied: langcodes<4.0.0,>=3.2.0 in c:\\users\\adadf\\appdata\\roaming\\python\\python311\\site-packages (from spacy) (3.5.0)\n",
            "Requirement already satisfied: numpy>=1.19.0 in c:\\programdata\\anaconda3\\lib\\site-packages (from spacy) (1.24.3)\n",
            "Requirement already satisfied: language-data>=1.2 in c:\\users\\adadf\\appdata\\roaming\\python\\python311\\site-packages (from langcodes<4.0.0,>=3.2.0->spacy) (1.3.0)\n",
            "Requirement already satisfied: typing-extensions>=4.2.0 in c:\\users\\adadf\\appdata\\roaming\\python\\python311\\site-packages (from pydantic!=1.8,!=1.8.1,<3.0.0,>=1.7.4->spacy) (4.12.2)\n",
            "Requirement already satisfied: charset-normalizer<4,>=2 in c:\\programdata\\anaconda3\\lib\\site-packages (from requests<3.0.0,>=2.13.0->spacy) (2.0.4)\n",
            "Requirement already satisfied: idna<4,>=2.5 in c:\\programdata\\anaconda3\\lib\\site-packages (from requests<3.0.0,>=2.13.0->spacy) (3.4)\n",
            "Requirement already satisfied: urllib3<3,>=1.21.1 in c:\\programdata\\anaconda3\\lib\\site-packages (from requests<3.0.0,>=2.13.0->spacy) (1.26.16)\n",
            "Requirement already satisfied: certifi>=2017.4.17 in c:\\programdata\\anaconda3\\lib\\site-packages (from requests<3.0.0,>=2.13.0->spacy) (2023.7.22)\n",
            "Requirement already satisfied: blis<1.1.0,>=1.0.0 in c:\\users\\adadf\\appdata\\roaming\\python\\python311\\site-packages (from thinc<8.4.0,>=8.3.0->spacy) (1.0.1)\n",
            "Requirement already satisfied: confection<1.0.0,>=0.0.1 in c:\\users\\adadf\\appdata\\roaming\\python\\python311\\site-packages (from thinc<8.4.0,>=8.3.0->spacy) (0.1.5)\n",
            "Collecting numpy>=1.19.0 (from spacy)\n",
            "  Using cached numpy-2.0.2-cp311-cp311-win_amd64.whl.metadata (59 kB)\n",
            "Requirement already satisfied: colorama in c:\\users\\adadf\\appdata\\roaming\\python\\python311\\site-packages (from tqdm<5.0.0,>=4.38.0->spacy) (0.4.6)\n",
            "Requirement already satisfied: click>=8.0.0 in c:\\programdata\\anaconda3\\lib\\site-packages (from typer<1.0.0,>=0.3.0->spacy) (8.0.4)\n",
            "Requirement already satisfied: shellingham>=1.3.0 in c:\\users\\adadf\\appdata\\roaming\\python\\python311\\site-packages (from typer<1.0.0,>=0.3.0->spacy) (1.5.4)\n",
            "Requirement already satisfied: rich>=10.11.0 in c:\\users\\adadf\\appdata\\roaming\\python\\python311\\site-packages (from typer<1.0.0,>=0.3.0->spacy) (13.7.1)\n",
            "Requirement already satisfied: cloudpathlib<1.0.0,>=0.7.0 in c:\\users\\adadf\\appdata\\roaming\\python\\python311\\site-packages (from weasel<0.5.0,>=0.1.0->spacy) (0.20.0)\n",
            "Requirement already satisfied: smart-open<8.0.0,>=5.2.1 in c:\\programdata\\anaconda3\\lib\\site-packages (from weasel<0.5.0,>=0.1.0->spacy) (5.2.1)\n",
            "Requirement already satisfied: MarkupSafe>=2.0 in c:\\programdata\\anaconda3\\lib\\site-packages (from jinja2->spacy) (2.1.1)\n",
            "Requirement already satisfied: marisa-trie>=1.1.0 in c:\\users\\adadf\\appdata\\roaming\\python\\python311\\site-packages (from language-data>=1.2->langcodes<4.0.0,>=3.2.0->spacy) (1.2.1)\n",
            "Requirement already satisfied: markdown-it-py>=2.2.0 in c:\\programdata\\anaconda3\\lib\\site-packages (from rich>=10.11.0->typer<1.0.0,>=0.3.0->spacy) (2.2.0)\n",
            "Requirement already satisfied: pygments<3.0.0,>=2.13.0 in c:\\users\\adadf\\appdata\\roaming\\python\\python311\\site-packages (from rich>=10.11.0->typer<1.0.0,>=0.3.0->spacy) (2.18.0)\n",
            "Requirement already satisfied: mdurl~=0.1 in c:\\programdata\\anaconda3\\lib\\site-packages (from markdown-it-py>=2.2.0->rich>=10.11.0->typer<1.0.0,>=0.3.0->spacy) (0.1.0)\n",
            "Using cached numpy-2.0.2-cp311-cp311-win_amd64.whl (15.9 MB)\n",
            "Installing collected packages: numpy\n",
            "Successfully installed numpy-2.0.2\n"
          ]
        },
        {
          "name": "stderr",
          "output_type": "stream",
          "text": [
            "ERROR: pip's dependency resolver does not currently take into account all the packages that are installed. This behaviour is the source of the following dependency conflicts.\n",
            "gensim 4.3.0 requires FuzzyTM>=0.4.0, which is not installed.\n",
            "tables 3.8.0 requires blosc2~=2.0.0, which is not installed.\n",
            "tables 3.8.0 requires cython>=0.29.21, which is not installed.\n",
            "catboost 1.2.7 requires numpy<2.0,>=1.16.0, but you have numpy 2.0.2 which is incompatible.\n",
            "numba 0.57.1 requires numpy<1.25,>=1.21, but you have numpy 2.0.2 which is incompatible.\n",
            "scipy 1.11.1 requires numpy<1.28.0,>=1.21.6, but you have numpy 2.0.2 which is incompatible.\n"
          ]
        }
      ],
      "source": [
        "## SpaCy and en_core_web_sm installation\n",
        "!pip install spacy\n",
        "\n",
        "##run the following command in the console\n",
        "#python -m spacy download en_core_web_sm"
      ]
    },
    {
      "cell_type": "code",
      "execution_count": 2,
      "metadata": {
        "colab": {
          "base_uri": "https://localhost:8080/"
        },
        "id": "TUEscVQ2ldNa",
        "outputId": "3dfa0cc6-d725-4596-f467-83a79e488490"
      },
      "outputs": [
        {
          "name": "stdout",
          "output_type": "stream",
          "text": [
            "c:\\Users\\adadf\\AppData\\Local\\Programs\\Python\\Python311\\python.exe\n"
          ]
        }
      ],
      "source": [
        " import sys\n",
        " print(sys.executable)"
      ]
    },
    {
      "cell_type": "code",
      "execution_count": 3,
      "metadata": {
        "colab": {
          "base_uri": "https://localhost:8080/"
        },
        "id": "BwgVf5oqldNb",
        "outputId": "df7005a4-3a2a-412b-976d-f65cfc4a87b9"
      },
      "outputs": [
        {
          "name": "stdout",
          "output_type": "stream",
          "text": [
            "Collecting en-core-web-sm==3.8.0\n",
            "  Downloading https://github.com/explosion/spacy-models/releases/download/en_core_web_sm-3.8.0/en_core_web_sm-3.8.0-py3-none-any.whl (12.8 MB)\n",
            "     ---------------------------------------- 0.0/12.8 MB ? eta -:--:--\n",
            "     --- ------------------------------------ 1.0/12.8 MB 8.4 MB/s eta 0:00:02\n",
            "     ---- ----------------------------------- 1.6/12.8 MB 8.4 MB/s eta 0:00:02\n",
            "     --------- ------------------------------ 3.1/12.8 MB 5.4 MB/s eta 0:00:02\n",
            "     ------------- -------------------------- 4.2/12.8 MB 5.5 MB/s eta 0:00:02\n",
            "     ------------------ --------------------- 6.0/12.8 MB 6.1 MB/s eta 0:00:02\n",
            "     ---------------------- ----------------- 7.1/12.8 MB 5.8 MB/s eta 0:00:01\n",
            "     ------------------------- -------------- 8.1/12.8 MB 5.8 MB/s eta 0:00:01\n",
            "     ----------------------------- ---------- 9.4/12.8 MB 5.7 MB/s eta 0:00:01\n",
            "     -------------------------------- ------- 10.5/12.8 MB 5.7 MB/s eta 0:00:01\n",
            "     ------------------------------------ --- 11.5/12.8 MB 5.6 MB/s eta 0:00:01\n",
            "     ---------------------------------------  12.6/12.8 MB 5.6 MB/s eta 0:00:01\n",
            "     ---------------------------------------- 12.8/12.8 MB 5.5 MB/s eta 0:00:00\n",
            "\u001b[38;5;2m✔ Download and installation successful\u001b[0m\n",
            "You can now load the package via spacy.load('en_core_web_sm')\n"
          ]
        }
      ],
      "source": [
        "!python -m spacy download en_core_web_sm"
      ]
    },
    {
      "cell_type": "markdown",
      "metadata": {
        "id": "JuLFIymAL58u"
      },
      "source": [
        "## Importing the necessary libraries"
      ]
    },
    {
      "cell_type": "code",
      "execution_count": 6,
      "metadata": {},
      "outputs": [],
      "source": [
        "# Importación de bibliotecas necesarias para el procesamiento de datos y NLP\n",
        "\n",
        "# Importa la biblioteca json para trabajar con datos en formato JSON\n",
        "import json\n",
        "\n",
        "# Importa numpy para operaciones numéricas y pandas para manipulación de datos\n",
        "import numpy as np\n",
        "import pandas as pd\n",
        "\n",
        "# Importa re para expresiones regulares y string para operaciones con cadenas de texto\n",
        "import re, string\n",
        "\n",
        "# Importa bibliotecas de NLTK para procesamiento de lenguaje natural\n",
        "import nltk\n",
        "from nltk.tokenize import word_tokenize  # Tokenización de palabras\n",
        "from nltk.probability import FreqDist  # Distribución de frecuencias de palabras\n",
        "from nltk.corpus import stopwords  # Lista de palabras vacías (stopwords)\n",
        "from nltk.stem import WordNetLemmatizer  # Lematización de palabras\n",
        "\n",
        "# Importa bibliotecas de Spacy para procesamiento de lenguaje natural\n",
        "import spacy\n",
        "import en_core_web_sm  # Modelo de Spacy para inglés\n",
        "nlp = en_core_web_sm.load()  # Carga el modelo de Spacy\n",
        "\n",
        "# Importa bibliotecas para visualización de datos\n",
        "import seaborn as sns\n",
        "import matplotlib.pyplot as plt\n",
        "%matplotlib inline \n",
        "\n",
        "# Importa bibliotecas de Plotly para visualización interactiva\n",
        "from plotly.offline import plot\n",
        "import plotly.graph_objects as go\n",
        "import plotly.express as px\n",
        "\n",
        "# Importa bibliotecas de Scikit-learn para extracción de características de texto\n",
        "from sklearn.feature_extraction.text import CountVectorizer, TfidfVectorizer, TfidfTransformer\n",
        "from pprint import pprint  # Para impresión con formato\n",
        "\n",
        "# Suprime las advertencias\n",
        "import warnings\n",
        "warnings.filterwarnings('ignore')  # Ignora las advertencias"
      ]
    },
    {
      "cell_type": "code",
      "execution_count": 7,
      "metadata": {
        "colab": {
          "base_uri": "https://localhost:8080/"
        },
        "id": "l9K8GdxPjsc0",
        "outputId": "b2242001-4c4a-4439-81c6-e704bc7e851e"
      },
      "outputs": [
        {
          "name": "stderr",
          "output_type": "stream",
          "text": [
            "[nltk_data] Downloading package stopwords to\n",
            "[nltk_data]     C:\\Users\\adadf\\AppData\\Roaming\\nltk_data...\n",
            "[nltk_data]   Package stopwords is already up-to-date!\n",
            "[nltk_data] Downloading package punkt to\n",
            "[nltk_data]     C:\\Users\\adadf\\AppData\\Roaming\\nltk_data...\n",
            "[nltk_data]   Package punkt is already up-to-date!\n",
            "[nltk_data] Downloading package punkt_tab to\n",
            "[nltk_data]     C:\\Users\\adadf\\AppData\\Roaming\\nltk_data...\n",
            "[nltk_data]   Package punkt_tab is already up-to-date!\n",
            "[nltk_data] Downloading package wordnet to\n",
            "[nltk_data]     C:\\Users\\adadf\\AppData\\Roaming\\nltk_data...\n",
            "[nltk_data]   Package wordnet is already up-to-date!\n",
            "[nltk_data] Downloading package omw-1.4 to\n",
            "[nltk_data]     C:\\Users\\adadf\\AppData\\Roaming\\nltk_data...\n",
            "[nltk_data]   Package omw-1.4 is already up-to-date!\n"
          ]
        },
        {
          "data": {
            "text/plain": [
              "True"
            ]
          },
          "execution_count": 7,
          "metadata": {},
          "output_type": "execute_result"
        }
      ],
      "source": [
        "# Descarga de recursos de NLTK necesarios para el procesamiento de lenguaje natural\n",
        "\n",
        "# Descarga la lista de palabras vacías (stopwords) en varios idiomas\n",
        "nltk.download('stopwords')\n",
        "\n",
        "# Descarga el modelo de tokenización de palabras en inglés\n",
        "nltk.download('punkt')\n",
        "\n",
        "# Descarga la tabla de tokenización de palabras en inglés\n",
        "nltk.download('punkt_tab')\n",
        "\n",
        "# Descarga el diccionario de lematización WordNet\n",
        "nltk.download('wordnet')\n",
        "\n",
        "# Descarga el paquete de datos multilingües de WordNet\n",
        "nltk.download('omw-1.4')"
      ]
    },
    {
      "cell_type": "markdown",
      "metadata": {},
      "source": [
        "Instalación de la biblioteca tqdm para mostrar barras de progreso en bucles"
      ]
    },
    {
      "cell_type": "code",
      "execution_count": 8,
      "metadata": {
        "colab": {
          "base_uri": "https://localhost:8080/"
        },
        "id": "uxihJIIZkex0",
        "outputId": "8a494684-fd7a-4578-ceb0-119acc70ca10"
      },
      "outputs": [
        {
          "name": "stdout",
          "output_type": "stream",
          "text": [
            "Defaulting to user installation because normal site-packages is not writeable\n",
            "Requirement already satisfied: tqdm in c:\\programdata\\anaconda3\\lib\\site-packages (4.65.0)\n",
            "Requirement already satisfied: colorama in c:\\users\\adadf\\appdata\\roaming\\python\\python311\\site-packages (from tqdm) (0.4.6)\n"
          ]
        }
      ],
      "source": [
        "!pip install tqdm"
      ]
    },
    {
      "cell_type": "markdown",
      "metadata": {
        "id": "KtRLCsNVJrFt"
      },
      "source": [
        "## Loading the data\n",
        "\n",
        "Los datos están en formato JSON y necesitamos convertirlos a un dataframe."
      ]
    },
    {
      "cell_type": "code",
      "execution_count": 11,
      "metadata": {
        "id": "puVzIf_iJrFt"
      },
      "outputs": [],
      "source": [
        "# Apertura del archivo JSON\n",
        "file_name = \"complaints.json\"  # Nombre y ruta del archivo JSON que contiene los datos\n",
        "f = file = open(file_name, \"r\")  # Abre el archivo en modo lectura (\"r\") y asigna el objeto de archivo a la variable 'f'\n",
        "\n",
        "# Carga el contenido del archivo JSON y lo convierte en un diccionario de Python\n",
        "data = json.load(f)  # La función json.load() toma el objeto de archivo 'f' como parámetro y devuelve un diccionario con los datos JSON\n",
        "\n",
        "# Normaliza los datos JSON en un DataFrame de pandas\n",
        "df = pd.json_normalize(data)  # La función pd.json_normalize() toma el diccionario 'data' como parámetro y lo convierte en un DataFrame de pandas"
      ]
    },
    {
      "cell_type": "code",
      "execution_count": 12,
      "metadata": {
        "colab": {
          "base_uri": "https://localhost:8080/"
        },
        "id": "-TeDR72UlcOs",
        "outputId": "293b6735-c8f1-4c7b-c2e7-94210906379d"
      },
      "outputs": [
        {
          "data": {
            "text/plain": [
              "(11426, 22)"
            ]
          },
          "execution_count": 12,
          "metadata": {},
          "output_type": "execute_result"
        }
      ],
      "source": [
        "df.shape"
      ]
    },
    {
      "cell_type": "markdown",
      "metadata": {
        "id": "_xYpH-sAJrFu"
      },
      "source": [
        "## Data preparation"
      ]
    },
    {
      "cell_type": "markdown",
      "metadata": {},
      "source": [
        "Inspección del DataFrame para entender los datos proporcionados"
      ]
    },
    {
      "cell_type": "code",
      "execution_count": 13,
      "metadata": {
        "colab": {
          "base_uri": "https://localhost:8080/",
          "height": 412
        },
        "id": "Lf8ufHH5JrFu",
        "outputId": "db6c4a6a-e55e-4acf-b37c-1f02721b728d"
      },
      "outputs": [
        {
          "data": {
            "text/html": [
              "<div>\n",
              "<style scoped>\n",
              "    .dataframe tbody tr th:only-of-type {\n",
              "        vertical-align: middle;\n",
              "    }\n",
              "\n",
              "    .dataframe tbody tr th {\n",
              "        vertical-align: top;\n",
              "    }\n",
              "\n",
              "    .dataframe thead th {\n",
              "        text-align: right;\n",
              "    }\n",
              "</style>\n",
              "<table border=\"1\" class=\"dataframe\">\n",
              "  <thead>\n",
              "    <tr style=\"text-align: right;\">\n",
              "      <th></th>\n",
              "      <th>_index</th>\n",
              "      <th>_type</th>\n",
              "      <th>_id</th>\n",
              "      <th>_score</th>\n",
              "      <th>_source.tags</th>\n",
              "      <th>_source.zip_code</th>\n",
              "      <th>_source.complaint_id</th>\n",
              "      <th>_source.issue</th>\n",
              "      <th>_source.date_received</th>\n",
              "      <th>_source.state</th>\n",
              "      <th>...</th>\n",
              "      <th>_source.company_response</th>\n",
              "      <th>_source.company</th>\n",
              "      <th>_source.submitted_via</th>\n",
              "      <th>_source.date_sent_to_company</th>\n",
              "      <th>_source.company_public_response</th>\n",
              "      <th>_source.sub_product</th>\n",
              "      <th>_source.timely</th>\n",
              "      <th>_source.complaint_what_happened</th>\n",
              "      <th>_source.sub_issue</th>\n",
              "      <th>_source.consumer_consent_provided</th>\n",
              "    </tr>\n",
              "  </thead>\n",
              "  <tbody>\n",
              "    <tr>\n",
              "      <th>0</th>\n",
              "      <td>complaint-public-v2</td>\n",
              "      <td>complaint</td>\n",
              "      <td>3211475</td>\n",
              "      <td>0.0</td>\n",
              "      <td>None</td>\n",
              "      <td>90301</td>\n",
              "      <td>3211475</td>\n",
              "      <td>Attempts to collect debt not owed</td>\n",
              "      <td>2019-04-13T12:00:00-05:00</td>\n",
              "      <td>CA</td>\n",
              "      <td>...</td>\n",
              "      <td>Closed with explanation</td>\n",
              "      <td>JPMORGAN CHASE &amp; CO.</td>\n",
              "      <td>Web</td>\n",
              "      <td>2019-04-13T12:00:00-05:00</td>\n",
              "      <td>None</td>\n",
              "      <td>Credit card debt</td>\n",
              "      <td>Yes</td>\n",
              "      <td></td>\n",
              "      <td>Debt is not yours</td>\n",
              "      <td>Consent not provided</td>\n",
              "    </tr>\n",
              "    <tr>\n",
              "      <th>1</th>\n",
              "      <td>complaint-public-v2</td>\n",
              "      <td>complaint</td>\n",
              "      <td>3229299</td>\n",
              "      <td>0.0</td>\n",
              "      <td>Servicemember</td>\n",
              "      <td>319XX</td>\n",
              "      <td>3229299</td>\n",
              "      <td>Written notification about debt</td>\n",
              "      <td>2019-05-01T12:00:00-05:00</td>\n",
              "      <td>GA</td>\n",
              "      <td>...</td>\n",
              "      <td>Closed with explanation</td>\n",
              "      <td>JPMORGAN CHASE &amp; CO.</td>\n",
              "      <td>Web</td>\n",
              "      <td>2019-05-01T12:00:00-05:00</td>\n",
              "      <td>None</td>\n",
              "      <td>Credit card debt</td>\n",
              "      <td>Yes</td>\n",
              "      <td>Good morning my name is XXXX XXXX and I apprec...</td>\n",
              "      <td>Didn't receive enough information to verify debt</td>\n",
              "      <td>Consent provided</td>\n",
              "    </tr>\n",
              "    <tr>\n",
              "      <th>2</th>\n",
              "      <td>complaint-public-v2</td>\n",
              "      <td>complaint</td>\n",
              "      <td>3199379</td>\n",
              "      <td>0.0</td>\n",
              "      <td>None</td>\n",
              "      <td>77069</td>\n",
              "      <td>3199379</td>\n",
              "      <td>Other features, terms, or problems</td>\n",
              "      <td>2019-04-02T12:00:00-05:00</td>\n",
              "      <td>TX</td>\n",
              "      <td>...</td>\n",
              "      <td>Closed with explanation</td>\n",
              "      <td>JPMORGAN CHASE &amp; CO.</td>\n",
              "      <td>Web</td>\n",
              "      <td>2019-04-02T12:00:00-05:00</td>\n",
              "      <td>None</td>\n",
              "      <td>General-purpose credit card or charge card</td>\n",
              "      <td>Yes</td>\n",
              "      <td>I upgraded my XXXX XXXX card in XX/XX/2018 and...</td>\n",
              "      <td>Problem with rewards from credit card</td>\n",
              "      <td>Consent provided</td>\n",
              "    </tr>\n",
              "    <tr>\n",
              "      <th>3</th>\n",
              "      <td>complaint-public-v2</td>\n",
              "      <td>complaint</td>\n",
              "      <td>2673060</td>\n",
              "      <td>0.0</td>\n",
              "      <td>None</td>\n",
              "      <td>48066</td>\n",
              "      <td>2673060</td>\n",
              "      <td>Trouble during payment process</td>\n",
              "      <td>2017-09-13T12:00:00-05:00</td>\n",
              "      <td>MI</td>\n",
              "      <td>...</td>\n",
              "      <td>Closed with explanation</td>\n",
              "      <td>JPMORGAN CHASE &amp; CO.</td>\n",
              "      <td>Web</td>\n",
              "      <td>2017-09-14T12:00:00-05:00</td>\n",
              "      <td>None</td>\n",
              "      <td>Conventional home mortgage</td>\n",
              "      <td>Yes</td>\n",
              "      <td></td>\n",
              "      <td>None</td>\n",
              "      <td>Consent not provided</td>\n",
              "    </tr>\n",
              "    <tr>\n",
              "      <th>4</th>\n",
              "      <td>complaint-public-v2</td>\n",
              "      <td>complaint</td>\n",
              "      <td>3203545</td>\n",
              "      <td>0.0</td>\n",
              "      <td>None</td>\n",
              "      <td>10473</td>\n",
              "      <td>3203545</td>\n",
              "      <td>Fees or interest</td>\n",
              "      <td>2019-04-05T12:00:00-05:00</td>\n",
              "      <td>NY</td>\n",
              "      <td>...</td>\n",
              "      <td>Closed with explanation</td>\n",
              "      <td>JPMORGAN CHASE &amp; CO.</td>\n",
              "      <td>Referral</td>\n",
              "      <td>2019-04-05T12:00:00-05:00</td>\n",
              "      <td>None</td>\n",
              "      <td>General-purpose credit card or charge card</td>\n",
              "      <td>Yes</td>\n",
              "      <td></td>\n",
              "      <td>Charged too much interest</td>\n",
              "      <td>N/A</td>\n",
              "    </tr>\n",
              "  </tbody>\n",
              "</table>\n",
              "<p>5 rows × 22 columns</p>\n",
              "</div>"
            ],
            "text/plain": [
              "                _index      _type      _id  _score   _source.tags  \\\n",
              "0  complaint-public-v2  complaint  3211475     0.0           None   \n",
              "1  complaint-public-v2  complaint  3229299     0.0  Servicemember   \n",
              "2  complaint-public-v2  complaint  3199379     0.0           None   \n",
              "3  complaint-public-v2  complaint  2673060     0.0           None   \n",
              "4  complaint-public-v2  complaint  3203545     0.0           None   \n",
              "\n",
              "  _source.zip_code _source.complaint_id                       _source.issue  \\\n",
              "0            90301              3211475   Attempts to collect debt not owed   \n",
              "1            319XX              3229299     Written notification about debt   \n",
              "2            77069              3199379  Other features, terms, or problems   \n",
              "3            48066              2673060      Trouble during payment process   \n",
              "4            10473              3203545                    Fees or interest   \n",
              "\n",
              "       _source.date_received _source.state  ... _source.company_response  \\\n",
              "0  2019-04-13T12:00:00-05:00            CA  ...  Closed with explanation   \n",
              "1  2019-05-01T12:00:00-05:00            GA  ...  Closed with explanation   \n",
              "2  2019-04-02T12:00:00-05:00            TX  ...  Closed with explanation   \n",
              "3  2017-09-13T12:00:00-05:00            MI  ...  Closed with explanation   \n",
              "4  2019-04-05T12:00:00-05:00            NY  ...  Closed with explanation   \n",
              "\n",
              "        _source.company _source.submitted_via _source.date_sent_to_company  \\\n",
              "0  JPMORGAN CHASE & CO.                   Web    2019-04-13T12:00:00-05:00   \n",
              "1  JPMORGAN CHASE & CO.                   Web    2019-05-01T12:00:00-05:00   \n",
              "2  JPMORGAN CHASE & CO.                   Web    2019-04-02T12:00:00-05:00   \n",
              "3  JPMORGAN CHASE & CO.                   Web    2017-09-14T12:00:00-05:00   \n",
              "4  JPMORGAN CHASE & CO.              Referral    2019-04-05T12:00:00-05:00   \n",
              "\n",
              "  _source.company_public_response                         _source.sub_product  \\\n",
              "0                            None                            Credit card debt   \n",
              "1                            None                            Credit card debt   \n",
              "2                            None  General-purpose credit card or charge card   \n",
              "3                            None                  Conventional home mortgage   \n",
              "4                            None  General-purpose credit card or charge card   \n",
              "\n",
              "  _source.timely                    _source.complaint_what_happened  \\\n",
              "0            Yes                                                      \n",
              "1            Yes  Good morning my name is XXXX XXXX and I apprec...   \n",
              "2            Yes  I upgraded my XXXX XXXX card in XX/XX/2018 and...   \n",
              "3            Yes                                                      \n",
              "4            Yes                                                      \n",
              "\n",
              "                                  _source.sub_issue  \\\n",
              "0                                 Debt is not yours   \n",
              "1  Didn't receive enough information to verify debt   \n",
              "2             Problem with rewards from credit card   \n",
              "3                                              None   \n",
              "4                         Charged too much interest   \n",
              "\n",
              "  _source.consumer_consent_provided  \n",
              "0              Consent not provided  \n",
              "1                  Consent provided  \n",
              "2                  Consent provided  \n",
              "3              Consent not provided  \n",
              "4                               N/A  \n",
              "\n",
              "[5 rows x 22 columns]"
            ]
          },
          "execution_count": 13,
          "metadata": {},
          "output_type": "execute_result"
        }
      ],
      "source": [
        "df.head()"
      ]
    },
    {
      "cell_type": "code",
      "execution_count": 14,
      "metadata": {
        "colab": {
          "base_uri": "https://localhost:8080/",
          "height": 429
        },
        "id": "y5uG-nWUm1Wi",
        "outputId": "5084cc71-b307-44d3-c137-5dc807a3fee3"
      },
      "outputs": [
        {
          "data": {
            "text/html": [
              "<div>\n",
              "<style scoped>\n",
              "    .dataframe tbody tr th:only-of-type {\n",
              "        vertical-align: middle;\n",
              "    }\n",
              "\n",
              "    .dataframe tbody tr th {\n",
              "        vertical-align: top;\n",
              "    }\n",
              "\n",
              "    .dataframe thead th {\n",
              "        text-align: right;\n",
              "    }\n",
              "</style>\n",
              "<table border=\"1\" class=\"dataframe\">\n",
              "  <thead>\n",
              "    <tr style=\"text-align: right;\">\n",
              "      <th></th>\n",
              "      <th>_index</th>\n",
              "      <th>_type</th>\n",
              "      <th>_id</th>\n",
              "      <th>_score</th>\n",
              "      <th>_source.tags</th>\n",
              "      <th>_source.zip_code</th>\n",
              "      <th>_source.complaint_id</th>\n",
              "      <th>_source.issue</th>\n",
              "      <th>_source.date_received</th>\n",
              "      <th>_source.state</th>\n",
              "      <th>...</th>\n",
              "      <th>_source.company_response</th>\n",
              "      <th>_source.company</th>\n",
              "      <th>_source.submitted_via</th>\n",
              "      <th>_source.date_sent_to_company</th>\n",
              "      <th>_source.company_public_response</th>\n",
              "      <th>_source.sub_product</th>\n",
              "      <th>_source.timely</th>\n",
              "      <th>_source.complaint_what_happened</th>\n",
              "      <th>_source.sub_issue</th>\n",
              "      <th>_source.consumer_consent_provided</th>\n",
              "    </tr>\n",
              "  </thead>\n",
              "  <tbody>\n",
              "    <tr>\n",
              "      <th>11421</th>\n",
              "      <td>complaint-public-v2</td>\n",
              "      <td>complaint</td>\n",
              "      <td>3691002</td>\n",
              "      <td>0.0</td>\n",
              "      <td>None</td>\n",
              "      <td>601XX</td>\n",
              "      <td>3691002</td>\n",
              "      <td>Trouble during payment process</td>\n",
              "      <td>2020-06-08T12:00:00-05:00</td>\n",
              "      <td>IL</td>\n",
              "      <td>...</td>\n",
              "      <td>Closed with explanation</td>\n",
              "      <td>JPMORGAN CHASE &amp; CO.</td>\n",
              "      <td>Referral</td>\n",
              "      <td>2020-06-09T12:00:00-05:00</td>\n",
              "      <td>None</td>\n",
              "      <td>Conventional home mortgage</td>\n",
              "      <td>Yes</td>\n",
              "      <td></td>\n",
              "      <td>None</td>\n",
              "      <td>N/A</td>\n",
              "    </tr>\n",
              "    <tr>\n",
              "      <th>11422</th>\n",
              "      <td>complaint-public-v2</td>\n",
              "      <td>complaint</td>\n",
              "      <td>3998033</td>\n",
              "      <td>0.0</td>\n",
              "      <td>None</td>\n",
              "      <td>19115</td>\n",
              "      <td>3998033</td>\n",
              "      <td>Incorrect information on your report</td>\n",
              "      <td>2020-12-08T12:00:00-05:00</td>\n",
              "      <td>PA</td>\n",
              "      <td>...</td>\n",
              "      <td>Closed with explanation</td>\n",
              "      <td>JPMORGAN CHASE &amp; CO.</td>\n",
              "      <td>Web</td>\n",
              "      <td>2020-12-08T12:00:00-05:00</td>\n",
              "      <td>None</td>\n",
              "      <td>Credit reporting</td>\n",
              "      <td>Yes</td>\n",
              "      <td></td>\n",
              "      <td>Information belongs to someone else</td>\n",
              "      <td>Consent not provided</td>\n",
              "    </tr>\n",
              "    <tr>\n",
              "      <th>11423</th>\n",
              "      <td>complaint-public-v2</td>\n",
              "      <td>complaint</td>\n",
              "      <td>4005328</td>\n",
              "      <td>0.0</td>\n",
              "      <td>None</td>\n",
              "      <td>701XX</td>\n",
              "      <td>4005328</td>\n",
              "      <td>Closing an account</td>\n",
              "      <td>2020-12-11T12:00:00-05:00</td>\n",
              "      <td>LA</td>\n",
              "      <td>...</td>\n",
              "      <td>Closed with explanation</td>\n",
              "      <td>JPMORGAN CHASE &amp; CO.</td>\n",
              "      <td>Web</td>\n",
              "      <td>2020-12-11T12:00:00-05:00</td>\n",
              "      <td>None</td>\n",
              "      <td>Checking account</td>\n",
              "      <td>Yes</td>\n",
              "      <td></td>\n",
              "      <td>Funds not received from closed account</td>\n",
              "      <td>Consent not provided</td>\n",
              "    </tr>\n",
              "    <tr>\n",
              "      <th>11424</th>\n",
              "      <td>complaint-public-v2</td>\n",
              "      <td>complaint</td>\n",
              "      <td>3997453</td>\n",
              "      <td>0.0</td>\n",
              "      <td>None</td>\n",
              "      <td>33180</td>\n",
              "      <td>3997453</td>\n",
              "      <td>Opening an account</td>\n",
              "      <td>2020-12-08T12:00:00-05:00</td>\n",
              "      <td>FL</td>\n",
              "      <td>...</td>\n",
              "      <td>Closed with explanation</td>\n",
              "      <td>JPMORGAN CHASE &amp; CO.</td>\n",
              "      <td>Referral</td>\n",
              "      <td>2020-12-08T12:00:00-05:00</td>\n",
              "      <td>None</td>\n",
              "      <td>Checking account</td>\n",
              "      <td>Yes</td>\n",
              "      <td></td>\n",
              "      <td>Account opened as a result of fraud</td>\n",
              "      <td>N/A</td>\n",
              "    </tr>\n",
              "    <tr>\n",
              "      <th>11425</th>\n",
              "      <td>complaint-public-v2</td>\n",
              "      <td>complaint</td>\n",
              "      <td>3759084</td>\n",
              "      <td>0.0</td>\n",
              "      <td>None</td>\n",
              "      <td>101XX</td>\n",
              "      <td>3759084</td>\n",
              "      <td>Closing an account</td>\n",
              "      <td>2020-07-23T12:00:00-05:00</td>\n",
              "      <td>NY</td>\n",
              "      <td>...</td>\n",
              "      <td>Closed with explanation</td>\n",
              "      <td>JPMORGAN CHASE &amp; CO.</td>\n",
              "      <td>Web</td>\n",
              "      <td>2020-07-23T12:00:00-05:00</td>\n",
              "      <td>None</td>\n",
              "      <td>Checking account</td>\n",
              "      <td>Yes</td>\n",
              "      <td>XX/XX/XXXX Dear CFPB : I hope this finds you w...</td>\n",
              "      <td>NaN</td>\n",
              "      <td>NaN</td>\n",
              "    </tr>\n",
              "  </tbody>\n",
              "</table>\n",
              "<p>5 rows × 22 columns</p>\n",
              "</div>"
            ],
            "text/plain": [
              "                    _index      _type      _id  _score _source.tags  \\\n",
              "11421  complaint-public-v2  complaint  3691002     0.0         None   \n",
              "11422  complaint-public-v2  complaint  3998033     0.0         None   \n",
              "11423  complaint-public-v2  complaint  4005328     0.0         None   \n",
              "11424  complaint-public-v2  complaint  3997453     0.0         None   \n",
              "11425  complaint-public-v2  complaint  3759084     0.0         None   \n",
              "\n",
              "      _source.zip_code _source.complaint_id  \\\n",
              "11421            601XX              3691002   \n",
              "11422            19115              3998033   \n",
              "11423            701XX              4005328   \n",
              "11424            33180              3997453   \n",
              "11425            101XX              3759084   \n",
              "\n",
              "                              _source.issue      _source.date_received  \\\n",
              "11421        Trouble during payment process  2020-06-08T12:00:00-05:00   \n",
              "11422  Incorrect information on your report  2020-12-08T12:00:00-05:00   \n",
              "11423                    Closing an account  2020-12-11T12:00:00-05:00   \n",
              "11424                    Opening an account  2020-12-08T12:00:00-05:00   \n",
              "11425                    Closing an account  2020-07-23T12:00:00-05:00   \n",
              "\n",
              "      _source.state  ... _source.company_response       _source.company  \\\n",
              "11421            IL  ...  Closed with explanation  JPMORGAN CHASE & CO.   \n",
              "11422            PA  ...  Closed with explanation  JPMORGAN CHASE & CO.   \n",
              "11423            LA  ...  Closed with explanation  JPMORGAN CHASE & CO.   \n",
              "11424            FL  ...  Closed with explanation  JPMORGAN CHASE & CO.   \n",
              "11425            NY  ...  Closed with explanation  JPMORGAN CHASE & CO.   \n",
              "\n",
              "      _source.submitted_via _source.date_sent_to_company  \\\n",
              "11421              Referral    2020-06-09T12:00:00-05:00   \n",
              "11422                   Web    2020-12-08T12:00:00-05:00   \n",
              "11423                   Web    2020-12-11T12:00:00-05:00   \n",
              "11424              Referral    2020-12-08T12:00:00-05:00   \n",
              "11425                   Web    2020-07-23T12:00:00-05:00   \n",
              "\n",
              "      _source.company_public_response         _source.sub_product  \\\n",
              "11421                            None  Conventional home mortgage   \n",
              "11422                            None            Credit reporting   \n",
              "11423                            None            Checking account   \n",
              "11424                            None            Checking account   \n",
              "11425                            None            Checking account   \n",
              "\n",
              "      _source.timely                    _source.complaint_what_happened  \\\n",
              "11421            Yes                                                      \n",
              "11422            Yes                                                      \n",
              "11423            Yes                                                      \n",
              "11424            Yes                                                      \n",
              "11425            Yes  XX/XX/XXXX Dear CFPB : I hope this finds you w...   \n",
              "\n",
              "                            _source.sub_issue  \\\n",
              "11421                                    None   \n",
              "11422     Information belongs to someone else   \n",
              "11423  Funds not received from closed account   \n",
              "11424     Account opened as a result of fraud   \n",
              "11425                                     NaN   \n",
              "\n",
              "      _source.consumer_consent_provided  \n",
              "11421                               N/A  \n",
              "11422              Consent not provided  \n",
              "11423              Consent not provided  \n",
              "11424                               N/A  \n",
              "11425                               NaN  \n",
              "\n",
              "[5 rows x 22 columns]"
            ]
          },
          "execution_count": 14,
          "metadata": {},
          "output_type": "execute_result"
        }
      ],
      "source": [
        "df.tail()"
      ]
    },
    {
      "cell_type": "code",
      "execution_count": 15,
      "metadata": {
        "colab": {
          "base_uri": "https://localhost:8080/"
        },
        "id": "wU5RV6J3nC4X",
        "outputId": "e23357e1-7e4b-4f11-d988-180d9c074fa2"
      },
      "outputs": [
        {
          "data": {
            "text/plain": [
              "(11426, 22)"
            ]
          },
          "execution_count": 15,
          "metadata": {},
          "output_type": "execute_result"
        }
      ],
      "source": [
        "df.shape"
      ]
    },
    {
      "cell_type": "code",
      "execution_count": 16,
      "metadata": {
        "colab": {
          "base_uri": "https://localhost:8080/"
        },
        "id": "ysOVdlWVnCyQ",
        "outputId": "bc184680-d9b5-4eeb-b04a-774a0cbca6e7"
      },
      "outputs": [
        {
          "name": "stdout",
          "output_type": "stream",
          "text": [
            "<class 'pandas.core.frame.DataFrame'>\n",
            "RangeIndex: 11426 entries, 0 to 11425\n",
            "Data columns (total 22 columns):\n",
            " #   Column                             Non-Null Count  Dtype  \n",
            "---  ------                             --------------  -----  \n",
            " 0   _index                             11426 non-null  object \n",
            " 1   _type                              11426 non-null  object \n",
            " 2   _id                                11426 non-null  object \n",
            " 3   _score                             11426 non-null  float64\n",
            " 4   _source.tags                       1668 non-null   object \n",
            " 5   _source.zip_code                   10059 non-null  object \n",
            " 6   _source.complaint_id               11426 non-null  object \n",
            " 7   _source.issue                      11426 non-null  object \n",
            " 8   _source.date_received              11426 non-null  object \n",
            " 9   _source.state                      10965 non-null  object \n",
            " 10  _source.consumer_disputed          11426 non-null  object \n",
            " 11  _source.product                    11426 non-null  object \n",
            " 12  _source.company_response           11426 non-null  object \n",
            " 13  _source.company                    11426 non-null  object \n",
            " 14  _source.submitted_via              11426 non-null  object \n",
            " 15  _source.date_sent_to_company       11426 non-null  object \n",
            " 16  _source.company_public_response    1 non-null      object \n",
            " 17  _source.sub_product                10879 non-null  object \n",
            " 18  _source.timely                     11426 non-null  object \n",
            " 19  _source.complaint_what_happened    11426 non-null  object \n",
            " 20  _source.sub_issue                  7462 non-null   object \n",
            " 21  _source.consumer_consent_provided  11269 non-null  object \n",
            "dtypes: float64(1), object(21)\n",
            "memory usage: 1.9+ MB\n"
          ]
        }
      ],
      "source": [
        "df.info()"
      ]
    },
    {
      "cell_type": "markdown",
      "metadata": {},
      "source": [
        "Verificación de valores faltantes en el DataFrame en orden descendente"
      ]
    },
    {
      "cell_type": "code",
      "execution_count": 17,
      "metadata": {
        "colab": {
          "base_uri": "https://localhost:8080/",
          "height": 774
        },
        "id": "gtxtZ0y1nQyX",
        "outputId": "d3592280-af7a-4c1f-d075-24f94b6ffa90"
      },
      "outputs": [
        {
          "data": {
            "text/plain": [
              "_source.company_public_response      0.999912\n",
              "_source.tags                         0.854017\n",
              "_source.sub_issue                    0.346928\n",
              "_source.zip_code                     0.119639\n",
              "_source.sub_product                  0.047873\n",
              "_source.state                        0.040347\n",
              "_source.consumer_consent_provided    0.013741\n",
              "_score                               0.000000\n",
              "_index                               0.000000\n",
              "_type                                0.000000\n",
              "_id                                  0.000000\n",
              "_source.complaint_id                 0.000000\n",
              "_source.issue                        0.000000\n",
              "_source.date_received                0.000000\n",
              "_source.company                      0.000000\n",
              "_source.company_response             0.000000\n",
              "_source.product                      0.000000\n",
              "_source.consumer_disputed            0.000000\n",
              "_source.submitted_via                0.000000\n",
              "_source.date_sent_to_company         0.000000\n",
              "_source.complaint_what_happened      0.000000\n",
              "_source.timely                       0.000000\n",
              "dtype: float64"
            ]
          },
          "execution_count": 17,
          "metadata": {},
          "output_type": "execute_result"
        }
      ],
      "source": [
        "# La función df.isna().sum() calcula el número de valores faltantes (NaN) en cada columna del DataFrame.\n",
        "# df.shape[0] devuelve el número total de filas en el DataFrame.\n",
        "# Al dividir el número de valores faltantes por el número total de filas, se obtiene la proporción de valores faltantes en cada columna.\n",
        "# sort_values(ascending=False) ordena estas proporciones en orden descendente, mostrando primero las columnas con mayor proporción de valores faltantes.\n",
        "\n",
        "(df.isna().sum() / df.shape[0]).sort_values(ascending=False)"
      ]
    },
    {
      "cell_type": "markdown",
      "metadata": {},
      "source": [
        "Imprime los nombres de las columnas del DataFrame"
      ]
    },
    {
      "cell_type": "code",
      "execution_count": 18,
      "metadata": {
        "colab": {
          "base_uri": "https://localhost:8080/"
        },
        "id": "Dwcty-wmJrFw",
        "outputId": "d11f7802-6a6e-41c3-c654-3f67caa15064"
      },
      "outputs": [
        {
          "name": "stdout",
          "output_type": "stream",
          "text": [
            "Index(['_index', '_type', '_id', '_score', '_source.tags', '_source.zip_code',\n",
            "       '_source.complaint_id', '_source.issue', '_source.date_received',\n",
            "       '_source.state', '_source.consumer_disputed', '_source.product',\n",
            "       '_source.company_response', '_source.company', '_source.submitted_via',\n",
            "       '_source.date_sent_to_company', '_source.company_public_response',\n",
            "       '_source.sub_product', '_source.timely',\n",
            "       '_source.complaint_what_happened', '_source.sub_issue',\n",
            "       '_source.consumer_consent_provided'],\n",
            "      dtype='object')\n"
          ]
        }
      ],
      "source": [
        "print(df.columns)"
      ]
    },
    {
      "cell_type": "markdown",
      "metadata": {},
      "source": [
        "Definimos la funcion rename_col"
      ]
    },
    {
      "cell_type": "code",
      "execution_count": 19,
      "metadata": {
        "id": "FYCtKXD1JrFw"
      },
      "outputs": [],
      "source": [
        "# Asigna nuevos nombres a las columnas\n",
        "def rename_col(col):\n",
        "    \"\"\"\n",
        "    Renombra una columna eliminando prefijos específicos.\n",
        "\n",
        "    Parámetros:\n",
        "    col (str): El nombre original de la columna.\n",
        "\n",
        "    Retorna:\n",
        "    str: El nuevo nombre de la columna sin los prefijos '_source.' o '_'.\n",
        "    \"\"\"\n",
        "    # Si el nombre de la columna comienza con '_source', elimina este prefijo\n",
        "    if col.startswith('_source'):\n",
        "        col = col[len('_source.'):]\n",
        "    # Si el nombre de la columna comienza con '_', elimina este prefijo\n",
        "    elif col.startswith('_'):\n",
        "        col = col[1:]\n",
        "    return col"
      ]
    },
    {
      "cell_type": "markdown",
      "metadata": {},
      "source": [
        "Renombra las columnas del DataFrame utilizando la función rename_col"
      ]
    },
    {
      "cell_type": "code",
      "execution_count": 20,
      "metadata": {
        "id": "ACYEFx85n4zg"
      },
      "outputs": [],
      "source": [
        "# La función df.rename() se utiliza para renombrar las etiquetas (nombres de columnas o índices) del DataFrame.\n",
        "# Parámetros:\n",
        "# - lambda x: rename_col(x): Una función lambda que aplica la función rename_col a cada nombre de columna.\n",
        "# - axis=1: Indica que la operación se aplica a las columnas (axis=0 se aplicaría a los índices de las filas).\n",
        "# - inplace=True: Modifica el DataFrame original en lugar de devolver una copia con los cambios.\n",
        "\n",
        "df.rename(lambda x: rename_col(x), axis=1, inplace=True)"
      ]
    },
    {
      "cell_type": "code",
      "execution_count": 21,
      "metadata": {
        "colab": {
          "base_uri": "https://localhost:8080/"
        },
        "id": "AGjISjhln-5w",
        "outputId": "775832f0-68a5-43fa-f77a-486795dd0f1d"
      },
      "outputs": [
        {
          "data": {
            "text/plain": [
              "Index(['index', 'type', 'id', 'score', 'tags', 'zip_code', 'complaint_id',\n",
              "       'issue', 'date_received', 'state', 'consumer_disputed', 'product',\n",
              "       'company_response', 'company', 'submitted_via', 'date_sent_to_company',\n",
              "       'company_public_response', 'sub_product', 'timely',\n",
              "       'complaint_what_happened', 'sub_issue', 'consumer_consent_provided'],\n",
              "      dtype='object')"
            ]
          },
          "execution_count": 21,
          "metadata": {},
          "output_type": "execute_result"
        }
      ],
      "source": [
        "df.columns"
      ]
    },
    {
      "cell_type": "markdown",
      "metadata": {},
      "source": [
        "Asigna NaN en lugar de cadenas vacías en la columna 'complaint_what_happened'"
      ]
    },
    {
      "cell_type": "code",
      "execution_count": 22,
      "metadata": {
        "id": "grQUPFL5JrFx"
      },
      "outputs": [],
      "source": [
        "# La función df['complaint_what_happened'].replace() se utiliza para reemplazar valores específicos en una columna del DataFrame.\n",
        "# Parámetros:\n",
        "# - '': El valor que se desea reemplazar, en este caso, cadenas vacías.\n",
        "# - np.nan: El nuevo valor que reemplazará las cadenas vacías, en este caso, NaN (Not a Number), que representa valores faltantes.\n",
        "# - inplace=True: Modifica el DataFrame original en lugar de devolver una copia con los cambios.\n",
        "\n",
        "df['complaint_what_happened'].replace('', np.nan, inplace=True)"
      ]
    },
    {
      "cell_type": "code",
      "execution_count": 23,
      "metadata": {
        "colab": {
          "base_uri": "https://localhost:8080/",
          "height": 53
        },
        "id": "aFm4IycRoNcE",
        "outputId": "05de0e09-3eca-4f64-c70e-75039d24b6ca"
      },
      "outputs": [
        {
          "data": {
            "text/plain": [
              "'Good morning my name is XXXX XXXX and I appreciate it if you could help me put a stop to Chase Bank cardmember services. \\nIn 2018 I wrote to Chase asking for debt verification and what they sent me a statement which is not acceptable. I am asking the bank to validate the debt. Instead I been receiving mail every month from them attempting to collect a debt. \\nI have a right to know this information as a consumer. \\n\\nChase account # XXXX XXXX XXXX XXXX Thanks in advance for your help.'"
            ]
          },
          "execution_count": 23,
          "metadata": {},
          "output_type": "execute_result"
        }
      ],
      "source": [
        "df['complaint_what_happened'][1]"
      ]
    },
    {
      "cell_type": "code",
      "execution_count": 24,
      "metadata": {
        "colab": {
          "base_uri": "https://localhost:8080/"
        },
        "id": "Jfxd8VSmJrFy",
        "outputId": "de39e498-65b4-44b4-abee-0236d1d62270"
      },
      "outputs": [
        {
          "data": {
            "text/plain": [
              "np.int64(7395)"
            ]
          },
          "execution_count": 24,
          "metadata": {},
          "output_type": "execute_result"
        }
      ],
      "source": [
        "# Cuenta el número de valores NaN en la columna 'complaint_what_happened' después de eliminar las filas con NaN\n",
        "# La función df['complaint_what_happened'].isnull().sum() cuenta el número de valores NaN en la columna especificada.\n",
        "# No requiere parámetros adicionales.\n",
        "# Devuelve un entero que representa el número de valores NaN en la columna 'complaint_what_happened'.\n",
        "\n",
        "df['complaint_what_happened'].isnull().sum()"
      ]
    },
    {
      "cell_type": "markdown",
      "metadata": {},
      "source": [
        "Elimina todas las filas donde la columna 'complaint_what_happened' es NaN"
      ]
    },
    {
      "cell_type": "code",
      "execution_count": 25,
      "metadata": {
        "id": "7daXHsEdhlwv"
      },
      "outputs": [],
      "source": [
        "# La función df.dropna() se utiliza para eliminar filas o columnas con valores faltantes (NaN) en el DataFrame.\n",
        "# Parámetros:\n",
        "# - subset=['complaint_what_happened']: Especifica que solo se deben considerar los valores faltantes en la columna 'complaint_what_happened'.\n",
        "# - inplace=True: Modifica el DataFrame original en lugar de devolver una copia con los cambios.\n",
        "\n",
        "df.dropna(subset=['complaint_what_happened'], inplace=True)"
      ]
    },
    {
      "cell_type": "code",
      "execution_count": 26,
      "metadata": {
        "colab": {
          "base_uri": "https://localhost:8080/"
        },
        "id": "KuWygO6TrGe0",
        "outputId": "ae0306f8-f755-4542-e4c4-440cbb1d01e5"
      },
      "outputs": [
        {
          "data": {
            "text/plain": [
              "(4031, 22)"
            ]
          },
          "execution_count": 26,
          "metadata": {},
          "output_type": "execute_result"
        }
      ],
      "source": [
        "df.shape"
      ]
    },
    {
      "cell_type": "markdown",
      "metadata": {},
      "source": [
        "El DataFrame df tiene:\n",
        "*21,072 filas: Cada fila representa una queja individual en tu conjunto de datos.\n",
        "*22 columnas: Cada columna representa una característica o atributo diferente de las quejas, como puede ser el texto de la queja, la fecha, el tipo de producto, etc."
      ]
    },
    {
      "cell_type": "markdown",
      "metadata": {
        "id": "L944HZpsJrFy"
      },
      "source": [
        "## Prepare the text for topic modeling\n",
        "\n",
        "Una vez que haya eliminado todas las quejas en blanco, debe:\n",
        "\n",
        "* Make the text lowercase\n",
        "* Remove text in square brackets\n",
        "* Remove punctuation\n",
        "* Remove words containing numbers\n",
        "\n",
        "Una vez que haya realizado estas operaciones de limpieza, debe realizar lo siguiente:\n",
        "\n",
        "* Lemmatize the texts\n",
        "* Extract the POS tags of the lemmatized text and remove all the words which have tags other than NN[tag == \"NN\"].\n"
      ]
    },
    {
      "cell_type": "markdown",
      "metadata": {},
      "source": [
        "Definimos la función clean_text para limpiar el texto y eliminar todos los elementos innecesarios"
      ]
    },
    {
      "cell_type": "code",
      "execution_count": 27,
      "metadata": {
        "id": "qm7SjjSkJrFz"
      },
      "outputs": [],
      "source": [
        "def clean_text(text):\n",
        "    \"\"\"\n",
        "    Limpia el texto eliminando elementos innecesarios como puntuación, saltos de línea, \n",
        "    palabras con números y espacios en blanco adicionales.\n",
        "\n",
        "    Parámetros:\n",
        "    text (str): El texto original que se desea limpiar.\n",
        "\n",
        "    Retorna:\n",
        "    str: El texto limpio.\n",
        "    \"\"\"\n",
        "    # Convierte el texto a minúsculas\n",
        "    text = text.lower()\n",
        "    \n",
        "    # Elimina el texto dentro de corchetes\n",
        "    text = re.sub(r'\\[.*?\\]', ' ', text)\n",
        "    \n",
        "    # Elimina la puntuación\n",
        "    text = re.sub(r'[^\\w\\s]', ' ', text)\n",
        "    \n",
        "    # Elimina los saltos de línea\n",
        "    text = re.sub(r'\\n', '', text)\n",
        "    \n",
        "    # Elimina las palabras que contienen números\n",
        "    text = re.sub(r'\\b\\w*\\d\\w*\\b', ' ', text)\n",
        "    \n",
        "    # Elimina los espacios en blanco innecesarios\n",
        "    text = re.sub(r' +', ' ', text)\n",
        "    \n",
        "    return text"
      ]
    },
    {
      "cell_type": "markdown",
      "metadata": {},
      "source": [
        "Limpia el texto en la columna 'complaint_what_happened' del DataFrame"
      ]
    },
    {
      "cell_type": "code",
      "execution_count": 28,
      "metadata": {
        "id": "U8FJwsfLrav2"
      },
      "outputs": [],
      "source": [
        "# Obtiene el número total de filas en el DataFrame\n",
        "rows = df.shape[0]\n",
        "\n",
        "# Reinicia los índices del DataFrame y descarta el índice anterior\n",
        "# Parámetros:\n",
        "# - drop=True: Elimina el índice anterior en lugar de añadirlo como una columna.\n",
        "df = df.reset_index(drop=True)\n",
        "\n",
        "# Itera sobre cada fila del DataFrame\n",
        "for i in range(rows):\n",
        "    # Limpia el texto en la columna 'complaint_what_happened' utilizando la función clean_text\n",
        "    # Parámetros:\n",
        "    # - df['complaint_what_happened'][i]: El texto original en la fila 'i' de la columna 'complaint_what_happened'.\n",
        "    # La función clean_text devuelve el texto limpio, que se asigna de nuevo a la misma celda del DataFrame.\n",
        "    df['complaint_what_happened'][i] = clean_text(df['complaint_what_happened'][i])\n"
      ]
    },
    {
      "cell_type": "code",
      "execution_count": 29,
      "metadata": {
        "colab": {
          "base_uri": "https://localhost:8080/",
          "height": 458
        },
        "id": "4ikB4s0XvG9T",
        "outputId": "aad92db0-3dcc-4b05-d6c0-40b5cf8edcc5"
      },
      "outputs": [
        {
          "data": {
            "text/plain": [
              "0       good morning my name is xxxx xxxx and i apprec...\n",
              "1       i upgraded my xxxx xxxx card in xx xx and was ...\n",
              "2       chase card was reported on xx xx however fraud...\n",
              "3       on xx xx while trying to book a xxxx xxxx tick...\n",
              "4       my grand son give me check for i deposit it in...\n",
              "                              ...                        \n",
              "4026    jpmcb auto finance has been on my credit repor...\n",
              "4027    on xx xx xxxx a vendor double charged my chase...\n",
              "4028    i filed an application for a mortgage refinanc...\n",
              "4029    re claim xxxx i do not feel that chase bank pr...\n",
              "4030    xx xx xxxx dear cfpb i hope this finds you wel...\n",
              "Name: complaint_what_happened, Length: 4031, dtype: object"
            ]
          },
          "execution_count": 29,
          "metadata": {},
          "output_type": "execute_result"
        }
      ],
      "source": [
        "df['complaint_what_happened']"
      ]
    },
    {
      "cell_type": "code",
      "execution_count": 30,
      "metadata": {
        "colab": {
          "base_uri": "https://localhost:8080/"
        },
        "id": "YD95LN5htZZ-",
        "outputId": "6b2e050e-e4a3-45fd-c70f-490e51905108"
      },
      "outputs": [
        {
          "data": {
            "text/plain": [
              "(4031, 22)"
            ]
          },
          "execution_count": 30,
          "metadata": {},
          "output_type": "execute_result"
        }
      ],
      "source": [
        "df.shape"
      ]
    },
    {
      "cell_type": "code",
      "execution_count": 31,
      "metadata": {
        "id": "zgOu8t8HJrFz"
      },
      "outputs": [],
      "source": [
        "# Importa la biblioteca spaCy para procesamiento de lenguaje natural\n",
        "import spacy\n",
        "\n",
        "# Obtiene la lista de palabras vacías (stop words) en inglés de spaCy\n",
        "stop_words = spacy.lang.en.stop_words.STOP_WORDS\n",
        "\n",
        "# Carga el modelo de lenguaje en inglés de spaCy\n",
        "# El modelo \"en_core_web_sm\" es un modelo pequeño que incluye tokenización, etiquetado de partes del discurso, \n",
        "# lematización, reconocimiento de entidades nombradas y más.\n",
        "nlp = spacy.load(\"en_core_web_sm\")\n",
        "\n",
        "def lemmatize_text(text):\n",
        "    \"\"\"\n",
        "    Lematiza el texto eliminando las palabras vacías.\n",
        "\n",
        "    Parámetros:\n",
        "    text (str): El texto original que se desea lematizar.\n",
        "\n",
        "    Retorna:\n",
        "    str: El texto lematizado sin palabras vacías.\n",
        "    \"\"\"\n",
        "    # Procesa el texto utilizando el modelo de spaCy\n",
        "    doc = nlp(text)\n",
        "    \n",
        "    # Lematiza cada token y elimina las palabras vacías\n",
        "    # La lista de comprensión recorre cada token en el documento procesado 'doc'\n",
        "    # token.lemma_ obtiene la forma lematizada del token\n",
        "    # token.is_stop verifica si el token es una palabra vacía\n",
        "    lemmatized_text = \" \".join([token.lemma_ for token in doc if not token.is_stop])\n",
        "    \n",
        "    return lemmatized_text"
      ]
    },
    {
      "cell_type": "code",
      "execution_count": 32,
      "metadata": {
        "colab": {
          "base_uri": "https://localhost:8080/",
          "height": 87
        },
        "id": "eIkZyst_wnrc",
        "outputId": "eb4075d7-61d6-4f17-d167-893eb855230c"
      },
      "outputs": [
        {
          "data": {
            "text/plain": [
              "'complaint chase bank deny open check account refuse explanation chase credit card issue credit card chase bank timeline note check account denial xx xx xxxx meet xxxx xxxx private client banker xxxx xxxx xxxx location open check account check xxxx xxxx xxxx personal checking account chase check recently close chase credit card give pre print check deposit slip chase total checking account xxxx xxxx mention account close review tell reason idea assume boiler plate language assume not close electronically sign document receive copy xx xx xxxx xxxx account alert screen shot new application inquiry xx xx xxxx email chase debit atm xx xx xxxx email chase mobile app request sign mobile app electronic copy disclosure sign open account note long account long access document xx xx xxxx ask xxxx copy document receive printout deposit account agreement privacy notice xx xx xxxx xxxx account alert new account opening xx xx xxxx email chase account tool xx xx xxxx receive activate atm card xxxx exp xx xx xxxx xx xx xxxx email chase new account xx xx xxxx chance discover new checking account close notification receive discover lock online access credit card call number talk people yield message specific give account close tell account long maintain office decide end relationship tell chase require reasonthere specific reasonthe local branch reasonthe letter send reason inform online credit card access reinstate checking account officially close reinstatement tell checking account restrict xx xx xxxx letter date xx xx xxxx mail not sense account restrict xx xx xxxx able activate atm card xx xx xxxx conversation record line hang xx xx xxxx credit score xxxx xxxx xxxx xxxx xxxx xxxx xxxx xx xx xxxx meet xxxx xxxx xxxx branch manager vice president determine occur number folk basically say chase decide effective xx xx xxxx long maintain relationship reason unable provide clarity xxxx call internal department inform specific reason give xxxx elude see system closed account xxxx xxxx provide specific information xxxx say person phone say chase require disclose account close state initial document sign request paper copy document give deposit account agreement privacy notice find state appear chase bank history comply fair credit reporting act https www consumerfinance govxxxx xxxx say investigate send escalation xx xx xxxx email xxxx xxxx local bank branch manager xx xx xxxx xxxx afternoon mail receive letter chase tell specific reason give letter date xx xx xxxx appear identical letter give specific reason state inability verify identity reference xxxx credit score xxxx letter contact phone number not understand letter english letter chase xxxx xxxx tx letter date xx xx xxxx chase xxxx ohio state account block soon close information obtain consumer reporting agency xx xx xxxx email chase know overdraft option invite set overdraft preference xx xx xxxx email chase low balance alert xx xx xxxx phone record line xxxx branch escalation complaint dept xxxx xxxx ext xxxx case xxxx email xxxx send state chase decide long maintain relationship require specific reason say credit score bearing decision open checking account unable provide specific say tell xxxx xxxx credit banking separate influence decision chase bank generic response give specific provide say end line recourse resource contact option subpoena chase bank try obtain reason say not system letter date xx xx xxxx suggest number letter let know phone number letter say department supply information banking loss prevention department state letter send siting specific read letter suggest copy xxxx allow email directly say specific stay internal subpoena way possibly able obtain specific account close mention see closed account xxxx allow specific ask dig obtain letter xxxx xx xx xxxx phone record line xxxx get letter xxxx forward office say credit score bearing decision letter reference xxxx say human create letter date xx xx xxxx generic automatic thing state bank want bank say review account open close state xxxx open account place base note system note system enter banking relationship credit card chase state banking credit separate thing press press step state end line base action occur xxxx alert system open account say decision final recourse press write executive office chase bank xxxx xxxx xxxx xxxx ohio xxxx email unlikely yield resolution subpoena xx xx xxxx start process request specialized consumer disclosure report xx xx xxxx receive refund check chase date xx xx xxxx initial account opening note check stub say close account s attach check remain balance s xx xx xxxx receive marketing mail invite open chase check account xx xx xxxx email xxxx xxxx xxxx mt request find derogatory information submit xxxx personally business xxxx relation xxxx xxxx xxxx span year derogatory issue xx xx xxxx receive xxxx report information file xx xx xxxx receive xxxx report information find social security number validation xxxx xx xx xxxx proceed consumer financial protection bureau complaint contact information xxxx xxxx xxxx private client banker nmls d xxxx xxxx xxxx xxxx xxxx xxxx xxxx nmls d xxxx xxxx xxxx xxxx branch escalation complaint dept xxxx xxxx ext xxxx'"
            ]
          },
          "execution_count": 32,
          "metadata": {},
          "output_type": "execute_result"
        }
      ],
      "source": [
        "lemmatize_text(clean_text(df['complaint_what_happened'][101]))"
      ]
    },
    {
      "cell_type": "markdown",
      "metadata": {},
      "source": [
        "Aplica la limpieza de datos a la columna 'complaint_what_happened'"
      ]
    },
    {
      "cell_type": "code",
      "execution_count": 33,
      "metadata": {
        "colab": {
          "base_uri": "https://localhost:8080/"
        },
        "id": "5OcX4oJeyMbS",
        "outputId": "2973ba90-96fe-4ee3-b321-5433527a771f"
      },
      "outputs": [
        {
          "name": "stderr",
          "output_type": "stream",
          "text": [
            "100%|██████████| 4031/4031 [00:00<00:00, 6043.05it/s]\n"
          ]
        }
      ],
      "source": [
        "# Importa la biblioteca tqdm para mostrar barras de progreso en bucles\n",
        "from tqdm import tqdm\n",
        "\n",
        "# Inicializa tqdm para usarlo con pandas\n",
        "# La función tqdm.pandas() permite usar tqdm con las funciones de pandas, como apply, para mostrar una barra de progreso.\n",
        "tqdm.pandas()\n",
        "\n",
        "# Crea un nuevo DataFrame para almacenar los datos limpios\n",
        "df_clean = pd.DataFrame()\n",
        "\n",
        "# Aplica la función de limpieza de texto a cada elemento de la columna 'complaint_what_happened'\n",
        "# Parámetros:\n",
        "# - df['complaint_what_happened']: La Serie de pandas que contiene los textos originales.\n",
        "# - progress_apply(lambda x: clean_text(x)): Aplica la función clean_text a cada elemento de la Serie, mostrando una barra de progreso.\n",
        "# La función lambda toma cada texto 'x' y aplica la función clean_text a él.\n",
        "# El resultado se almacena en la nueva columna 'complaints' del DataFrame df_clean.\n",
        "df_clean['complaints'] = df['complaint_what_happened'].progress_apply(lambda x: clean_text(x))"
      ]
    },
    {
      "cell_type": "code",
      "execution_count": 34,
      "metadata": {
        "colab": {
          "base_uri": "https://localhost:8080/"
        },
        "id": "VOp5O30Xyfb5",
        "outputId": "cdc7b27a-1b27-47ab-ec1a-526e7896bd7d"
      },
      "outputs": [
        {
          "data": {
            "text/plain": [
              "(4031, 1)"
            ]
          },
          "execution_count": 34,
          "metadata": {},
          "output_type": "execute_result"
        }
      ],
      "source": [
        "df_clean.shape"
      ]
    },
    {
      "cell_type": "code",
      "execution_count": 35,
      "metadata": {
        "colab": {
          "base_uri": "https://localhost:8080/"
        },
        "id": "thDH7gH0yi8S",
        "outputId": "11d67d4d-be8e-4284-9a29-0dc5664e8233"
      },
      "outputs": [
        {
          "name": "stderr",
          "output_type": "stream",
          "text": [
            "100%|██████████| 4031/4031 [02:12<00:00, 30.48it/s]\n"
          ]
        }
      ],
      "source": [
        "# Inicializa tqdm para usarlo con pandas\n",
        "# La función tqdm.pandas() permite usar tqdm con las funciones de pandas, como apply, para mostrar una barra de progreso.\n",
        "tqdm.pandas()\n",
        "\n",
        "# Aplica la lematización a la columna 'complaints' y guarda el resultado en una nueva columna 'lemmatized'\n",
        "# Parámetros:\n",
        "# - df_clean['complaints']: La Serie de pandas que contiene los textos limpios.\n",
        "# - progress_apply(lambda x: lemmatize_text(x)): Aplica la función lemmatize_text a cada elemento de la Serie, mostrando una barra de progreso.\n",
        "# La función lambda toma cada texto 'x' y aplica la función lemmatize_text a él.\n",
        "# El resultado se almacena en la nueva columna 'lemmatized' del DataFrame df_clean.\n",
        "df_clean['lemmatized'] = df_clean['complaints'].progress_apply(lambda x: lemmatize_text(x))"
      ]
    },
    {
      "cell_type": "code",
      "execution_count": 36,
      "metadata": {
        "colab": {
          "base_uri": "https://localhost:8080/"
        },
        "id": "P9UniGFP0YPy",
        "outputId": "7181e26f-819b-42ee-e687-58674ef68750"
      },
      "outputs": [
        {
          "data": {
            "text/plain": [
              "(4031, 2)"
            ]
          },
          "execution_count": 36,
          "metadata": {},
          "output_type": "execute_result"
        }
      ],
      "source": [
        "df_clean.shape"
      ]
    },
    {
      "cell_type": "code",
      "execution_count": 37,
      "metadata": {
        "colab": {
          "base_uri": "https://localhost:8080/",
          "height": 1000
        },
        "id": "ZpXOw6ZY0lTT",
        "outputId": "56fc9a08-f42c-4c90-f514-5a9f118cf191"
      },
      "outputs": [
        {
          "data": {
            "text/html": [
              "<div>\n",
              "<style scoped>\n",
              "    .dataframe tbody tr th:only-of-type {\n",
              "        vertical-align: middle;\n",
              "    }\n",
              "\n",
              "    .dataframe tbody tr th {\n",
              "        vertical-align: top;\n",
              "    }\n",
              "\n",
              "    .dataframe thead th {\n",
              "        text-align: right;\n",
              "    }\n",
              "</style>\n",
              "<table border=\"1\" class=\"dataframe\">\n",
              "  <thead>\n",
              "    <tr style=\"text-align: right;\">\n",
              "      <th></th>\n",
              "      <th>complaints</th>\n",
              "      <th>lemmatized</th>\n",
              "    </tr>\n",
              "  </thead>\n",
              "  <tbody>\n",
              "    <tr>\n",
              "      <th>0</th>\n",
              "      <td>good morning my name is xxxx xxxx and i apprec...</td>\n",
              "      <td>good morning xxxx xxxx appreciate help stop ch...</td>\n",
              "    </tr>\n",
              "    <tr>\n",
              "      <th>1</th>\n",
              "      <td>i upgraded my xxxx xxxx card in xx xx and was ...</td>\n",
              "      <td>upgrade xxxx xxxx card xx xx tell agent upgrad...</td>\n",
              "    </tr>\n",
              "    <tr>\n",
              "      <th>2</th>\n",
              "      <td>chase card was reported on xx xx however fraud...</td>\n",
              "      <td>chase card report xx xx fraudulent application...</td>\n",
              "    </tr>\n",
              "    <tr>\n",
              "      <th>3</th>\n",
              "      <td>on xx xx while trying to book a xxxx xxxx tick...</td>\n",
              "      <td>xx xx try book xxxx xxxx ticket come offer app...</td>\n",
              "    </tr>\n",
              "    <tr>\n",
              "      <th>4</th>\n",
              "      <td>my grand son give me check for i deposit it in...</td>\n",
              "      <td>grand son check deposit chase account fund cle...</td>\n",
              "    </tr>\n",
              "    <tr>\n",
              "      <th>5</th>\n",
              "      <td>can you please remove inquiry</td>\n",
              "      <td>remove inquiry</td>\n",
              "    </tr>\n",
              "    <tr>\n",
              "      <th>6</th>\n",
              "      <td>with out notice j p morgan chase restricted my...</td>\n",
              "      <td>notice j p morgan chase restrict account debit...</td>\n",
              "    </tr>\n",
              "    <tr>\n",
              "      <th>7</th>\n",
              "      <td>during the summer months i experience a declin...</td>\n",
              "      <td>summer month experience decline income employm...</td>\n",
              "    </tr>\n",
              "    <tr>\n",
              "      <th>8</th>\n",
              "      <td>on xxxx xx xx i made a payment to an online re...</td>\n",
              "      <td>xxxx xx xx payment online retailer chase quick...</td>\n",
              "    </tr>\n",
              "    <tr>\n",
              "      <th>9</th>\n",
              "      <td>i have a chase credit card which is incorrectl...</td>\n",
              "      <td>chase credit card incorrectly report datum cre...</td>\n",
              "    </tr>\n",
              "    <tr>\n",
              "      <th>10</th>\n",
              "      <td>mishandling of this account by chase auto and ...</td>\n",
              "      <td>mishandle account chase auto xxxx</td>\n",
              "    </tr>\n",
              "    <tr>\n",
              "      <th>11</th>\n",
              "      <td>i have reached out to xxxx several times in at...</td>\n",
              "      <td>reach xxxx time attempt fraudulent inquiry rem...</td>\n",
              "    </tr>\n",
              "    <tr>\n",
              "      <th>12</th>\n",
              "      <td>i opened an account with chase bank on xxxx an...</td>\n",
              "      <td>open account chase bank xxxx code xxxx bonus c...</td>\n",
              "    </tr>\n",
              "    <tr>\n",
              "      <th>13</th>\n",
              "      <td>to whom it may concern chase bank charged wron...</td>\n",
              "      <td>concern chase bank charge wrongly overdraft fe...</td>\n",
              "    </tr>\n",
              "    <tr>\n",
              "      <th>14</th>\n",
              "      <td>my chase amazon card was declined for a cateri...</td>\n",
              "      <td>chase amazon card decline catering order place...</td>\n",
              "    </tr>\n",
              "    <tr>\n",
              "      <th>15</th>\n",
              "      <td>i opened the saving account for the bonus i wa...</td>\n",
              "      <td>open save account bonus suppose received bonus...</td>\n",
              "    </tr>\n",
              "    <tr>\n",
              "      <th>16</th>\n",
              "      <td>xxxx xxxx a sofa love seat table and chairs an...</td>\n",
              "      <td>xxxx xxxx sofa love seat table chair deliver d...</td>\n",
              "    </tr>\n",
              "    <tr>\n",
              "      <th>17</th>\n",
              "      <td>my card went missing and i didnt realize it un...</td>\n",
              "      <td>card go missing not realize today check email ...</td>\n",
              "    </tr>\n",
              "    <tr>\n",
              "      <th>18</th>\n",
              "      <td>chase sent me an email today with the innocuou...</td>\n",
              "      <td>chase send email today innocuous title importa...</td>\n",
              "    </tr>\n",
              "    <tr>\n",
              "      <th>19</th>\n",
              "      <td>i made a purchase with xxxx xxxx xxxx on xx xx...</td>\n",
              "      <td>purchase xxxx xxxx xxxx xx xx charge twice tra...</td>\n",
              "    </tr>\n",
              "    <tr>\n",
              "      <th>20</th>\n",
              "      <td>jp morgan chase bank please answer the followi...</td>\n",
              "      <td>jp morgan chase bank answer following question...</td>\n",
              "    </tr>\n",
              "    <tr>\n",
              "      <th>21</th>\n",
              "      <td>i am a senior citizen that has been scammed by...</td>\n",
              "      <td>senior citizen scamme company xxxx xxxx pay ti...</td>\n",
              "    </tr>\n",
              "    <tr>\n",
              "      <th>22</th>\n",
              "      <td>my roommate was stealing my chase debit card a...</td>\n",
              "      <td>roommate steal chase debit card driver license...</td>\n",
              "    </tr>\n",
              "    <tr>\n",
              "      <th>23</th>\n",
              "      <td>i have been trying to do a loan modification w...</td>\n",
              "      <td>try loan modification chase runaround m mo not...</td>\n",
              "    </tr>\n",
              "    <tr>\n",
              "      <th>24</th>\n",
              "      <td>i made a purchase of on xx xx xxxx i made paym...</td>\n",
              "      <td>purchase xx xx xxxx payment xx xx xxxx xx xx x...</td>\n",
              "    </tr>\n",
              "    <tr>\n",
              "      <th>25</th>\n",
              "      <td>i currently have over xxxx chase ultimate rewa...</td>\n",
              "      <td>currently xxxx chase ultimate reward point wor...</td>\n",
              "    </tr>\n",
              "    <tr>\n",
              "      <th>26</th>\n",
              "      <td>i tried to send almost at xxxx and the transac...</td>\n",
              "      <td>try send xxxx transaction cancel have d charge...</td>\n",
              "    </tr>\n",
              "    <tr>\n",
              "      <th>27</th>\n",
              "      <td>chase is marketing credit cards to those of us...</td>\n",
              "      <td>chase market credit card good credit like s go...</td>\n",
              "    </tr>\n",
              "    <tr>\n",
              "      <th>28</th>\n",
              "      <td>i opened the chase xxxx xxxx rewards credit ca...</td>\n",
              "      <td>open chase xxxx xxxx reward credit card time v...</td>\n",
              "    </tr>\n",
              "    <tr>\n",
              "      <th>29</th>\n",
              "      <td>someone called stating i had felony committed ...</td>\n",
              "      <td>call state felony commit social security numbe...</td>\n",
              "    </tr>\n",
              "    <tr>\n",
              "      <th>30</th>\n",
              "      <td>i have wired through one of chase branches in ...</td>\n",
              "      <td>wire chase branch xxxx xxxx exact reinstatemen...</td>\n",
              "    </tr>\n",
              "    <tr>\n",
              "      <th>31</th>\n",
              "      <td>my dispute is for not receiving services liste...</td>\n",
              "      <td>dispute receive service list night hotel xxxx ...</td>\n",
              "    </tr>\n",
              "    <tr>\n",
              "      <th>32</th>\n",
              "      <td>i bought a new xxxx xxxx on xx xx xxxx from xx...</td>\n",
              "      <td>buy new xxxx xxxx xx xx xxxx xxxx xxxx xxxx xx...</td>\n",
              "    </tr>\n",
              "    <tr>\n",
              "      <th>33</th>\n",
              "      <td>i recently called to ask chase bank why they r...</td>\n",
              "      <td>recently call ask chase bank report credit bur...</td>\n",
              "    </tr>\n",
              "    <tr>\n",
              "      <th>34</th>\n",
              "      <td>unknown inquire reported on my credit bureau s...</td>\n",
              "      <td>unknown inquire report credit bureau xxxx xxxx...</td>\n",
              "    </tr>\n",
              "    <tr>\n",
              "      <th>35</th>\n",
              "      <td>a student loan with chase bank they sold there...</td>\n",
              "      <td>student loan chase bank sell account xxxx hold...</td>\n",
              "    </tr>\n",
              "    <tr>\n",
              "      <th>36</th>\n",
              "      <td>i pre ordered an item on xx xx xxxx and paid w...</td>\n",
              "      <td>pre order item xx xx xxxx pay chase credit car...</td>\n",
              "    </tr>\n",
              "    <tr>\n",
              "      <th>37</th>\n",
              "      <td>in xx xx several transactions on my chase chec...</td>\n",
              "      <td>xx xx transaction chase checking account fraud...</td>\n",
              "    </tr>\n",
              "    <tr>\n",
              "      <th>38</th>\n",
              "      <td>on xx xx we purchased a service with xxxx xxxx...</td>\n",
              "      <td>xx xx purchase service xxxx xxxx xxxx xxxx kno...</td>\n",
              "    </tr>\n",
              "    <tr>\n",
              "      <th>39</th>\n",
              "      <td>i am writing you to file a complaint about an ...</td>\n",
              "      <td>write file complaint unresolved issue credit c...</td>\n",
              "    </tr>\n",
              "    <tr>\n",
              "      <th>40</th>\n",
              "      <td>on xx xx i paid off my chase credit card in fu...</td>\n",
              "      <td>xx xx pay chase credit card early time month v...</td>\n",
              "    </tr>\n",
              "    <tr>\n",
              "      <th>41</th>\n",
              "      <td>my name is xxxx xxxx i have missed a payment i...</td>\n",
              "      <td>xxxx xxxx miss payment xx xx day past current ...</td>\n",
              "    </tr>\n",
              "    <tr>\n",
              "      <th>42</th>\n",
              "      <td>i have contacted both chase bank and xxxx xxxx...</td>\n",
              "      <td>contact chase bank xxxx xxxx credit inquiry in...</td>\n",
              "    </tr>\n",
              "    <tr>\n",
              "      <th>43</th>\n",
              "      <td>i purchase is an airline ticket on xx xx xxxx ...</td>\n",
              "      <td>purchase airline ticket xx xx xxxx xxxx dollar...</td>\n",
              "    </tr>\n",
              "    <tr>\n",
              "      <th>44</th>\n",
              "      <td>on xx xx xxxx i received an advertisement via ...</td>\n",
              "      <td>xx xx xxxx receive advertisement email new cha...</td>\n",
              "    </tr>\n",
              "    <tr>\n",
              "      <th>45</th>\n",
              "      <td>i advised chase of the billing error for goods...</td>\n",
              "      <td>advise chase billing error good service receiv...</td>\n",
              "    </tr>\n",
              "    <tr>\n",
              "      <th>46</th>\n",
              "      <td>multiple times with the latest being xx xx xxx...</td>\n",
              "      <td>multiple time late xx xx xxxx chase manipulate...</td>\n",
              "    </tr>\n",
              "    <tr>\n",
              "      <th>47</th>\n",
              "      <td>i am xxxx military member xxxx with the xxxx c...</td>\n",
              "      <td>xxxx military member xxxx xxxx chase auto fina...</td>\n",
              "    </tr>\n",
              "    <tr>\n",
              "      <th>48</th>\n",
              "      <td>i have contacted jp morgan chase as well as xx...</td>\n",
              "      <td>contact jp morgan chase xxxx credit report cha...</td>\n",
              "    </tr>\n",
              "    <tr>\n",
              "      <th>49</th>\n",
              "      <td>this complaint is a follow up regarding a comp...</td>\n",
              "      <td>complaint follow complaint xxxx file cfpb orig...</td>\n",
              "    </tr>\n",
              "  </tbody>\n",
              "</table>\n",
              "</div>"
            ],
            "text/plain": [
              "                                           complaints  \\\n",
              "0   good morning my name is xxxx xxxx and i apprec...   \n",
              "1   i upgraded my xxxx xxxx card in xx xx and was ...   \n",
              "2   chase card was reported on xx xx however fraud...   \n",
              "3   on xx xx while trying to book a xxxx xxxx tick...   \n",
              "4   my grand son give me check for i deposit it in...   \n",
              "5                       can you please remove inquiry   \n",
              "6   with out notice j p morgan chase restricted my...   \n",
              "7   during the summer months i experience a declin...   \n",
              "8   on xxxx xx xx i made a payment to an online re...   \n",
              "9   i have a chase credit card which is incorrectl...   \n",
              "10  mishandling of this account by chase auto and ...   \n",
              "11  i have reached out to xxxx several times in at...   \n",
              "12  i opened an account with chase bank on xxxx an...   \n",
              "13  to whom it may concern chase bank charged wron...   \n",
              "14  my chase amazon card was declined for a cateri...   \n",
              "15  i opened the saving account for the bonus i wa...   \n",
              "16  xxxx xxxx a sofa love seat table and chairs an...   \n",
              "17  my card went missing and i didnt realize it un...   \n",
              "18  chase sent me an email today with the innocuou...   \n",
              "19  i made a purchase with xxxx xxxx xxxx on xx xx...   \n",
              "20  jp morgan chase bank please answer the followi...   \n",
              "21  i am a senior citizen that has been scammed by...   \n",
              "22  my roommate was stealing my chase debit card a...   \n",
              "23  i have been trying to do a loan modification w...   \n",
              "24  i made a purchase of on xx xx xxxx i made paym...   \n",
              "25  i currently have over xxxx chase ultimate rewa...   \n",
              "26  i tried to send almost at xxxx and the transac...   \n",
              "27  chase is marketing credit cards to those of us...   \n",
              "28  i opened the chase xxxx xxxx rewards credit ca...   \n",
              "29  someone called stating i had felony committed ...   \n",
              "30  i have wired through one of chase branches in ...   \n",
              "31  my dispute is for not receiving services liste...   \n",
              "32  i bought a new xxxx xxxx on xx xx xxxx from xx...   \n",
              "33  i recently called to ask chase bank why they r...   \n",
              "34  unknown inquire reported on my credit bureau s...   \n",
              "35  a student loan with chase bank they sold there...   \n",
              "36  i pre ordered an item on xx xx xxxx and paid w...   \n",
              "37  in xx xx several transactions on my chase chec...   \n",
              "38  on xx xx we purchased a service with xxxx xxxx...   \n",
              "39  i am writing you to file a complaint about an ...   \n",
              "40  on xx xx i paid off my chase credit card in fu...   \n",
              "41  my name is xxxx xxxx i have missed a payment i...   \n",
              "42  i have contacted both chase bank and xxxx xxxx...   \n",
              "43  i purchase is an airline ticket on xx xx xxxx ...   \n",
              "44  on xx xx xxxx i received an advertisement via ...   \n",
              "45  i advised chase of the billing error for goods...   \n",
              "46  multiple times with the latest being xx xx xxx...   \n",
              "47  i am xxxx military member xxxx with the xxxx c...   \n",
              "48  i have contacted jp morgan chase as well as xx...   \n",
              "49  this complaint is a follow up regarding a comp...   \n",
              "\n",
              "                                           lemmatized  \n",
              "0   good morning xxxx xxxx appreciate help stop ch...  \n",
              "1   upgrade xxxx xxxx card xx xx tell agent upgrad...  \n",
              "2   chase card report xx xx fraudulent application...  \n",
              "3   xx xx try book xxxx xxxx ticket come offer app...  \n",
              "4   grand son check deposit chase account fund cle...  \n",
              "5                                      remove inquiry  \n",
              "6   notice j p morgan chase restrict account debit...  \n",
              "7   summer month experience decline income employm...  \n",
              "8   xxxx xx xx payment online retailer chase quick...  \n",
              "9   chase credit card incorrectly report datum cre...  \n",
              "10                  mishandle account chase auto xxxx  \n",
              "11  reach xxxx time attempt fraudulent inquiry rem...  \n",
              "12  open account chase bank xxxx code xxxx bonus c...  \n",
              "13  concern chase bank charge wrongly overdraft fe...  \n",
              "14  chase amazon card decline catering order place...  \n",
              "15  open save account bonus suppose received bonus...  \n",
              "16  xxxx xxxx sofa love seat table chair deliver d...  \n",
              "17  card go missing not realize today check email ...  \n",
              "18  chase send email today innocuous title importa...  \n",
              "19  purchase xxxx xxxx xxxx xx xx charge twice tra...  \n",
              "20  jp morgan chase bank answer following question...  \n",
              "21  senior citizen scamme company xxxx xxxx pay ti...  \n",
              "22  roommate steal chase debit card driver license...  \n",
              "23  try loan modification chase runaround m mo not...  \n",
              "24  purchase xx xx xxxx payment xx xx xxxx xx xx x...  \n",
              "25  currently xxxx chase ultimate reward point wor...  \n",
              "26  try send xxxx transaction cancel have d charge...  \n",
              "27  chase market credit card good credit like s go...  \n",
              "28  open chase xxxx xxxx reward credit card time v...  \n",
              "29  call state felony commit social security numbe...  \n",
              "30  wire chase branch xxxx xxxx exact reinstatemen...  \n",
              "31  dispute receive service list night hotel xxxx ...  \n",
              "32  buy new xxxx xxxx xx xx xxxx xxxx xxxx xxxx xx...  \n",
              "33  recently call ask chase bank report credit bur...  \n",
              "34  unknown inquire report credit bureau xxxx xxxx...  \n",
              "35  student loan chase bank sell account xxxx hold...  \n",
              "36  pre order item xx xx xxxx pay chase credit car...  \n",
              "37  xx xx transaction chase checking account fraud...  \n",
              "38  xx xx purchase service xxxx xxxx xxxx xxxx kno...  \n",
              "39  write file complaint unresolved issue credit c...  \n",
              "40  xx xx pay chase credit card early time month v...  \n",
              "41  xxxx xxxx miss payment xx xx day past current ...  \n",
              "42  contact chase bank xxxx xxxx credit inquiry in...  \n",
              "43  purchase airline ticket xx xx xxxx xxxx dollar...  \n",
              "44  xx xx xxxx receive advertisement email new cha...  \n",
              "45  advise chase billing error good service receiv...  \n",
              "46  multiple time late xx xx xxxx chase manipulate...  \n",
              "47  xxxx military member xxxx xxxx chase auto fina...  \n",
              "48  contact jp morgan chase xxxx credit report cha...  \n",
              "49  complaint follow complaint xxxx file cfpb orig...  "
            ]
          },
          "execution_count": 37,
          "metadata": {},
          "output_type": "execute_result"
        }
      ],
      "source": [
        "df_clean.head(50)"
      ]
    },
    {
      "cell_type": "code",
      "execution_count": 38,
      "metadata": {
        "colab": {
          "base_uri": "https://localhost:8080/"
        },
        "id": "giYStSIz0tYn",
        "outputId": "46d41376-dca9-423e-f032-ca65943f4c1e"
      },
      "outputs": [
        {
          "data": {
            "text/plain": [
              "(4031, 2)"
            ]
          },
          "execution_count": 38,
          "metadata": {},
          "output_type": "execute_result"
        }
      ],
      "source": [
        "df_clean.shape"
      ]
    },
    {
      "cell_type": "markdown",
      "metadata": {},
      "source": [
        "Define la función extract_pos_tags para extraer las etiquetas de partes del discurso (POS) específicas"
      ]
    },
    {
      "cell_type": "code",
      "execution_count": 39,
      "metadata": {
        "colab": {
          "base_uri": "https://localhost:8080/",
          "height": 206
        },
        "id": "Kk7fc4DuJrF1",
        "outputId": "9ecd848a-39c5-44be-e6de-025ad469d0b1"
      },
      "outputs": [
        {
          "data": {
            "text/html": [
              "<div>\n",
              "<style scoped>\n",
              "    .dataframe tbody tr th:only-of-type {\n",
              "        vertical-align: middle;\n",
              "    }\n",
              "\n",
              "    .dataframe tbody tr th {\n",
              "        vertical-align: top;\n",
              "    }\n",
              "\n",
              "    .dataframe thead th {\n",
              "        text-align: right;\n",
              "    }\n",
              "</style>\n",
              "<table border=\"1\" class=\"dataframe\">\n",
              "  <thead>\n",
              "    <tr style=\"text-align: right;\">\n",
              "      <th></th>\n",
              "      <th>complaints</th>\n",
              "      <th>lemmatized</th>\n",
              "      <th>complaint_POS_removed</th>\n",
              "    </tr>\n",
              "  </thead>\n",
              "  <tbody>\n",
              "    <tr>\n",
              "      <th>0</th>\n",
              "      <td>good morning my name is xxxx xxxx and i apprec...</td>\n",
              "      <td>good morning xxxx xxxx appreciate help stop ch...</td>\n",
              "      <td>morning help chase debt verification statement...</td>\n",
              "    </tr>\n",
              "    <tr>\n",
              "      <th>1</th>\n",
              "      <td>i upgraded my xxxx xxxx card in xx xx and was ...</td>\n",
              "      <td>upgrade xxxx xxxx card xx xx tell agent upgrad...</td>\n",
              "      <td>agent anniversary date change agent informatio...</td>\n",
              "    </tr>\n",
              "    <tr>\n",
              "      <th>2</th>\n",
              "      <td>chase card was reported on xx xx however fraud...</td>\n",
              "      <td>chase card report xx xx fraudulent application...</td>\n",
              "      <td>card application identity consent service exte...</td>\n",
              "    </tr>\n",
              "    <tr>\n",
              "      <th>3</th>\n",
              "      <td>on xx xx while trying to book a xxxx xxxx tick...</td>\n",
              "      <td>xx xx try book xxxx xxxx ticket come offer app...</td>\n",
              "      <td>offer ticket reward card information minute no...</td>\n",
              "    </tr>\n",
              "    <tr>\n",
              "      <th>4</th>\n",
              "      <td>my grand son give me check for i deposit it in...</td>\n",
              "      <td>grand son check deposit chase account fund cle...</td>\n",
              "      <td>son deposit chase account fund account pay mon...</td>\n",
              "    </tr>\n",
              "  </tbody>\n",
              "</table>\n",
              "</div>"
            ],
            "text/plain": [
              "                                          complaints  \\\n",
              "0  good morning my name is xxxx xxxx and i apprec...   \n",
              "1  i upgraded my xxxx xxxx card in xx xx and was ...   \n",
              "2  chase card was reported on xx xx however fraud...   \n",
              "3  on xx xx while trying to book a xxxx xxxx tick...   \n",
              "4  my grand son give me check for i deposit it in...   \n",
              "\n",
              "                                          lemmatized  \\\n",
              "0  good morning xxxx xxxx appreciate help stop ch...   \n",
              "1  upgrade xxxx xxxx card xx xx tell agent upgrad...   \n",
              "2  chase card report xx xx fraudulent application...   \n",
              "3  xx xx try book xxxx xxxx ticket come offer app...   \n",
              "4  grand son check deposit chase account fund cle...   \n",
              "\n",
              "                               complaint_POS_removed  \n",
              "0  morning help chase debt verification statement...  \n",
              "1  agent anniversary date change agent informatio...  \n",
              "2  card application identity consent service exte...  \n",
              "3  offer ticket reward card information minute no...  \n",
              "4  son deposit chase account fund account pay mon...  "
            ]
          },
          "execution_count": 39,
          "metadata": {},
          "output_type": "execute_result"
        }
      ],
      "source": [
        "def extract_pos_tags(text):\n",
        "    \"\"\"\n",
        "    Extrae las palabras que tienen una etiqueta de parte del discurso (POS) específica.\n",
        "\n",
        "    Parámetros:\n",
        "    text (str): El texto del cual se desean extraer las etiquetas POS.\n",
        "\n",
        "    Retorna:\n",
        "    str: Un texto que contiene solo las palabras con la etiqueta POS especificada.\n",
        "    \"\"\"\n",
        "    # Procesa el texto utilizando el modelo de spaCy\n",
        "    doc = nlp(text)\n",
        "    \n",
        "    # Extrae las palabras que tienen la etiqueta POS 'NN' (sustantivos)\n",
        "    # La lista de comprensión recorre cada token en el documento procesado 'doc'\n",
        "    # token.text obtiene el texto del token\n",
        "    # token.tag_ verifica si la etiqueta POS del token es 'NN' (sustantivo)\n",
        "    pos_tags = [token.text for token in doc if token.tag_ == 'NN']\n",
        "    \n",
        "    # Une las palabras extraídas en una sola cadena de texto, separadas por espacios\n",
        "    return ' '.join(pos_tags)\n",
        "\n",
        "# Aplica la función extract_pos_tags a la columna 'lemmatized' y guarda el resultado en una nueva columna 'complaint_POS_removed'\n",
        "# Parámetros:\n",
        "# - df_clean['lemmatized']: La Serie de pandas que contiene los textos lematizados.\n",
        "# - apply(lambda x: extract_pos_tags(x)): Aplica la función extract_pos_tags a cada elemento de la Serie.\n",
        "# La función lambda toma cada texto 'x' y aplica la función extract_pos_tags a él.\n",
        "# El resultado se almacena en la nueva columna 'complaint_POS_removed' del DataFrame df_clean.\n",
        "df_clean['complaint_POS_removed'] = df_clean.lemmatized.apply(lambda x: extract_pos_tags(x))\n",
        "\n",
        "# Muestra las primeras filas del DataFrame df_clean para verificar los resultados\n",
        "df_clean.head()\n"
      ]
    },
    {
      "cell_type": "code",
      "execution_count": 40,
      "metadata": {
        "colab": {
          "base_uri": "https://localhost:8080/",
          "height": 35
        },
        "id": "N0PXLpEy1fye",
        "outputId": "64fab6ae-33c2-4c29-8d97-09e30324c287"
      },
      "outputs": [
        {
          "data": {
            "text/plain": [
              "'morning help chase debt verification statement validate debt mail month attempt debt information consumer chase account advance help'"
            ]
          },
          "execution_count": 40,
          "metadata": {},
          "output_type": "execute_result"
        }
      ],
      "source": [
        "extract_pos_tags(df_clean['lemmatized'][0])"
      ]
    },
    {
      "cell_type": "code",
      "execution_count": 41,
      "metadata": {
        "id": "6UMIMu4R1J0U"
      },
      "outputs": [],
      "source": [
        "def remove_x_variations(text):\n",
        "    \"\"\"\n",
        "    Elimina variaciones de la letra 'x' que aparecen entre 2 y 4 veces consecutivas en el texto.\n",
        "\n",
        "    Parámetros:\n",
        "    text (str): El texto original del cual se desean eliminar las variaciones de 'x'.\n",
        "\n",
        "    Retorna:\n",
        "    str: El texto con las variaciones de 'x' eliminadas.\n",
        "    \"\"\"\n",
        "    # Utiliza la función re.sub() para buscar y reemplazar patrones en el texto.\n",
        "    # Parámetros:\n",
        "    # - r'\\b(x{2,4})\\b': Expresión regular que busca palabras que consisten en la letra 'x' repetida entre 2 y 4 veces.\n",
        "    #   \\b: Coincide con los límites de palabra.\n",
        "    #   x{2,4}: Coincide con la letra 'x' repetida entre 2 y 4 veces.\n",
        "    # - '': Reemplaza las coincidencias encontradas con una cadena vacía, eliminándolas del texto.\n",
        "    # - text: El texto original en el que se realizará la búsqueda y reemplazo.\n",
        "    # - flags=re.IGNORECASE: Ignora mayúsculas y minúsculas durante la búsqueda.\n",
        "    # La función strip() elimina los espacios en blanco al principio y al final del texto resultante.\n",
        "    return re.sub(r'\\b(x{2,4})\\b', '', text, flags=re.IGNORECASE).strip()"
      ]
    },
    {
      "cell_type": "markdown",
      "metadata": {
        "id": "yUXzFji0JrF_"
      },
      "source": [
        "## The personal details of customer has been masked in the dataset with xxxx. Let's remove the masked text as this will be of no use for our analysis"
      ]
    },
    {
      "cell_type": "markdown",
      "metadata": {},
      "source": [
        "Elimina valores NaN y variaciones de 'x' en la columna 'complaint_POS_removed'"
      ]
    },
    {
      "cell_type": "code",
      "execution_count": 42,
      "metadata": {
        "id": "DGtT6MsV1UYb"
      },
      "outputs": [],
      "source": [
        "# Rellena los valores NaN en la columna 'complaint_POS_removed' con cadenas vacías y convierte los datos a tipo string\n",
        "# Parámetros:\n",
        "# - fillna(''): Rellena los valores NaN con cadenas vacías.\n",
        "# - astype(str): Convierte los datos de la columna a tipo string.\n",
        "df_clean['complaint_POS_removed'] = df_clean['complaint_POS_removed'].fillna('').astype(str)\n",
        "\n",
        "# Aplica la función remove_x_variations a la columna 'complaint_POS_removed' y guarda el resultado en una nueva columna 'complaint_POS_cleaned'\n",
        "# Parámetros:\n",
        "# - df_clean['complaint_POS_removed']: La Serie de pandas que contiene los textos con etiquetas POS eliminadas.\n",
        "# - apply(remove_x_variations): Aplica la función remove_x_variations a cada elemento de la Serie.\n",
        "# La función remove_x_variations elimina variaciones de la letra 'x' que aparecen entre 2 y 4 veces consecutivas en el texto.\n",
        "# El resultado se almacena en la nueva columna 'complaint_POS_cleaned' del DataFrame df_clean.\n",
        "df_clean['complaint_POS_cleaned'] = df_clean['complaint_POS_removed'].apply(remove_x_variations)"
      ]
    },
    {
      "cell_type": "code",
      "execution_count": 43,
      "metadata": {
        "colab": {
          "base_uri": "https://localhost:8080/",
          "height": 424
        },
        "id": "AjxfchvFJrF2",
        "outputId": "f483a90e-94e7-4db0-ab0d-40d5fc1b77e2"
      },
      "outputs": [
        {
          "data": {
            "text/html": [
              "<div>\n",
              "<style scoped>\n",
              "    .dataframe tbody tr th:only-of-type {\n",
              "        vertical-align: middle;\n",
              "    }\n",
              "\n",
              "    .dataframe tbody tr th {\n",
              "        vertical-align: top;\n",
              "    }\n",
              "\n",
              "    .dataframe thead th {\n",
              "        text-align: right;\n",
              "    }\n",
              "</style>\n",
              "<table border=\"1\" class=\"dataframe\">\n",
              "  <thead>\n",
              "    <tr style=\"text-align: right;\">\n",
              "      <th></th>\n",
              "      <th>complaints</th>\n",
              "      <th>lemmatized</th>\n",
              "      <th>complaint_POS_removed</th>\n",
              "      <th>complaint_POS_cleaned</th>\n",
              "    </tr>\n",
              "  </thead>\n",
              "  <tbody>\n",
              "    <tr>\n",
              "      <th>0</th>\n",
              "      <td>good morning my name is xxxx xxxx and i apprec...</td>\n",
              "      <td>good morning xxxx xxxx appreciate help stop ch...</td>\n",
              "      <td>morning help chase debt verification statement...</td>\n",
              "      <td>morning help chase debt verification statement...</td>\n",
              "    </tr>\n",
              "    <tr>\n",
              "      <th>1</th>\n",
              "      <td>i upgraded my xxxx xxxx card in xx xx and was ...</td>\n",
              "      <td>upgrade xxxx xxxx card xx xx tell agent upgrad...</td>\n",
              "      <td>agent anniversary date change agent informatio...</td>\n",
              "      <td>agent anniversary date change agent informatio...</td>\n",
              "    </tr>\n",
              "    <tr>\n",
              "      <th>2</th>\n",
              "      <td>chase card was reported on xx xx however fraud...</td>\n",
              "      <td>chase card report xx xx fraudulent application...</td>\n",
              "      <td>card application identity consent service exte...</td>\n",
              "      <td>card application identity consent service exte...</td>\n",
              "    </tr>\n",
              "    <tr>\n",
              "      <th>3</th>\n",
              "      <td>on xx xx while trying to book a xxxx xxxx tick...</td>\n",
              "      <td>xx xx try book xxxx xxxx ticket come offer app...</td>\n",
              "      <td>offer ticket reward card information minute no...</td>\n",
              "      <td>offer ticket reward card information minute no...</td>\n",
              "    </tr>\n",
              "    <tr>\n",
              "      <th>4</th>\n",
              "      <td>my grand son give me check for i deposit it in...</td>\n",
              "      <td>grand son check deposit chase account fund cle...</td>\n",
              "      <td>son deposit chase account fund account pay mon...</td>\n",
              "      <td>son deposit chase account fund account pay mon...</td>\n",
              "    </tr>\n",
              "    <tr>\n",
              "      <th>...</th>\n",
              "      <td>...</td>\n",
              "      <td>...</td>\n",
              "      <td>...</td>\n",
              "      <td>...</td>\n",
              "    </tr>\n",
              "    <tr>\n",
              "      <th>4026</th>\n",
              "      <td>jpmcb auto finance has been on my credit repor...</td>\n",
              "      <td>jpmcb auto finance credit report thatn month c...</td>\n",
              "      <td>auto finance credit report month charge hardsh...</td>\n",
              "      <td>auto finance credit report month charge hardsh...</td>\n",
              "    </tr>\n",
              "    <tr>\n",
              "      <th>4027</th>\n",
              "      <td>on xx xx xxxx a vendor double charged my chase...</td>\n",
              "      <td>xx xx xxxx vendor double charge chase card tel...</td>\n",
              "      <td>charge chase card chase problem phone problem ...</td>\n",
              "      <td>charge chase card chase problem phone problem ...</td>\n",
              "    </tr>\n",
              "    <tr>\n",
              "      <th>4028</th>\n",
              "      <td>i filed an application for a mortgage refinanc...</td>\n",
              "      <td>file application mortgage refinance loan chase...</td>\n",
              "      <td>file application mortgage refinance loan chase...</td>\n",
              "      <td>file application mortgage refinance loan chase...</td>\n",
              "    </tr>\n",
              "    <tr>\n",
              "      <th>4029</th>\n",
              "      <td>re claim xxxx i do not feel that chase bank pr...</td>\n",
              "      <td>claim xxxx feel chase bank properly take time ...</td>\n",
              "      <td>time address dispute merchant cancel transacti...</td>\n",
              "      <td>time address dispute merchant cancel transacti...</td>\n",
              "    </tr>\n",
              "    <tr>\n",
              "      <th>4030</th>\n",
              "      <td>xx xx xxxx dear cfpb i hope this finds you wel...</td>\n",
              "      <td>xx xx xxxx dear cfpb hope find safe appeal ass...</td>\n",
              "      <td>cfpb hope appeal assistance resolve issue than...</td>\n",
              "      <td>cfpb hope appeal assistance resolve issue than...</td>\n",
              "    </tr>\n",
              "  </tbody>\n",
              "</table>\n",
              "<p>4031 rows × 4 columns</p>\n",
              "</div>"
            ],
            "text/plain": [
              "                                             complaints  \\\n",
              "0     good morning my name is xxxx xxxx and i apprec...   \n",
              "1     i upgraded my xxxx xxxx card in xx xx and was ...   \n",
              "2     chase card was reported on xx xx however fraud...   \n",
              "3     on xx xx while trying to book a xxxx xxxx tick...   \n",
              "4     my grand son give me check for i deposit it in...   \n",
              "...                                                 ...   \n",
              "4026  jpmcb auto finance has been on my credit repor...   \n",
              "4027  on xx xx xxxx a vendor double charged my chase...   \n",
              "4028  i filed an application for a mortgage refinanc...   \n",
              "4029  re claim xxxx i do not feel that chase bank pr...   \n",
              "4030  xx xx xxxx dear cfpb i hope this finds you wel...   \n",
              "\n",
              "                                             lemmatized  \\\n",
              "0     good morning xxxx xxxx appreciate help stop ch...   \n",
              "1     upgrade xxxx xxxx card xx xx tell agent upgrad...   \n",
              "2     chase card report xx xx fraudulent application...   \n",
              "3     xx xx try book xxxx xxxx ticket come offer app...   \n",
              "4     grand son check deposit chase account fund cle...   \n",
              "...                                                 ...   \n",
              "4026  jpmcb auto finance credit report thatn month c...   \n",
              "4027  xx xx xxxx vendor double charge chase card tel...   \n",
              "4028  file application mortgage refinance loan chase...   \n",
              "4029  claim xxxx feel chase bank properly take time ...   \n",
              "4030  xx xx xxxx dear cfpb hope find safe appeal ass...   \n",
              "\n",
              "                                  complaint_POS_removed  \\\n",
              "0     morning help chase debt verification statement...   \n",
              "1     agent anniversary date change agent informatio...   \n",
              "2     card application identity consent service exte...   \n",
              "3     offer ticket reward card information minute no...   \n",
              "4     son deposit chase account fund account pay mon...   \n",
              "...                                                 ...   \n",
              "4026  auto finance credit report month charge hardsh...   \n",
              "4027  charge chase card chase problem phone problem ...   \n",
              "4028  file application mortgage refinance loan chase...   \n",
              "4029  time address dispute merchant cancel transacti...   \n",
              "4030  cfpb hope appeal assistance resolve issue than...   \n",
              "\n",
              "                                  complaint_POS_cleaned  \n",
              "0     morning help chase debt verification statement...  \n",
              "1     agent anniversary date change agent informatio...  \n",
              "2     card application identity consent service exte...  \n",
              "3     offer ticket reward card information minute no...  \n",
              "4     son deposit chase account fund account pay mon...  \n",
              "...                                                 ...  \n",
              "4026  auto finance credit report month charge hardsh...  \n",
              "4027  charge chase card chase problem phone problem ...  \n",
              "4028  file application mortgage refinance loan chase...  \n",
              "4029  time address dispute merchant cancel transacti...  \n",
              "4030  cfpb hope appeal assistance resolve issue than...  \n",
              "\n",
              "[4031 rows x 4 columns]"
            ]
          },
          "execution_count": 43,
          "metadata": {},
          "output_type": "execute_result"
        }
      ],
      "source": [
        "#The clean dataframe should now contain the raw complaint, lemmatized complaint and the complaint after removing POS tags and without variations of XXXX\n",
        "df_clean"
      ]
    },
    {
      "cell_type": "markdown",
      "metadata": {
        "id": "_7Un1AElJrF2"
      },
      "source": [
        "## Exploratory data analysis to get familiar with the data.\n",
        "\n",
        "Escriba el código en esta tarea para realizar lo siguiente:\n",
        "\n",
        "* Visualiza los datos según la longitud del carácteres 'Complaint'\n",
        "* Usando una nube de palabras, encuentre las top 40 palabras más frecuentes de todos los artículos después de procesar el texto\n",
        "* Encuentre los mejores unigramas, bigramas y trigramas por frecuencia entre todas las quejas después de procesar el texto. '"
      ]
    },
    {
      "cell_type": "code",
      "execution_count": 44,
      "metadata": {
        "colab": {
          "base_uri": "https://localhost:8080/",
          "height": 564
        },
        "id": "q-zaqJF6JrF2",
        "outputId": "bbc40f71-1535-42ed-cc4b-1a7a8fdcd461"
      },
      "outputs": [
        {
          "data": {
            "image/png": "[encoded data removed]",
            "text/plain": [
              "<Figure size 1000x600 with 1 Axes>"
            ]
          },
          "metadata": {},
          "output_type": "display_data"
        }
      ],
      "source": [
        "# Crea una figura y un conjunto de ejes\n",
        "# Parámetros:\n",
        "# - figsize=(10, 6): Establece el tamaño de la figura en 10 pulgadas de ancho y 6 pulgadas de alto.\n",
        "plt.figure(figsize=(10, 6))\n",
        "\n",
        "# Crea un histograma de la longitud de los textos en la columna 'complaint_POS_cleaned'\n",
        "# Parámetros:\n",
        "# - df_clean['complaint_POS_cleaned'].str.len(): Calcula la longitud de cada texto en la columna 'complaint_POS_cleaned'.\n",
        "# - bins=30: Divide los datos en 30 intervalos (bins).\n",
        "# - color='skyblue': Establece el color de las barras del histograma a azul cielo.\n",
        "# - edgecolor='black': Establece el color del borde de las barras a negro.\n",
        "plt.hist(df_clean['complaint_POS_cleaned'].str.len(), bins=30, color='skyblue', edgecolor='black')\n",
        "\n",
        "# Establece la etiqueta del eje x\n",
        "# Parámetros:\n",
        "# - 'Complaint Length (Characters)': El texto de la etiqueta del eje x.\n",
        "plt.xlabel('Complaint Length (Characters)')\n",
        "\n",
        "# Establece la etiqueta del eje y\n",
        "# Parámetros:\n",
        "# - 'Frequency': El texto de la etiqueta del eje y.\n",
        "plt.ylabel('Frequency')\n",
        "\n",
        "# Establece el título del gráfico\n",
        "# Parámetros:\n",
        "# - 'Distribution of Complaint Length': El texto del título del gráfico.\n",
        "plt.title('Distribution of Complaint Length')\n",
        "\n",
        "# Activa la cuadrícula en el gráfico\n",
        "# Parámetros:\n",
        "# - True: Activa la cuadrícula.\n",
        "plt.grid(True)\n",
        "\n",
        "# Muestra el gráfico\n",
        "plt.show()"
      ]
    },
    {
      "cell_type": "markdown",
      "metadata": {
        "id": "T9jD_6SeJrF3"
      },
      "source": [
        "#### Find the top 40 words by frequency among all the articles after processing the text."
      ]
    },
    {
      "cell_type": "markdown",
      "metadata": {},
      "source": [
        "Se instalara la biblioteca wordcloud para generar nubes de palabras"
      ]
    },
    {
      "cell_type": "code",
      "execution_count": 45,
      "metadata": {
        "colab": {
          "base_uri": "https://localhost:8080/"
        },
        "id": "shW3BX0Q4rAE",
        "outputId": "f63b9081-2702-458f-d827-00f5a00bf2b5"
      },
      "outputs": [
        {
          "name": "stdout",
          "output_type": "stream",
          "text": [
            "Defaulting to user installation because normal site-packages is not writeable\n",
            "Requirement already satisfied: wordcloud in c:\\users\\adadf\\appdata\\roaming\\python\\python311\\site-packages (1.9.4)\n",
            "Requirement already satisfied: numpy>=1.6.1 in c:\\users\\adadf\\appdata\\roaming\\python\\python311\\site-packages (from wordcloud) (2.0.2)\n",
            "Requirement already satisfied: pillow in c:\\programdata\\anaconda3\\lib\\site-packages (from wordcloud) (9.4.0)\n",
            "Requirement already satisfied: matplotlib in c:\\programdata\\anaconda3\\lib\\site-packages (from wordcloud) (3.7.2)\n",
            "Requirement already satisfied: contourpy>=1.0.1 in c:\\programdata\\anaconda3\\lib\\site-packages (from matplotlib->wordcloud) (1.0.5)\n",
            "Requirement already satisfied: cycler>=0.10 in c:\\programdata\\anaconda3\\lib\\site-packages (from matplotlib->wordcloud) (0.11.0)\n",
            "Requirement already satisfied: fonttools>=4.22.0 in c:\\programdata\\anaconda3\\lib\\site-packages (from matplotlib->wordcloud) (4.25.0)\n",
            "Requirement already satisfied: kiwisolver>=1.0.1 in c:\\programdata\\anaconda3\\lib\\site-packages (from matplotlib->wordcloud) (1.4.4)\n",
            "Requirement already satisfied: packaging>=20.0 in c:\\users\\adadf\\appdata\\roaming\\python\\python311\\site-packages (from matplotlib->wordcloud) (24.1)\n",
            "Requirement already satisfied: pyparsing<3.1,>=2.3.1 in c:\\programdata\\anaconda3\\lib\\site-packages (from matplotlib->wordcloud) (3.0.9)\n",
            "Requirement already satisfied: python-dateutil>=2.7 in c:\\users\\adadf\\appdata\\roaming\\python\\python311\\site-packages (from matplotlib->wordcloud) (2.9.0.post0)\n",
            "Requirement already satisfied: six>=1.5 in c:\\users\\adadf\\appdata\\roaming\\python\\python311\\site-packages (from python-dateutil>=2.7->matplotlib->wordcloud) (1.16.0)\n"
          ]
        }
      ],
      "source": [
        "!pip install wordcloud"
      ]
    },
    {
      "cell_type": "code",
      "execution_count": 46,
      "metadata": {
        "colab": {
          "base_uri": "https://localhost:8080/",
          "height": 476
        },
        "id": "a1mMNftZ-4c_",
        "outputId": "5c8452a0-c51a-4ed9-fe7d-a76afdcb2a5b"
      },
      "outputs": [
        {
          "name": "stderr",
          "output_type": "stream",
          "text": [
            "[nltk_data] Downloading package stopwords to\n",
            "[nltk_data]     C:\\Users\\adadf\\AppData\\Roaming\\nltk_data...\n",
            "[nltk_data]   Package stopwords is already up-to-date!\n"
          ]
        },
        {
          "name": "stdout",
          "output_type": "stream",
          "text": [
            "<wordcloud.wordcloud.WordCloud object at 0x0000029EC00B2D50>\n"
          ]
        },
        {
          "data": {
            "image/png": "[encoded data removed]",
            "text/plain": [
              "<Figure size 1000x600 with 1 Axes>"
            ]
          },
          "metadata": {},
          "output_type": "display_data"
        }
      ],
      "source": [
        "# Importa la clase WordCloud de la biblioteca wordcloud para generar nubes de palabras\n",
        "from wordcloud import WordCloud\n",
        "\n",
        "# Importa la biblioteca nltk para procesamiento de lenguaje natural\n",
        "import nltk\n",
        "\n",
        "# Importa la lista de palabras vacías (stopwords) de NLTK\n",
        "from nltk.corpus import stopwords\n",
        "\n",
        "# Descarga la lista de palabras vacías (stopwords) en inglés de NLTK\n",
        "nltk.download('stopwords')\n",
        "\n",
        "# Crea un conjunto de palabras vacías en inglés\n",
        "# La función set(stopwords.words('english')) convierte la lista de palabras vacías en un conjunto para una búsqueda más rápida.\n",
        "stopwords = set(stopwords.words('english'))\n",
        "\n",
        "# Genera una nube de palabras a partir de la columna 'complaint_POS_cleaned' del DataFrame df_clean\n",
        "# Parámetros:\n",
        "# - stopwords=stopwords: El conjunto de palabras vacías que se deben excluir de la nube de palabras.\n",
        "# - max_words=40: El número máximo de palabras que se mostrarán en la nube de palabras.\n",
        "# La función str(df_clean.complaint_POS_cleaned) convierte la columna 'complaint_POS_cleaned' en una cadena de texto.\n",
        "wordcloud = WordCloud(stopwords=stopwords, max_words=40).generate(str(df_clean.complaint_POS_cleaned))\n",
        "\n",
        "# Imprime el objeto WordCloud generado\n",
        "print(wordcloud)\n",
        "\n",
        "# Crea una figura para mostrar la nube de palabras\n",
        "# Parámetros:\n",
        "# - figsize=(10, 6): Establece el tamaño de la figura en 10 pulgadas de ancho y 6 pulgadas de alto.\n",
        "plt.figure(figsize=(10, 6))\n",
        "\n",
        "# Muestra la nube de palabras en la figura\n",
        "# La función plt.imshow() muestra una imagen en el gráfico.\n",
        "# Parámetros:\n",
        "# - wordcloud: El objeto WordCloud que contiene la nube de palabras generada.\n",
        "plt.imshow(wordcloud)\n",
        "\n",
        "# Elimina los ejes del gráfico\n",
        "# La función plt.axis('off') oculta los ejes del gráfico.\n",
        "plt.axis('off')\n",
        "\n",
        "# Muestra el gráfico\n",
        "plt.show()\n"
      ]
    },
    {
      "cell_type": "markdown",
      "metadata": {},
      "source": [
        "Se elimina la cadena '-PRON-' del corpus de texto en la columna 'complaint_POS_cleaned'"
      ]
    },
    {
      "cell_type": "code",
      "execution_count": 47,
      "metadata": {
        "id": "IDcqG9BBmegl"
      },
      "outputs": [],
      "source": [
        "# La función df_clean['complaint_POS_cleaned'].str.replace() se utiliza para reemplazar todas las ocurrencias de una subcadena en una Serie de pandas.\n",
        "# Parámetros:\n",
        "# - '-PRON-': La subcadena que se desea reemplazar.\n",
        "# - '': La cadena vacía que reemplazará a '-PRON-', eliminándola del texto.\n",
        "# El resultado se almacena en una nueva columna 'Complaint_clean' del DataFrame df_clean.\n",
        "df_clean['Complaint_clean'] = df_clean['complaint_POS_cleaned'].str.replace('-PRON-', '')\n",
        "\n",
        "# Elimina la columna 'complaint_POS_cleaned' del DataFrame df_clean\n",
        "\n",
        "# La función df_clean.drop() se utiliza para eliminar filas o columnas del DataFrame.\n",
        "# Parámetros:\n",
        "# - ['complaint_POS_cleaned']: Una lista que contiene el nombre de la columna que se desea eliminar.\n",
        "# - axis=1: Indica que se debe eliminar una columna (axis=0 se utilizaría para eliminar filas).\n",
        "df_clean = df_clean.drop(['complaint_POS_cleaned'], axis=1)"
      ]
    },
    {
      "cell_type": "code",
      "execution_count": 48,
      "metadata": {
        "colab": {
          "base_uri": "https://localhost:8080/",
          "height": 458
        },
        "id": "KxGpxQQcxEvn",
        "outputId": "2b8cf8d2-3d89-4eea-dedb-4f56a19a282b"
      },
      "outputs": [
        {
          "data": {
            "text/plain": [
              "0       morning help chase debt verification statement...\n",
              "1       agent anniversary date change agent informatio...\n",
              "2       card application identity consent service exte...\n",
              "3       offer ticket reward card information minute no...\n",
              "4       son deposit chase account fund account pay mon...\n",
              "                              ...                        \n",
              "4026    auto finance credit report month charge hardsh...\n",
              "4027    charge chase card chase problem phone problem ...\n",
              "4028    file application mortgage refinance loan chase...\n",
              "4029    time address dispute merchant cancel transacti...\n",
              "4030    cfpb hope appeal assistance resolve issue than...\n",
              "Name: Complaint_clean, Length: 4031, dtype: object"
            ]
          },
          "execution_count": 48,
          "metadata": {},
          "output_type": "execute_result"
        }
      ],
      "source": [
        "df_clean ['Complaint_clean']"
      ]
    },
    {
      "cell_type": "markdown",
      "metadata": {
        "id": "5DfCSbbmJrF4"
      },
      "source": [
        "#### Find the top unigrams,bigrams and trigrams by frequency among all the complaints after processing the text."
      ]
    },
    {
      "cell_type": "markdown",
      "metadata": {},
      "source": [
        "Se define la función get_top_n_bigram para obtener las frecuencias de los n-gramas más comunes en un texto"
      ]
    },
    {
      "cell_type": "code",
      "execution_count": 49,
      "metadata": {
        "id": "5mbk5DS5JrF4"
      },
      "outputs": [],
      "source": [
        "def get_top_n_bigram(text, ngram=1, top=None):\n",
        "    \"\"\"\n",
        "    Encuentra los n-gramas más frecuentes en el texto.\n",
        "\n",
        "    Parámetros:\n",
        "    text (list of str): Una lista de cadenas de texto que se analizarán.\n",
        "    ngram (int): El tamaño del n-grama (por defecto es 1 para unigrama).\n",
        "    top (int): El número de n-gramas más frecuentes que se devolverán (por defecto es None, lo que devuelve todos).\n",
        "\n",
        "    Retorna:\n",
        "    list of tuples: Una lista de tuplas donde cada tupla contiene un n-grama y su frecuencia, ordenada por frecuencia descendente.\n",
        "    \"\"\"\n",
        "    # Crea un objeto CountVectorizer para convertir una colección de texto en una matriz de tokens contados\n",
        "    # Parámetros:\n",
        "    # - ngram_range=(ngram, ngram): Define el rango de tamaño de los n-gramas a extraer (por ejemplo, (1, 1) para unigramas).\n",
        "    # - stop_words='english': Elimina las palabras vacías en inglés.\n",
        "    vec = CountVectorizer(ngram_range=(ngram, ngram), stop_words='english').fit(text)\n",
        "    \n",
        "    # Transforma el texto en una matriz de conteo de n-gramas\n",
        "    bag_of_words = vec.transform(text)\n",
        "    \n",
        "    # Suma los conteos de cada n-grama en la matriz\n",
        "    sum_words = bag_of_words.sum(axis=0)\n",
        "    \n",
        "    # Crea una lista de tuplas donde cada tupla contiene un n-grama y su frecuencia\n",
        "    # vec.vocabulary_.items() devuelve un diccionario de n-gramas y sus índices en la matriz\n",
        "    # sum_words[0, idx] obtiene la frecuencia del n-grama en el índice dado\n",
        "    words_freq = [(word, sum_words[0, idx]) for word, idx in vec.vocabulary_.items()]\n",
        "    \n",
        "    # Ordena la lista de tuplas por frecuencia en orden descendente\n",
        "    words_freq = sorted(words_freq, key=lambda x: x[1], reverse=True)\n",
        "    \n",
        "    # Devuelve los 'top' n-gramas más frecuentes\n",
        "    return words_freq[:top]"
      ]
    },
    {
      "cell_type": "markdown",
      "metadata": {},
      "source": [
        "Se obtiene los 30 unigramas más frecuentes en la columna 'Complaint_clean' del DataFrame df_clean"
      ]
    },
    {
      "cell_type": "code",
      "execution_count": 50,
      "metadata": {
        "id": "i0XCdWR0n-zK"
      },
      "outputs": [],
      "source": [
        "# Obtiene los 30 unigramas más frecuentes en la columna 'Complaint_clean' del DataFrame df_clean\n",
        "\n",
        "# Llama a la función get_top_n_bigram para encontrar los n-gramas más frecuentes en el texto.\n",
        "# Parámetros:\n",
        "# - df_clean.Complaint_clean: La Serie de pandas que contiene los textos limpios.\n",
        "# - ngram=1: Especifica que se deben extraer unigramas (palabras individuales).\n",
        "# - top=30: Especifica que se deben devolver los 30 unigramas más frecuentes.\n",
        "# La función devuelve una lista de tuplas donde cada tupla contiene un unigrama y su frecuencia, ordenada por frecuencia descendente.\n",
        "top_30_unigrams = get_top_n_bigram(df_clean.Complaint_clean, ngram=1, top=30)"
      ]
    },
    {
      "cell_type": "markdown",
      "metadata": {},
      "source": [
        "Se imprime las 10 palabras más frecuentes en la lista de unigramas"
      ]
    },
    {
      "cell_type": "code",
      "execution_count": 51,
      "metadata": {
        "colab": {
          "base_uri": "https://localhost:8080/"
        },
        "id": "YX7fedm1JrF8",
        "outputId": "66e94659-5420-4b36-8d99-d21d4883a831"
      },
      "outputs": [
        {
          "name": "stdout",
          "output_type": "stream",
          "text": [
            "Top 10 Unigrams:\n",
            "chase: 10509\n",
            "account: 8141\n",
            "credit: 6587\n",
            "card: 6138\n",
            "payment: 3633\n",
            "charge: 3165\n",
            "time: 2921\n",
            "money: 2309\n",
            "day: 2283\n",
            "bank: 2231\n"
          ]
        }
      ],
      "source": [
        "print(\"Top 10 Unigrams:\")\n",
        "\n",
        "# Itera sobre los primeros 10 elementos de la lista top_30_unigrams\n",
        "# Parámetros:\n",
        "# - top_30_unigrams[:10]: Una lista de las 10 primeras tuplas (unigrama, frecuencia) de la lista top_30_unigrams.\n",
        "for word, freq in top_30_unigrams[:10]:\n",
        "    # Imprime cada unigrama y su frecuencia en el formato \"palabra: frecuencia\"\n",
        "    # La función f\"{word}: {freq}\" utiliza una cadena formateada (f-string) para incluir el unigrama y su frecuencia en la cadena de texto.\n",
        "    print(f\"{word}: {freq}\")"
      ]
    },
    {
      "cell_type": "markdown",
      "metadata": {},
      "source": [
        "Encuentra los 30 bigramas más frecuentes en la columna 'Complaint_clean' del DataFrame df_clean. Se llamara a la función get_top_n_bigram para encontrar los bigramas más frecuentes en el texto."
      ]
    },
    {
      "cell_type": "code",
      "execution_count": 52,
      "metadata": {
        "id": "aV7kD7w8JrF8"
      },
      "outputs": [],
      "source": [
        "# Parámetros:\n",
        "# - df_clean.Complaint_clean: La Serie de pandas que contiene los textos limpios.\n",
        "# - ngram=2: Especifica que se deben extraer bigramas (pares de palabras consecutivas).\n",
        "# - top=30: Especifica que se deben devolver los 30 bigramas más frecuentes.\n",
        "# La función devuelve una lista de tuplas donde cada tupla contiene un bigrama y su frecuencia, ordenada por frecuencia descendente.\n",
        "top_30_bigrams = get_top_n_bigram(df_clean.Complaint_clean, ngram=2, top=30)"
      ]
    },
    {
      "cell_type": "markdown",
      "metadata": {},
      "source": [
        "Se imprime los 10 bigramas más frecuentes en la lista de bigramas"
      ]
    },
    {
      "cell_type": "code",
      "execution_count": 53,
      "metadata": {
        "colab": {
          "base_uri": "https://localhost:8080/"
        },
        "id": "NPnMNIpyJrF9",
        "outputId": "9e67745f-b9ba-48e6-f23f-9d1cd608b420"
      },
      "outputs": [
        {
          "name": "stdout",
          "output_type": "stream",
          "text": [
            "Top 10 Bigrams:\n",
            "credit card: 2489\n",
            "credit report: 784\n",
            "chase credit: 598\n",
            "account chase: 586\n",
            "customer service: 561\n",
            "chase account: 452\n",
            "chase bank: 420\n",
            "account account: 416\n",
            "contact chase: 409\n",
            "debit card: 403\n"
          ]
        }
      ],
      "source": [
        "print(\"Top 10 Bigrams:\")\n",
        "# Itera sobre los primeros 10 elementos de la lista top_30_bigrams\n",
        "# Parámetros:\n",
        "# - top_30_bigrams[:10]: Una lista de las 10 primeras tuplas (bigrama, frecuencia) de la lista top_30_bigrams.\n",
        "for word, freq in top_30_bigrams[:10]:\n",
        "    # Imprime cada bigrama y su frecuencia en el formato \"bigrama: frecuencia\"\n",
        "    # La función f\"{word}: {freq}\" utiliza una cadena formateada (f-string) para incluir el bigrama y su frecuencia en la cadena de texto.\n",
        "    print(f\"{word}: {freq}\")"
      ]
    },
    {
      "cell_type": "markdown",
      "metadata": {},
      "source": [
        "Encontramos los 30 trigramas más frecuentes en la columna 'Complaint_clean' del DataFrame df_clean. Se llamara a la función get_top_n_bigram para encontrar los trigramas más frecuentes en el texto."
      ]
    },
    {
      "cell_type": "code",
      "execution_count": 54,
      "metadata": {
        "id": "Xkh7vtbtJrF-"
      },
      "outputs": [],
      "source": [
        "# Parámetros:\n",
        "# - df_clean.Complaint_clean: La Serie de pandas que contiene los textos limpios.\n",
        "# - ngram=3: Especifica que se deben extraer trigramas (grupos de tres palabras consecutivas).\n",
        "# - top=30: Especifica que se deben devolver los 30 trigramas más frecuentes.\n",
        "# La función devuelve una lista de tuplas donde cada tupla contiene un trigrama y su frecuencia, ordenada por frecuencia descendente.\n",
        "top_30_trigrams = get_top_n_bigram(df_clean.Complaint_clean, ngram=3, top=30)"
      ]
    },
    {
      "cell_type": "markdown",
      "metadata": {},
      "source": [
        "Se imprime los 10 trigramas más frecuentes en la lista de trigrams"
      ]
    },
    {
      "cell_type": "code",
      "execution_count": 55,
      "metadata": {
        "colab": {
          "base_uri": "https://localhost:8080/"
        },
        "id": "REcVxNfvJrF-",
        "outputId": "e556f23b-b386-4867-f1f4-29ffca3ada60"
      },
      "outputs": [
        {
          "name": "stdout",
          "output_type": "stream",
          "text": [
            "Top 10 Trigrams:\n",
            "chase credit card: 445\n",
            "credit card company: 212\n",
            "credit card account: 187\n",
            "credit card chase: 170\n",
            "chase customer service: 112\n",
            "inquiry credit report: 107\n",
            "credit reporting act: 104\n",
            "charge credit card: 102\n",
            "credit reporting agency: 100\n",
            "credit card credit: 99\n"
          ]
        }
      ],
      "source": [
        "print(\"Top 10 Trigrams:\")\n",
        "\n",
        "# Itera sobre los primeros 10 elementos de la lista top_30_trigrams\n",
        "# Parámetros:\n",
        "# - top_30_trigrams[:10]: Una lista de las 10 primeras tuplas (trigrama, frecuencia) de la lista top_30_trigrams.\n",
        "for word, freq in top_30_trigrams[:10]:\n",
        "    # Imprime cada trigrama y su frecuencia en el formato \"trigrama: frecuencia\"\n",
        "    # La función f\"{word}: {freq}\" utiliza una cadena formateada (f-string) para incluir el trigrama y su frecuencia en la cadena de texto.\n",
        "    print(f\"{word}: {freq}\")"
      ]
    },
    {
      "cell_type": "markdown",
      "metadata": {
        "id": "k-I0k0QtJrGA"
      },
      "source": [
        "## Feature Extraction\n",
        "Convierta los textos sin procesar en una matriz de características TF-IDF\n",
        "\n",
        "**max_df** is used for removing terms that appear too frequently, also known as \"corpus-specific stop words\"\n",
        "max_df = 0.95 means \"ignore terms that appear in more than 95% of the complaints\"\n",
        "\n",
        "**min_df** is used for removing terms that appear too infrequently\n",
        "min_df = 2 means \"ignore terms that appear in less than 2 complaints\""
      ]
    },
    {
      "cell_type": "code",
      "execution_count": 56,
      "metadata": {
        "colab": {
          "base_uri": "https://localhost:8080/"
        },
        "id": "Y8fGwaCPJrGA",
        "outputId": "d449af08-374d-4f43-a63e-98828af5333f"
      },
      "outputs": [
        {
          "name": "stdout",
          "output_type": "stream",
          "text": [
            "Dimensions TF-IDF: (4031, 3016)\n"
          ]
        }
      ],
      "source": [
        "# Importa la clase TfidfVectorizer de la biblioteca sklearn para la vectorización TF-IDF\n",
        "from sklearn.feature_extraction.text import TfidfVectorizer\n",
        "\n",
        "# Define los parámetros para el vectorizador TF-IDF\n",
        "# max_df=0.95: Ignora los términos que aparecen en más del 95% de los documentos.\n",
        "# min_df=2: Ignora los términos que aparecen en menos de 2 documentos.\n",
        "max_df = 0.95\n",
        "min_df = 2\n",
        "\n",
        "# Crea una instancia del vectorizador TF-IDF con los parámetros especificados\n",
        "# stop_words='english': Elimina las palabras vacías en inglés.\n",
        "tfidf_vectorizer = TfidfVectorizer(max_df=max_df, min_df=min_df, stop_words='english')\n",
        "\n",
        "# Ajusta el vectorizador TF-IDF a los datos y transforma los textos en una matriz TF-IDF\n",
        "# Parámetros:\n",
        "# - df_clean['Complaint_clean']: La Serie de pandas que contiene los textos limpios.\n",
        "# La función fit_transform() ajusta el vectorizador a los datos y luego transforma los textos en una matriz TF-IDF.\n",
        "tfidf_matrix = tfidf_vectorizer.fit_transform(df_clean['Complaint_clean'])\n",
        "\n",
        "# Obtiene los nombres de las características (términos) del vocabulario\n",
        "# La función get_feature_names_out() devuelve una lista de los términos del vocabulario.\n",
        "tfidf_feature_names = tfidf_vectorizer.get_feature_names_out()\n",
        "\n",
        "# Imprime las dimensiones de la matriz TF-IDF\n",
        "# La función print() se utiliza para mostrar información en la salida estándar (por ejemplo, la consola).\n",
        "# tfidf_matrix.shape devuelve una tupla que indica el número de documentos y el número de términos en la matriz TF-IDF.\n",
        "print(f\"Dimensions TF-IDF: {tfidf_matrix.shape}\")"
      ]
    },
    {
      "cell_type": "markdown",
      "metadata": {},
      "source": [
        "La matriz TF-IDF generada tiene 3464 filas y 2794 columnas.\n",
        "*3464 filas: Cada fila representa un documento (en este caso, una queja limpia) en tu conjunto de datos.\n",
        "*2794 columnas: Cada columna representa una característica (palabra) única en el vocabulario generado después de aplicar los parámetros max_df y min_df.\n",
        "Esto indica que hay 3464 documentos y 2794 términos únicos que se consideran relevantes para el análisis después de eliminar las palabras comunes y las que aparecen muy raramente."
      ]
    },
    {
      "cell_type": "markdown",
      "metadata": {
        "id": "yYzD85nTJrGA"
      },
      "source": [
        "#### Create a document term matrix using fit_transform\n",
        "\n",
        "The contents of a document term matrix are tuples of (complaint_id,token_id) tf-idf score:\n",
        "The tuples that are not there have a tf-idf score of 0"
      ]
    },
    {
      "cell_type": "code",
      "execution_count": 57,
      "metadata": {
        "colab": {
          "base_uri": "https://localhost:8080/"
        },
        "id": "ffzdDpp_JrGB",
        "outputId": "f5b93452-ad68-4aa5-9c50-ecd1af3dbdd3"
      },
      "outputs": [
        {
          "name": "stdout",
          "output_type": "stream",
          "text": [
            "Dimensiones de la DTM: (4031, 3016)\n",
            "Tuples Examples (complaint_id, token_id, tf-idf): [(np.int32(0), np.int32(1726), np.float64(0.25204495456604553)), (np.int32(0), np.int32(1264), np.float64(0.32648723995547285)), (np.int32(0), np.int32(432), np.float64(0.14998028423371368)), (np.int32(0), np.int32(702), np.float64(0.6219632274592659)), (np.int32(0), np.int32(2911), np.float64(0.2613889537363226)), (np.int32(0), np.int32(2601), np.float64(0.1663092062373814)), (np.int32(0), np.int32(2894), np.float64(0.3110444576539261)), (np.int32(0), np.int32(1581), np.float64(0.1669226476894862)), (np.int32(0), np.int32(1723), np.float64(0.1393194811908452)), (np.int32(0), np.int32(198), np.float64(0.18485277615234472))]\n"
          ]
        }
      ],
      "source": [
        "# Crea la Matriz Documento-Término (DTM) transformando la columna 'Complaint_clean' presente en df_clean.\n",
        "# Utiliza el vectorizador TF-IDF previamente definido (tfidf_vectorizer).\n",
        "dtm = tfidf_vectorizer.fit_transform(df_clean['Complaint_clean'])\n",
        "\n",
        "# Imprime las dimensiones de la DTM resultante.\n",
        "# La salida será en el formato (número de documentos, número de términos).\n",
        "print(f\"Dimensiones de la DTM: {dtm.shape}\")  # (Docs, tokens)\n",
        "\n",
        "# Obtiene las entradas no nulas de la matriz DTM.\n",
        "# dtm.nonzero() devuelve las posiciones de las entradas no nulas.\n",
        "# dtm.data contiene los valores TF-IDF correspondientes a esas posiciones.\n",
        "non_zero_entries = list(zip(dtm.nonzero()[0], dtm.nonzero()[1], dtm.data))\n",
        "\n",
        "# Imprime los primeros 10 ejemplos de tuplas en el formato (id_queja, id_término, tf-idf).\n",
        "# Esto muestra la relación entre los documentos y los términos con sus respectivos valores TF-IDF.\n",
        "print(f\"Tuples Examples (complaint_id, token_id, tf-idf): {non_zero_entries[:10]}\")"
      ]
    },
    {
      "cell_type": "markdown",
      "metadata": {},
      "source": [
        "La Matriz Documento-Término (DTM) tiene 21072 filas y 6382 columnas.\n",
        "Esto significa que hay 21072 documentos (quejas) y 6382 términos únicos (palabras) en el vocabulario después de aplicar el vectorizador TF-IDF."
      ]
    },
    {
      "cell_type": "markdown",
      "metadata": {
        "id": "7Q9lwvNEJrGB"
      },
      "source": [
        "## Topic Modelling using NMF\n",
        "\n",
        "Non-Negative Matrix Factorization (NMF) es una técnica no supervisada, por lo que no hay etiquetas de temas en los que se entrenará el modelo. La forma en que funciona es que NMF descompone (o factoriza) vectores de alta dimensión en una representación de menor dimensión. Estos vectores de menor dimensión no son negativos, lo que también significa que sus coeficientes no son negativos.\n",
        "\n",
        "En esta tarea tienes que realizar lo siguiente:\n",
        "\n",
        "* Find the best number of clusters\n",
        "* Apply the best number to create word clusters\n",
        "* Inspect & validate the correction of each cluster wrt the complaints\n",
        "* Correct the labels if needed\n",
        "* Map the clusters to topics/cluster names\n",
        "\n",
        "* Encuentra el mejor número de clústeres\n",
        "* Aplicar el mejor número para crear grupos de palabras\n",
        "* Inspeccionar y validar la corrección de cada grupo frente a las quejas (Complaints)\n",
        "* Corrija las etiquetas si es necesario\n",
        "* Mapear el grupo de nombres de topicos/clusters"
      ]
    },
    {
      "cell_type": "code",
      "execution_count": 58,
      "metadata": {
        "colab": {
          "base_uri": "https://localhost:8080/"
        },
        "id": "amLT4omWJrGB",
        "outputId": "a6694980-f4c1-49fc-b17f-f7c1c7067fde"
      },
      "outputs": [
        {
          "name": "stdout",
          "output_type": "stream",
          "text": [
            "Mejor número de clústeres: 13\n"
          ]
        }
      ],
      "source": [
        "from sklearn.decomposition import NMF\n",
        "from sklearn.feature_extraction.text import TfidfVectorizer\n",
        "\n",
        "tfidf_vectorizer = TfidfVectorizer(max_features=2000, stop_words='english', min_df=2)\n",
        "tfidf_matrix = tfidf_vectorizer.fit_transform(df_clean['Complaint_clean'])\n",
        "\n",
        "from sklearn.metrics import silhouette_score\n",
        "\n",
        "scores = []\n",
        "range_clusters = range(2, 15)  # Evaluar entre 2 y 15 clústeres\n",
        "\n",
        "for n_clusters in range_clusters:\n",
        "    nmf_model = NMF(n_components=n_clusters, random_state=42)\n",
        "    nmf_model.fit(tfidf_matrix)\n",
        "    cluster_labels = np.argmax(nmf_model.transform(tfidf_matrix), axis=1)\n",
        "    scores.append(silhouette_score(tfidf_matrix, cluster_labels))\n",
        "\n",
        "best_n_clusters = range_clusters[np.argmax(scores)]\n",
        "print(f\"Mejor número de clústeres: {best_n_clusters}\")"
      ]
    },
    {
      "cell_type": "code",
      "execution_count": 59,
      "metadata": {
        "colab": {
          "base_uri": "https://localhost:8080/"
        },
        "id": "6LlDe5-wA6W_",
        "outputId": "20e279ea-d04b-493c-d7ac-dd491d7b7144"
      },
      "outputs": [
        {
          "name": "stdout",
          "output_type": "stream",
          "text": [
            "\n",
            "Temas identificados:\n",
            "Topic 0: message, time, letter, customer, information, contact, email, phone, number, chase\n",
            "Topic 1: reason, company, amazon, year, purchase, chase, limit, score, credit, card\n",
            "Topic 2: error, statement, day, credit, time, pay, auto, mortgage, month, payment\n",
            "Topic 3: bank, checking, activity, identity, information, branch, year, access, reason, account\n",
            "Topic 4: contact, information, refund, service, purchase, file, item, company, merchant, dispute\n",
            "Topic 5: visa, reverse, card, pay, purchase, chase, month, statement, fraud, charge\n",
            "Topic 6: order, company, wire, day, claim, person, help, transfer, bank, money\n",
            "Topic 7: customer, dollar, chase, time, day, waive, refund, year, overdraft, fee\n",
            "Topic 8: card, transfer, purchase, investigation, fund, bank, fraud, debit, claim, transaction\n",
            "Topic 9: customer, manager, business, branch, day, bank, cash, fund, deposit, check\n",
            "Topic 10: request, information, score, theft, identity, reporting, company, inquiry, credit, report\n",
            "Topic 11: owe, period, offer, date, month, purchase, statement, pay, transfer, balance\n",
            "Topic 12: document, refinance, foreclosure, property, rate, year, home, modification, mortgage, loan\n"
          ]
        }
      ],
      "source": [
        "# Entrenar modelo NMF con el mejor número de clústeres\n",
        "nmf_model = NMF(n_components=best_n_clusters, random_state=42)\n",
        "W = nmf_model.fit_transform(tfidf_matrix)\n",
        "H = nmf_model.components_\n",
        "\n",
        "# Inspeccionar los términos principales en cada clúster\n",
        "terms = tfidf_vectorizer.get_feature_names_out()\n",
        "topics = {}\n",
        "\n",
        "for topic_idx, topic in enumerate(H):\n",
        "    top_terms = [terms[i] for i in topic.argsort()[-10:]]  # Obtener 10 términos principales\n",
        "    topics[f\"Topic {topic_idx}\"] = top_terms\n",
        "\n",
        "print(\"\\nTemas identificados:\")\n",
        "for topic, words in topics.items():\n",
        "    print(f\"{topic}: {', '.join(words)}\")"
      ]
    },
    {
      "cell_type": "markdown",
      "metadata": {
        "id": "-SmWKrPwDlRB"
      },
      "source": [
        "El modelo NMF con 14 clústeres logró identificar temas claros y coherentes relacionados con problemas financieros y bancarios. Entre los temas más destacados se encuentran:\n",
        "\n",
        "Cuentas y Fondos: Problemas con cuentas bancarias, depósitos y ahorros.\n",
        "\n",
        "Tarjetas de Crédito: Puntajes, límites y transacciones.\n",
        "\n",
        "Hipotecas y Préstamos: Incluyendo pagos y tasas hipotecarias.\n",
        "\n",
        "Fraude y Robo de Identidad: Transacciones sospechosas, reportes de crédito y robo de identidad.\n",
        "\n",
        "Servicios al Cliente y Comisiones: Reembolsos, sobregiros y servicio deficiente."
      ]
    },
    {
      "cell_type": "code",
      "execution_count": 74,
      "metadata": {
        "colab": {
          "base_uri": "https://localhost:8080/"
        },
        "id": "Akp6SvVgA6W_",
        "outputId": "5bfe9144-e35a-43b0-d737-c460531bcb74"
      },
      "outputs": [
        {
          "name": "stdout",
          "output_type": "stream",
          "text": [
            "\n",
            "Primeras filas del dataframe con etiquetas:\n",
            "                                     Complaint_clean            Topic_Label\n",
            "0  morning help chase debt verification statement...     Credit Card Issues\n",
            "1  agent anniversary date change agent informatio...     Credit Card Issues\n",
            "2  card application identity consent service exte...  Bank Account Services\n",
            "3  offer ticket reward card information minute no...    Mortgages and Loans\n",
            "4  son deposit chase account fund account pay mon...     Credit Card Issues\n"
          ]
        }
      ],
      "source": [
        "# Etiquetar las quejas con el tema más relevante\n",
        "df_clean['Assigned_Topic'] = np.argmax(W, axis=1)\n",
        "\n",
        "# Mapear los temas a nombres significativos\n",
        "topic_mapping = {\n",
        "    0: \"Credit Card Issues\",            # Servicios relacionados con tarjetas de creadito\n",
        "    1: \"Bank Account Services\",         # Servicios relacionados con cuentas bancarias\n",
        "    2: \"Fraud Reports\",                 # Reportes de robos o disputas de transacciones\n",
        "    3: \"Mortgages and Loans\",           # Temas sobre hipotecas o préstamos\n",
        "    4: \"Others\"\n",
        "}\n",
        "\n",
        "# Asignar etiquetas más descriptivas\n",
        "df_clean['Topic_Label'] = df_clean['Assigned_Topic'].map(topic_mapping)\n",
        "\n",
        "print(\"\\nPrimeras filas del dataframe con etiquetas:\")\n",
        "print(df_clean[['Complaint_clean', 'Topic_Label']].head())"
      ]
    },
    {
      "cell_type": "code",
      "execution_count": 75,
      "metadata": {
        "colab": {
          "base_uri": "https://localhost:8080/",
          "height": 206
        },
        "id": "kD1vczZ6CRQ-",
        "outputId": "ea91b2f9-2086-4654-8437-9f153e584788"
      },
      "outputs": [
        {
          "data": {
            "text/html": [
              "<div>\n",
              "<style scoped>\n",
              "    .dataframe tbody tr th:only-of-type {\n",
              "        vertical-align: middle;\n",
              "    }\n",
              "\n",
              "    .dataframe tbody tr th {\n",
              "        vertical-align: top;\n",
              "    }\n",
              "\n",
              "    .dataframe thead th {\n",
              "        text-align: right;\n",
              "    }\n",
              "</style>\n",
              "<table border=\"1\" class=\"dataframe\">\n",
              "  <thead>\n",
              "    <tr style=\"text-align: right;\">\n",
              "      <th></th>\n",
              "      <th>complaints</th>\n",
              "      <th>lemmatized</th>\n",
              "      <th>complaint_POS_removed</th>\n",
              "      <th>Complaint_clean</th>\n",
              "      <th>Assigned_Topic</th>\n",
              "      <th>Topic_Label</th>\n",
              "      <th>Best_Topic</th>\n",
              "      <th>Topic_Name</th>\n",
              "    </tr>\n",
              "  </thead>\n",
              "  <tbody>\n",
              "    <tr>\n",
              "      <th>0</th>\n",
              "      <td>good morning my name is xxxx xxxx and i apprec...</td>\n",
              "      <td>good morning xxxx xxxx appreciate help stop ch...</td>\n",
              "      <td>morning help chase debt verification statement...</td>\n",
              "      <td>morning help chase debt verification statement...</td>\n",
              "      <td>0</td>\n",
              "      <td>Credit Card Issues</td>\n",
              "      <td>0</td>\n",
              "      <td>Bank Account Services</td>\n",
              "    </tr>\n",
              "    <tr>\n",
              "      <th>1</th>\n",
              "      <td>i upgraded my xxxx xxxx card in xx xx and was ...</td>\n",
              "      <td>upgrade xxxx xxxx card xx xx tell agent upgrad...</td>\n",
              "      <td>agent anniversary date change agent informatio...</td>\n",
              "      <td>agent anniversary date change agent informatio...</td>\n",
              "      <td>0</td>\n",
              "      <td>Credit Card Issues</td>\n",
              "      <td>0</td>\n",
              "      <td>Bank Account Services</td>\n",
              "    </tr>\n",
              "    <tr>\n",
              "      <th>2</th>\n",
              "      <td>chase card was reported on xx xx however fraud...</td>\n",
              "      <td>chase card report xx xx fraudulent application...</td>\n",
              "      <td>card application identity consent service exte...</td>\n",
              "      <td>card application identity consent service exte...</td>\n",
              "      <td>1</td>\n",
              "      <td>Bank Account Services</td>\n",
              "      <td>1</td>\n",
              "      <td>Credit Card or Prepaid Card</td>\n",
              "    </tr>\n",
              "    <tr>\n",
              "      <th>3</th>\n",
              "      <td>on xx xx while trying to book a xxxx xxxx tick...</td>\n",
              "      <td>xx xx try book xxxx xxxx ticket come offer app...</td>\n",
              "      <td>offer ticket reward card information minute no...</td>\n",
              "      <td>offer ticket reward card information minute no...</td>\n",
              "      <td>3</td>\n",
              "      <td>Mortgages and Loans</td>\n",
              "      <td>3</td>\n",
              "      <td>Theft/Dispute Reporting</td>\n",
              "    </tr>\n",
              "    <tr>\n",
              "      <th>4</th>\n",
              "      <td>my grand son give me check for i deposit it in...</td>\n",
              "      <td>grand son check deposit chase account fund cle...</td>\n",
              "      <td>son deposit chase account fund account pay mon...</td>\n",
              "      <td>son deposit chase account fund account pay mon...</td>\n",
              "      <td>0</td>\n",
              "      <td>Credit Card Issues</td>\n",
              "      <td>0</td>\n",
              "      <td>Bank Account Services</td>\n",
              "    </tr>\n",
              "  </tbody>\n",
              "</table>\n",
              "</div>"
            ],
            "text/plain": [
              "                                          complaints  \\\n",
              "0  good morning my name is xxxx xxxx and i apprec...   \n",
              "1  i upgraded my xxxx xxxx card in xx xx and was ...   \n",
              "2  chase card was reported on xx xx however fraud...   \n",
              "3  on xx xx while trying to book a xxxx xxxx tick...   \n",
              "4  my grand son give me check for i deposit it in...   \n",
              "\n",
              "                                          lemmatized  \\\n",
              "0  good morning xxxx xxxx appreciate help stop ch...   \n",
              "1  upgrade xxxx xxxx card xx xx tell agent upgrad...   \n",
              "2  chase card report xx xx fraudulent application...   \n",
              "3  xx xx try book xxxx xxxx ticket come offer app...   \n",
              "4  grand son check deposit chase account fund cle...   \n",
              "\n",
              "                               complaint_POS_removed  \\\n",
              "0  morning help chase debt verification statement...   \n",
              "1  agent anniversary date change agent informatio...   \n",
              "2  card application identity consent service exte...   \n",
              "3  offer ticket reward card information minute no...   \n",
              "4  son deposit chase account fund account pay mon...   \n",
              "\n",
              "                                     Complaint_clean  Assigned_Topic  \\\n",
              "0  morning help chase debt verification statement...               0   \n",
              "1  agent anniversary date change agent informatio...               0   \n",
              "2  card application identity consent service exte...               1   \n",
              "3  offer ticket reward card information minute no...               3   \n",
              "4  son deposit chase account fund account pay mon...               0   \n",
              "\n",
              "             Topic_Label  Best_Topic                   Topic_Name  \n",
              "0     Credit Card Issues           0        Bank Account Services  \n",
              "1     Credit Card Issues           0        Bank Account Services  \n",
              "2  Bank Account Services           1  Credit Card or Prepaid Card  \n",
              "3    Mortgages and Loans           3      Theft/Dispute Reporting  \n",
              "4     Credit Card Issues           0        Bank Account Services  "
            ]
          },
          "execution_count": 75,
          "metadata": {},
          "output_type": "execute_result"
        }
      ],
      "source": [
        "df_clean.head()"
      ]
    },
    {
      "cell_type": "markdown",
      "metadata": {
        "id": "0wYR1xUTJrGD"
      },
      "source": [
        "## Manual Topic Modeling\n",
        "El modelado de tópicos manual utilizando NMF (Non-Negative Matrix Factorization) permite descubrir temas latentes en un conjunto de documentos. El proceso requiere ajustar iterativamente el número de tópicos (n_components) mediante un enfoque de prueba y error para encontrar la mejor representación de los datos. Este paso es crucial, ya que determina la calidad y la interpretabilidad de los tópicos generados."
      ]
    },
    {
      "cell_type": "code",
      "execution_count": 76,
      "metadata": {
        "colab": {
          "base_uri": "https://localhost:8080/"
        },
        "id": "sgd2A6bhJrGD",
        "outputId": "c82cf44a-98c8-48d8-e314-065e041af105"
      },
      "outputs": [
        {
          "name": "stdout",
          "output_type": "stream",
          "text": [
            "W (documento-tópico): (4031, 5)\n",
            "H (término-tópico): (5, 2000)\n"
          ]
        }
      ],
      "source": [
        "# Cargar y entrenar el modelo con 5 topicos\n",
        "num_topics = 5 #write the value you want to test out\n",
        "\n",
        "# Semilla aleatoria = 40\n",
        "nmf_model = NMF(n_components=num_topics, random_state=40, max_iter=300)\n",
        "\n",
        "# Entrenamiento\n",
        "nmf_model.fit(tfidf_matrix)\n",
        "\n",
        "W = nmf_model.transform(tfidf_matrix)  # MDocument Matrix\n",
        "H = nmf_model.components_  # Term Matrix\n",
        "\n",
        "print(f\"W (documento-tópico): {W.shape}\")\n",
        "print(f\"H (término-tópico): {H.shape}\")"
      ]
    },
    {
      "cell_type": "markdown",
      "metadata": {
        "id": "R_qm4DcXA6XA"
      },
      "source": [
        "Obtención de las 15 palabras más representativas para cada tópico generado por el modelo NMF. Estas palabras ayudan a interpretar los temas latentes y a etiquetarlos con nombres significativos."
      ]
    },
    {
      "cell_type": "code",
      "execution_count": 77,
      "metadata": {
        "colab": {
          "base_uri": "https://localhost:8080/"
        },
        "id": "16kRfat5JrGE",
        "outputId": "0ddd68d5-30ac-4b44-947b-88de1fff48d3"
      },
      "outputs": [
        {
          "name": "stdout",
          "output_type": "stream",
          "text": [
            "Topic 0:\n",
            "accommodation, fulfill, borrower, boot, complete, assertion, dilemma, ownership, glitch, award, clothing, owe, breakdown, enable, bankruptcy\n",
            "--------------------------------------------------------------------------------\n",
            "Topic 1:\n",
            "believe, circuit, boot, inqury, ask, humiliation, fact, map, post, health, measure, agent, diaper, ordering, intimidate\n",
            "--------------------------------------------------------------------------------\n",
            "Topic 2:\n",
            "heart, family, funnel, boot, fund, health, ordering, post, dozen, defendant, ask, frustration, arrange, insurance, modify\n",
            "--------------------------------------------------------------------------------\n",
            "Topic 3:\n",
            "leg, circuit, endure, buyer, enable, accommodation, legislation, earn, open, coincide, letter, delete, contain, map, express\n",
            "--------------------------------------------------------------------------------\n",
            "Topic 4:\n",
            "book, contain, defendant, owe, boot, foreclosure, inqury, breakdown, device, jpm, cd, ordering, measure, costumer, buyer\n",
            "--------------------------------------------------------------------------------\n"
          ]
        }
      ],
      "source": [
        "#Print the Top15 words for each of the topics\n",
        "def display_topics(H, feature_names, top_words=15):\n",
        "    for topic_idx, topic in enumerate(H):\n",
        "        print(f\"Topic {topic_idx}:\")\n",
        "        print(\", \".join([feature_names[i] for i in topic.argsort()[:-top_words - 1:-1]]))\n",
        "        print(\"-\" * 80)\n",
        "\n",
        "display_topics(H, tfidf_feature_names)"
      ]
    },
    {
      "cell_type": "markdown",
      "metadata": {
        "id": "HtHUADArA6XA"
      },
      "source": [
        "Visualizar los datos limpios"
      ]
    },
    {
      "cell_type": "code",
      "execution_count": 78,
      "metadata": {
        "colab": {
          "base_uri": "https://localhost:8080/",
          "height": 424
        },
        "id": "7hkWGDcv9Mh_",
        "outputId": "caacfd2a-01ad-4953-a11e-706a3928f13c"
      },
      "outputs": [
        {
          "data": {
            "text/html": [
              "<div>\n",
              "<style scoped>\n",
              "    .dataframe tbody tr th:only-of-type {\n",
              "        vertical-align: middle;\n",
              "    }\n",
              "\n",
              "    .dataframe tbody tr th {\n",
              "        vertical-align: top;\n",
              "    }\n",
              "\n",
              "    .dataframe thead th {\n",
              "        text-align: right;\n",
              "    }\n",
              "</style>\n",
              "<table border=\"1\" class=\"dataframe\">\n",
              "  <thead>\n",
              "    <tr style=\"text-align: right;\">\n",
              "      <th></th>\n",
              "      <th>complaints</th>\n",
              "      <th>lemmatized</th>\n",
              "      <th>complaint_POS_removed</th>\n",
              "      <th>Complaint_clean</th>\n",
              "      <th>Assigned_Topic</th>\n",
              "      <th>Topic_Label</th>\n",
              "      <th>Best_Topic</th>\n",
              "      <th>Topic_Name</th>\n",
              "    </tr>\n",
              "  </thead>\n",
              "  <tbody>\n",
              "    <tr>\n",
              "      <th>0</th>\n",
              "      <td>good morning my name is xxxx xxxx and i apprec...</td>\n",
              "      <td>good morning xxxx xxxx appreciate help stop ch...</td>\n",
              "      <td>morning help chase debt verification statement...</td>\n",
              "      <td>morning help chase debt verification statement...</td>\n",
              "      <td>0</td>\n",
              "      <td>Credit Card Issues</td>\n",
              "      <td>0</td>\n",
              "      <td>Bank Account Services</td>\n",
              "    </tr>\n",
              "    <tr>\n",
              "      <th>1</th>\n",
              "      <td>i upgraded my xxxx xxxx card in xx xx and was ...</td>\n",
              "      <td>upgrade xxxx xxxx card xx xx tell agent upgrad...</td>\n",
              "      <td>agent anniversary date change agent informatio...</td>\n",
              "      <td>agent anniversary date change agent informatio...</td>\n",
              "      <td>0</td>\n",
              "      <td>Credit Card Issues</td>\n",
              "      <td>0</td>\n",
              "      <td>Bank Account Services</td>\n",
              "    </tr>\n",
              "    <tr>\n",
              "      <th>2</th>\n",
              "      <td>chase card was reported on xx xx however fraud...</td>\n",
              "      <td>chase card report xx xx fraudulent application...</td>\n",
              "      <td>card application identity consent service exte...</td>\n",
              "      <td>card application identity consent service exte...</td>\n",
              "      <td>1</td>\n",
              "      <td>Bank Account Services</td>\n",
              "      <td>1</td>\n",
              "      <td>Credit Card or Prepaid Card</td>\n",
              "    </tr>\n",
              "    <tr>\n",
              "      <th>3</th>\n",
              "      <td>on xx xx while trying to book a xxxx xxxx tick...</td>\n",
              "      <td>xx xx try book xxxx xxxx ticket come offer app...</td>\n",
              "      <td>offer ticket reward card information minute no...</td>\n",
              "      <td>offer ticket reward card information minute no...</td>\n",
              "      <td>3</td>\n",
              "      <td>Mortgages and Loans</td>\n",
              "      <td>3</td>\n",
              "      <td>Theft/Dispute Reporting</td>\n",
              "    </tr>\n",
              "    <tr>\n",
              "      <th>4</th>\n",
              "      <td>my grand son give me check for i deposit it in...</td>\n",
              "      <td>grand son check deposit chase account fund cle...</td>\n",
              "      <td>son deposit chase account fund account pay mon...</td>\n",
              "      <td>son deposit chase account fund account pay mon...</td>\n",
              "      <td>0</td>\n",
              "      <td>Credit Card Issues</td>\n",
              "      <td>0</td>\n",
              "      <td>Bank Account Services</td>\n",
              "    </tr>\n",
              "    <tr>\n",
              "      <th>...</th>\n",
              "      <td>...</td>\n",
              "      <td>...</td>\n",
              "      <td>...</td>\n",
              "      <td>...</td>\n",
              "      <td>...</td>\n",
              "      <td>...</td>\n",
              "      <td>...</td>\n",
              "      <td>...</td>\n",
              "    </tr>\n",
              "    <tr>\n",
              "      <th>4026</th>\n",
              "      <td>jpmcb auto finance has been on my credit repor...</td>\n",
              "      <td>jpmcb auto finance credit report thatn month c...</td>\n",
              "      <td>auto finance credit report month charge hardsh...</td>\n",
              "      <td>auto finance credit report month charge hardsh...</td>\n",
              "      <td>3</td>\n",
              "      <td>Mortgages and Loans</td>\n",
              "      <td>3</td>\n",
              "      <td>Theft/Dispute Reporting</td>\n",
              "    </tr>\n",
              "    <tr>\n",
              "      <th>4027</th>\n",
              "      <td>on xx xx xxxx a vendor double charged my chase...</td>\n",
              "      <td>xx xx xxxx vendor double charge chase card tel...</td>\n",
              "      <td>charge chase card chase problem phone problem ...</td>\n",
              "      <td>charge chase card chase problem phone problem ...</td>\n",
              "      <td>4</td>\n",
              "      <td>Others</td>\n",
              "      <td>4</td>\n",
              "      <td>Others</td>\n",
              "    </tr>\n",
              "    <tr>\n",
              "      <th>4028</th>\n",
              "      <td>i filed an application for a mortgage refinanc...</td>\n",
              "      <td>file application mortgage refinance loan chase...</td>\n",
              "      <td>file application mortgage refinance loan chase...</td>\n",
              "      <td>file application mortgage refinance loan chase...</td>\n",
              "      <td>2</td>\n",
              "      <td>Fraud Reports</td>\n",
              "      <td>2</td>\n",
              "      <td>Mortgage/Loan</td>\n",
              "    </tr>\n",
              "    <tr>\n",
              "      <th>4029</th>\n",
              "      <td>re claim xxxx i do not feel that chase bank pr...</td>\n",
              "      <td>claim xxxx feel chase bank properly take time ...</td>\n",
              "      <td>time address dispute merchant cancel transacti...</td>\n",
              "      <td>time address dispute merchant cancel transacti...</td>\n",
              "      <td>4</td>\n",
              "      <td>Others</td>\n",
              "      <td>4</td>\n",
              "      <td>Others</td>\n",
              "    </tr>\n",
              "    <tr>\n",
              "      <th>4030</th>\n",
              "      <td>xx xx xxxx dear cfpb i hope this finds you wel...</td>\n",
              "      <td>xx xx xxxx dear cfpb hope find safe appeal ass...</td>\n",
              "      <td>cfpb hope appeal assistance resolve issue than...</td>\n",
              "      <td>cfpb hope appeal assistance resolve issue than...</td>\n",
              "      <td>0</td>\n",
              "      <td>Credit Card Issues</td>\n",
              "      <td>0</td>\n",
              "      <td>Bank Account Services</td>\n",
              "    </tr>\n",
              "  </tbody>\n",
              "</table>\n",
              "<p>4031 rows × 8 columns</p>\n",
              "</div>"
            ],
            "text/plain": [
              "                                             complaints  \\\n",
              "0     good morning my name is xxxx xxxx and i apprec...   \n",
              "1     i upgraded my xxxx xxxx card in xx xx and was ...   \n",
              "2     chase card was reported on xx xx however fraud...   \n",
              "3     on xx xx while trying to book a xxxx xxxx tick...   \n",
              "4     my grand son give me check for i deposit it in...   \n",
              "...                                                 ...   \n",
              "4026  jpmcb auto finance has been on my credit repor...   \n",
              "4027  on xx xx xxxx a vendor double charged my chase...   \n",
              "4028  i filed an application for a mortgage refinanc...   \n",
              "4029  re claim xxxx i do not feel that chase bank pr...   \n",
              "4030  xx xx xxxx dear cfpb i hope this finds you wel...   \n",
              "\n",
              "                                             lemmatized  \\\n",
              "0     good morning xxxx xxxx appreciate help stop ch...   \n",
              "1     upgrade xxxx xxxx card xx xx tell agent upgrad...   \n",
              "2     chase card report xx xx fraudulent application...   \n",
              "3     xx xx try book xxxx xxxx ticket come offer app...   \n",
              "4     grand son check deposit chase account fund cle...   \n",
              "...                                                 ...   \n",
              "4026  jpmcb auto finance credit report thatn month c...   \n",
              "4027  xx xx xxxx vendor double charge chase card tel...   \n",
              "4028  file application mortgage refinance loan chase...   \n",
              "4029  claim xxxx feel chase bank properly take time ...   \n",
              "4030  xx xx xxxx dear cfpb hope find safe appeal ass...   \n",
              "\n",
              "                                  complaint_POS_removed  \\\n",
              "0     morning help chase debt verification statement...   \n",
              "1     agent anniversary date change agent informatio...   \n",
              "2     card application identity consent service exte...   \n",
              "3     offer ticket reward card information minute no...   \n",
              "4     son deposit chase account fund account pay mon...   \n",
              "...                                                 ...   \n",
              "4026  auto finance credit report month charge hardsh...   \n",
              "4027  charge chase card chase problem phone problem ...   \n",
              "4028  file application mortgage refinance loan chase...   \n",
              "4029  time address dispute merchant cancel transacti...   \n",
              "4030  cfpb hope appeal assistance resolve issue than...   \n",
              "\n",
              "                                        Complaint_clean  Assigned_Topic  \\\n",
              "0     morning help chase debt verification statement...               0   \n",
              "1     agent anniversary date change agent informatio...               0   \n",
              "2     card application identity consent service exte...               1   \n",
              "3     offer ticket reward card information minute no...               3   \n",
              "4     son deposit chase account fund account pay mon...               0   \n",
              "...                                                 ...             ...   \n",
              "4026  auto finance credit report month charge hardsh...               3   \n",
              "4027  charge chase card chase problem phone problem ...               4   \n",
              "4028  file application mortgage refinance loan chase...               2   \n",
              "4029  time address dispute merchant cancel transacti...               4   \n",
              "4030  cfpb hope appeal assistance resolve issue than...               0   \n",
              "\n",
              "                Topic_Label  Best_Topic                   Topic_Name  \n",
              "0        Credit Card Issues           0        Bank Account Services  \n",
              "1        Credit Card Issues           0        Bank Account Services  \n",
              "2     Bank Account Services           1  Credit Card or Prepaid Card  \n",
              "3       Mortgages and Loans           3      Theft/Dispute Reporting  \n",
              "4        Credit Card Issues           0        Bank Account Services  \n",
              "...                     ...         ...                          ...  \n",
              "4026    Mortgages and Loans           3      Theft/Dispute Reporting  \n",
              "4027                 Others           4                       Others  \n",
              "4028          Fraud Reports           2                Mortgage/Loan  \n",
              "4029                 Others           4                       Others  \n",
              "4030     Credit Card Issues           0        Bank Account Services  \n",
              "\n",
              "[4031 rows x 8 columns]"
            ]
          },
          "execution_count": 78,
          "metadata": {},
          "output_type": "execute_result"
        }
      ],
      "source": [
        "df_clean"
      ]
    },
    {
      "cell_type": "markdown",
      "metadata": {
        "id": "piyLxzj6v07j"
      },
      "source": [
        "Una vez evaluado el mapeo de los tópicos y confirmado que las asignaciones son correctas, procede a etiquetar cada tópico con nombres relevantes que representen de manera clara su contenido. Los nombres sugeridos para los tópicos identificados son:\n",
        "\n",
        "- Servicios de cuentas bancarias (Bank Account Services): Incluye temas relacionados con cuentas, saldos, depósitos, transacciones y problemas asociados a servicios bancarios generales.\n",
        "- Tarjetas de crédito o prepagadas (Credit Card or Prepaid Card): Representa tópicos relacionados con el uso, cargos, disputas y problemas de tarjetas de crédito o prepagadas.\n",
        "- Reporte de robos o disputas (Theft/Dispute Reporting): Agrupa quejas relacionadas con fraudes, transacciones no autorizadas, y reportes de disputas por transacciones incorrectas.\n",
        "- Hipotecas/Préstamos (Mortgage/Loan): Incluye temas relacionados con hipotecas, tasas de interés, pagos de préstamos y refinanciamiento.\n",
        "Otros (Others): Agrupa temas diversos que no encajan claramente en los anteriores."
      ]
    },
    {
      "cell_type": "code",
      "execution_count": 79,
      "metadata": {
        "id": "0OIT7LmFJrGF"
      },
      "outputs": [],
      "source": [
        "# Asignar el mejor tópico a cada queja en forma de valores enteros (0, 1, 2, 3, 4)\n",
        "\n",
        "# Crear un diccionario que asocia los números de los tópicos con sus nombres significativos\n",
        "topic_names = {\n",
        "    0: \"Account and Banking Operations\",        # Servicios relacionados con cuentas bancarias\n",
        "    1: \"Credit Cards and Financial Products\",   # Problemas relacionados con tarjetas de crédito o prepagadas\n",
        "    2: \"Reports and Identity Issues\",           # Reportes de robos o disputas de transacciones\n",
        "    3: \"Loans and Mortgage Payments\",           # Temas sobre hipotecas o préstamo \n",
        "    4: \"Other\"                                  # Categoría para temas diversos no clasificados\n",
        "}\n",
        "\n",
        "# Asignar a cada documento el número del tópico más relevante basado en la matriz documento-tópico W\n",
        "df_clean['Best_Topic'] = W.argmax(axis=1)\n",
        "\n",
        "# Mapear los valores numéricos de los tópicos a sus nombres utilizando el diccionario creado\n",
        "df_clean['Topic_Name'] = df_clean['Best_Topic'].map(topic_names)"
      ]
    },
    {
      "cell_type": "code",
      "execution_count": 80,
      "metadata": {
        "colab": {
          "base_uri": "https://localhost:8080/"
        },
        "id": "aQKpufSPJrGG",
        "outputId": "e58c39ed-17ae-48f4-ebde-4177eaa865ef"
      },
      "outputs": [
        {
          "name": "stdout",
          "output_type": "stream",
          "text": [
            "Topic 0:\n",
            "0     morning help chase debt verification statement...\n",
            "1     agent anniversary date change agent informatio...\n",
            "4     son deposit chase account fund account pay mon...\n",
            "6     chase restrict account debit card branch custo...\n",
            "10                                   account chase auto\n",
            "Name: Complaint_clean, dtype: object\n",
            "--------------------------------------------------------------------------------\n",
            "Topic 1:\n",
            "2     card application identity consent service exte...\n",
            "14    amazon card decline catering order place broth...\n",
            "21    citizen time share company credit card informa...\n",
            "22    roommate steal chase debit card driver license...\n",
            "25    reward point month access chase account bonus ...\n",
            "Name: Complaint_clean, dtype: object\n",
            "--------------------------------------------------------------------------------\n",
            "Topic 3:\n",
            "3     offer ticket reward card information minute no...\n",
            "5                                               inquiry\n",
            "9     chase credit card datum credit report company ...\n",
            "11    time attempt inquiry remove contact creditor i...\n",
            "35    student loan bank sell account account attempt...\n",
            "Name: Complaint_clean, dtype: object\n",
            "--------------------------------------------------------------------------------\n",
            "Topic 2:\n",
            "7     summer month experience decline income employm...\n",
            "23                    loan modification chase m payment\n",
            "24    purchase payment closing date statement purcha...\n",
            "30    wire branch reinstatement order foreclosure pr...\n",
            "32    release title contact chase time resolution ti...\n",
            "Name: Complaint_clean, dtype: object\n",
            "--------------------------------------------------------------------------------\n",
            "Topic 4:\n",
            "8     payment retailer chase pay chase website scam ...\n",
            "13    concern charge overdraft fee alert balance uns...\n",
            "16    love seat table chair debit card charge bank v...\n",
            "19    purchase transaction place dispute case credit...\n",
            "20    answer question access information reason acce...\n",
            "Name: Complaint_clean, dtype: object\n",
            "--------------------------------------------------------------------------------\n"
          ]
        }
      ],
      "source": [
        "# Quejas por tópico\n",
        "for topic in df_clean['Best_Topic'].unique():\n",
        "    print(f\"Topic {topic}:\")\n",
        "    print(df_clean[df_clean['Best_Topic'] == topic]['Complaint_clean'].head(5))\n",
        "    print(\"-\" * 80)"
      ]
    },
    {
      "cell_type": "markdown",
      "metadata": {
        "id": "mDoIX-mcA6XB"
      },
      "source": [
        "El uso del modelo NMF para el análisis de tópicos ha permitido descomponer las quejas en temas latentes bien definidos, como servicios bancarios, problemas con tarjetas de crédito, disputas de transacciones, hipotecas y una categoría residual para otros asuntos. Este enfoque ofrece las siguientes ventajas clave:\n",
        "\n",
        "- Identificación Temática: Los tópicos descubiertos ayudan a clasificar automáticamente las quejas, permitiendo un análisis más estructurado y eficiente.\n",
        "- Interpretabilidad: La extracción de palabras clave asociadas a cada tópico facilita la comprensión del contenido y la asignación de nombres significativos.\n",
        "- Toma de Decisiones Informada: La categorización temática es una herramienta poderosa para priorizar áreas críticas, optimizar recursos y mejorar la experiencia del cliente.\n",
        "\n",
        "Este modelo no solo organiza información desestructurada, sino que también proporciona una base sólida para la creación de soluciones prácticas como automatización en la atención al cliente, identificación de problemas recurrentes y diseño de estrategias específicas para abordar los principales temas detectados."
      ]
    },
    {
      "cell_type": "markdown",
      "metadata": {
        "id": "7Mu0QBOcJrGH"
      },
      "source": [
        "## Supervised model to predict any new complaints to the relevant Topics.\n",
        "\n",
        "Hasta ahora ha creado el modelo para crear los temas para cada queja. Entonces, en la siguiente sección, los utilizará para clasificar cualquier queja nueva.\n",
        "\n",
        "Dado que utilizará la técnica de aprendizaje supervisado, tenemos que convertir los nombres de los temas en números (las matrices numpy solo entienden los números)"
      ]
    },
    {
      "cell_type": "markdown",
      "metadata": {
        "id": "280Vbqk-7a8M"
      },
      "source": [
        "#### Apply the supervised models on the training data created. In this process, you have to do the following:\n",
        "* Create the vector counts using Count Vectoriser\n",
        "* Transform the word vecotr to tf-idf\n",
        "* Create the train & test data using the train_test_split on the tf-idf & topics\n"
      ]
    },
    {
      "cell_type": "code",
      "execution_count": 81,
      "metadata": {
        "colab": {
          "base_uri": "https://localhost:8080/"
        },
        "id": "QcYsW0fIAQeq",
        "outputId": "98c2728a-b8b9-4c68-817e-c6f9ba36671c"
      },
      "outputs": [
        {
          "name": "stdout",
          "output_type": "stream",
          "text": [
            "Training: (3224,), Test: (807,)\n"
          ]
        }
      ],
      "source": [
        "from sklearn.model_selection import train_test_split\n",
        "\n",
        "#Keep the columns\"complaint_what_happened\" & \"Topic\" only in the new dataframe --> training_data\n",
        "\n",
        "X = df_clean['Complaint_clean']\n",
        "y = df_clean['Best_Topic']\n",
        "\n",
        "X_train, X_test, y_train, y_test = train_test_split(X, y, test_size=0.2, random_state=42)\n",
        "\n",
        "print(f\"Training: {X_train.shape}, Test: {X_test.shape}\")\n"
      ]
    },
    {
      "cell_type": "code",
      "execution_count": 82,
      "metadata": {
        "colab": {
          "base_uri": "https://localhost:8080/"
        },
        "id": "4Ea1mGjXAcnr",
        "outputId": "ea250f9f-51a0-4ce0-f194-a822b4e81968"
      },
      "outputs": [
        {
          "name": "stdout",
          "output_type": "stream",
          "text": [
            "Dimensions of TF-IDF (Training): (3224, 4871)\n"
          ]
        }
      ],
      "source": [
        "from sklearn.feature_extraction.text import TfidfVectorizer\n",
        "\n",
        "# Vectorization TF-IDF\n",
        "vectorizer = TfidfVectorizer(max_features=5000, stop_words='english')\n",
        "X_train_tfidf = vectorizer.fit_transform(X_train)\n",
        "X_test_tfidf = vectorizer.transform(X_test)\n",
        "\n",
        "print(f\"Dimensions of TF-IDF (Training): {X_train_tfidf.shape}\")"
      ]
    },
    {
      "cell_type": "markdown",
      "metadata": {
        "id": "uMU3vj6w-wqL"
      },
      "source": [
        "You have to try atleast 3 models on the train & test data from these options:\n",
        "* Logistic regression\n",
        "* Decision Tree\n",
        "* Random Forest\n",
        "* Naive Bayes (optional)\n",
        "\n",
        "**Using the required evaluation metrics judge the tried models and select the ones performing the best**"
      ]
    },
    {
      "cell_type": "code",
      "execution_count": 83,
      "metadata": {
        "colab": {
          "base_uri": "https://localhost:8080/"
        },
        "id": "lVg2pa12JrGI",
        "outputId": "8919572a-08fc-4927-ec9e-3c7cd51a8809"
      },
      "outputs": [
        {
          "name": "stdout",
          "output_type": "stream",
          "text": [
            "Logistic Regression Accuracy: 0.9355638166047088\n",
            "              precision    recall  f1-score   support\n",
            "\n",
            "           0       0.92      0.97      0.94       208\n",
            "           1       0.92      0.91      0.91       147\n",
            "           2       0.96      0.98      0.97       175\n",
            "           3       0.98      0.85      0.91       110\n",
            "           4       0.92      0.93      0.93       167\n",
            "\n",
            "    accuracy                           0.94       807\n",
            "   macro avg       0.94      0.93      0.93       807\n",
            "weighted avg       0.94      0.94      0.94       807\n",
            "\n"
          ]
        }
      ],
      "source": [
        "#Model 1: Logistic Regresion\n",
        "\n",
        "from sklearn.linear_model import LogisticRegression\n",
        "from sklearn.metrics import classification_report, accuracy_score\n",
        "\n",
        "#Creación de modelo de regresion logística\n",
        "logistic_model = LogisticRegression(random_state=42, max_iter=300)\n",
        "\n",
        "#Relacionando variables dentro del modelo creado\n",
        "logistic_model.fit(X_train_tfidf, y_train)\n",
        "\n",
        "#Predicción de valores a partir del modelo obtenido\n",
        "y_pred_logistic = logistic_model.predict(X_test_tfidf)\n",
        "\n",
        "#Impresión de la información:\n",
        "print(\"Logistic Regression Accuracy:\", accuracy_score(y_test, y_pred_logistic))\n",
        "print(classification_report(y_test, y_pred_logistic))\n"
      ]
    },
    {
      "cell_type": "code",
      "execution_count": 84,
      "metadata": {
        "colab": {
          "base_uri": "https://localhost:8080/"
        },
        "id": "Unddcvc_BU9Q",
        "outputId": "2c1c9cae-a3ee-4fb5-a52c-4b24db65db2d"
      },
      "outputs": [
        {
          "name": "stdout",
          "output_type": "stream",
          "text": [
            "Random Forest Accuracy: 0.8550185873605948\n",
            "              precision    recall  f1-score   support\n",
            "\n",
            "           0       0.81      0.95      0.87       208\n",
            "           1       0.88      0.76      0.82       147\n",
            "           2       0.89      0.88      0.88       175\n",
            "           3       0.90      0.76      0.83       110\n",
            "           4       0.85      0.86      0.85       167\n",
            "\n",
            "    accuracy                           0.86       807\n",
            "   macro avg       0.86      0.84      0.85       807\n",
            "weighted avg       0.86      0.86      0.85       807\n",
            "\n"
          ]
        }
      ],
      "source": [
        "#Model 2: Random Forest\n",
        "from sklearn.ensemble import RandomForestClassifier\n",
        "\n",
        "#Creación de modelo de Clasificación de Random Forest\n",
        "random_forest_model = RandomForestClassifier(random_state=42)\n",
        "\n",
        "#Relacionando variables dentro del modelo creado\n",
        "random_forest_model.fit(X_train_tfidf, y_train)\n",
        "\n",
        "#Predicción de valores a partir del modelo obtenido\n",
        "y_pred_forest = random_forest_model.predict(X_test_tfidf)\n",
        "\n",
        "#Impresión de la información:\n",
        "print(\"Random Forest Accuracy:\", accuracy_score(y_test, y_pred_forest))\n",
        "print(classification_report(y_test, y_pred_forest))"
      ]
    },
    {
      "cell_type": "code",
      "execution_count": 85,
      "metadata": {
        "colab": {
          "base_uri": "https://localhost:8080/"
        },
        "id": "e_hd_NWrBbpH",
        "outputId": "3df3501e-4300-45cd-80dd-8b78a5a5b2af"
      },
      "outputs": [
        {
          "name": "stdout",
          "output_type": "stream",
          "text": [
            "Decision Tree Accuracy: 0.8116480793060719\n",
            "              precision    recall  f1-score   support\n",
            "\n",
            "           0       0.82      0.82      0.82       208\n",
            "           1       0.78      0.85      0.81       147\n",
            "           2       0.85      0.88      0.87       175\n",
            "           3       0.82      0.74      0.78       110\n",
            "           4       0.79      0.74      0.77       167\n",
            "\n",
            "    accuracy                           0.81       807\n",
            "   macro avg       0.81      0.81      0.81       807\n",
            "weighted avg       0.81      0.81      0.81       807\n",
            "\n"
          ]
        }
      ],
      "source": [
        "#Model 3: Decision Trees\n",
        "from sklearn.tree import DecisionTreeClassifier\n",
        "\n",
        "#Creación de modelo de Decision Tree Classifier\n",
        "decision_tree_model = DecisionTreeClassifier(random_state=42)\n",
        "\n",
        "#Relacionando variables dentro del modelo creado\n",
        "decision_tree_model.fit(X_train_tfidf, y_train)\n",
        "\n",
        "#Predicción de valores a partir del modelo obtenido\n",
        "y_pred_tree = decision_tree_model.predict(X_test_tfidf)\n",
        "\n",
        "#Impresión de la información:\n",
        "print(\"Decision Tree Accuracy:\", accuracy_score(y_test, y_pred_tree))\n",
        "print(classification_report(y_test, y_pred_tree))\n"
      ]
    },
    {
      "cell_type": "markdown",
      "metadata": {
        "id": "VB-vCoGBA6XE"
      },
      "source": [
        "# Conclusión sobre la comparación de los 3 modelos a realizar:\n",
        "\n",
        "Del análisis anterior podemos decir que la regresión logística es el modelo de mejor rendimiento y otorga una puntuación F1 de 0,96 en la prueba. En cuanto a la precisión (accuracy) del modelo de regresión logística de 0.9356 (aproximadamente un 93.56%) significa que el modelo acertó en un 93.56% de las predicciones sobre el total de observaciones del conjunto de datos que indica que el modelo está haciendo un buen trabajo en predecir correctamente los resultados, en comparación con Random Forest y Decision Tree."
      ]
    },
    {
      "cell_type": "markdown",
      "metadata": {
        "id": "zKFCJEpbEaCR"
      },
      "source": [
        "**Clasification of New Complaints**"
      ]
    },
    {
      "cell_type": "code",
      "execution_count": 86,
      "metadata": {
        "colab": {
          "base_uri": "https://localhost:8080/"
        },
        "id": "HMqt9bNVCtZV",
        "outputId": "92e510d8-d1f7-40b2-e19d-128ca4ec75aa"
      },
      "outputs": [
        {
          "name": "stdout",
          "output_type": "stream",
          "text": [
            "Complaint: My credit card was charged without my authorization\n",
            "Predicted Topic: Credit Cards and Financial Products\n",
            "--------------------------------------------------\n",
            "Complaint: I need help with my mortgage payment\n",
            "Predicted Topic: Loans and Mortgage Payments\n",
            "--------------------------------------------------\n",
            "Complaint: My Account was Hacked\n",
            "Predicted Topic: Account and Banking Operations\n",
            "--------------------------------------------------\n",
            "Complaint: I lost my card\n",
            "Predicted Topic: Credit Cards and Financial Products\n",
            "--------------------------------------------------\n",
            "Complaint: Help me my son purchased an article very expensive\n",
            "Predicted Topic: Account and Banking Operations\n",
            "--------------------------------------------------\n",
            "Complaint: I did a transfer but it was duplicated\n",
            "Predicted Topic: Account and Banking Operations\n",
            "--------------------------------------------------\n"
          ]
        }
      ],
      "source": [
        "# Random Forest\n",
        "# New Complaints\n",
        "new_complaints = [\"My credit card was charged without my authorization\",\n",
        "                  \"I need help with my mortgage payment\",\n",
        "                  \"My Account was Hacked\",\n",
        "                  \"I lost my card\",\n",
        "                  \"Help me my son purchased an article very expensive\",\n",
        "                  \"I did a transfer but it was duplicated\"]\n",
        "\n",
        "# Transform with TF-IDF\n",
        "new_complaints_tfidf = vectorizer.transform(new_complaints)\n",
        "\n",
        "# Clasify with best model\n",
        "predicted_topics = random_forest_model.predict(new_complaints_tfidf)\n",
        "\n",
        "# Mapping\n",
        "predicted_topic_names = [df_clean['Topic_Name'].unique()[topic] for topic in predicted_topics]\n",
        "\n",
        "for complaint, topic in zip(new_complaints, predicted_topic_names):\n",
        "    print(f\"Complaint: {complaint}\")\n",
        "    print(f\"Predicted Topic: {topic}\")\n",
        "    print(\"-\" * 50)"
      ]
    },
    {
      "cell_type": "code",
      "execution_count": 87,
      "metadata": {
        "colab": {
          "base_uri": "https://localhost:8080/"
        },
        "id": "g2ag6FF7DpYv",
        "outputId": "5778c0d3-54ef-417f-c996-f1509b2b6766"
      },
      "outputs": [
        {
          "name": "stdout",
          "output_type": "stream",
          "text": [
            "Complaint: My credit card was charged without my authorization\n",
            "Predicted Topic (Logistic Regression): Credit Cards and Financial Products\n",
            "--------------------------------------------------\n",
            "Complaint: I need help with my mortgage payment\n",
            "Predicted Topic (Logistic Regression): Loans and Mortgage Payments\n",
            "--------------------------------------------------\n",
            "Complaint: My Account was Hacked\n",
            "Predicted Topic (Logistic Regression): Account and Banking Operations\n",
            "--------------------------------------------------\n",
            "Complaint: I lost my card\n",
            "Predicted Topic (Logistic Regression): Credit Cards and Financial Products\n",
            "--------------------------------------------------\n",
            "Complaint: Help me my son purchased an article very expensive\n",
            "Predicted Topic (Logistic Regression): Account and Banking Operations\n",
            "--------------------------------------------------\n",
            "Complaint: I did a transfer but it was duplicated\n",
            "Predicted Topic (Logistic Regression): Account and Banking Operations\n",
            "--------------------------------------------------\n"
          ]
        }
      ],
      "source": [
        "# Regresion\n",
        "new_complaints = [\n",
        "    \"My credit card was charged without my authorization\",\n",
        "    \"I need help with my mortgage payment\",\n",
        "    \"My Account was Hacked\",\n",
        "    \"I lost my card\",\n",
        "    \"Help me my son purchased an article very expensive\",\n",
        "    \"I did a transfer but it was duplicated\"\n",
        "]\n",
        "\n",
        "new_complaints_tfidf = vectorizer.transform(new_complaints)\n",
        "\n",
        "predicted_topics = logistic_model.predict(new_complaints_tfidf)\n",
        "\n",
        "predicted_topic_names = [df_clean['Topic_Name'].unique()[topic] for topic in predicted_topics]\n",
        "\n",
        "for complaint, topic in zip(new_complaints, predicted_topic_names):\n",
        "    print(f\"Complaint: {complaint}\")\n",
        "    print(f\"Predicted Topic (Logistic Regression): {topic}\")\n",
        "    print(\"-\" * 50)\n"
      ]
    }
  ],
  "metadata": {
    "colab": {
      "provenance": []
    },
    "kernelspec": {
      "display_name": "ds_env",
      "language": "python",
      "name": "python3"
    },
    "language_info": {
      "codemirror_mode": {
        "name": "ipython",
        "version": 3
      },
      "file_extension": ".py",
      "mimetype": "text/x-python",
      "name": "python",
      "nbconvert_exporter": "python",
      "pygments_lexer": "ipython3",
      "version": "3.11.5"
    }
  },
  "nbformat": 4,
  "nbformat_minor": 0
}
