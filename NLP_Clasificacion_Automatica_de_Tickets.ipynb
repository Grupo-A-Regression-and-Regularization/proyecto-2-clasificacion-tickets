{
  "cells": [
    {
      "cell_type": "markdown",
      "metadata": {
        "id": "rhR-ZUkwJrFn"
      },
      "source": [
        "# Clasificacion Automatica de Tickets con NLP\n",
        "\n",
        "### Integrantes\n",
        "* Integrante 1\n",
        "* Integrante 2\n",
        "* Integrante 3\n",
        "\n",
        "## Descripcion del Problema\n",
        "\n",
        "Debe crear un modelo que pueda clasificar las quejas (complaints) de los clientes en función de los productos/servicios. Al hacerlo, puede segregar estos tickets en sus categorías relevantes y, por lo tanto, ayudar en la resolución rápida del problema.\n",
        "\n",
        "Realizará el modelado de temas en los datos <b>.json</b> proporcionados por la empresa. Dado que estos datos no están etiquetados, debe aplicar NMF para analizar patrones y clasificar los tickets en los siguientes cinco grupos según sus productos/servicios:\n",
        "\n",
        "* Tarjetas de Credito / Tarjetas Prepagadas (Credit card / Prepaid Card)\n",
        "\n",
        "* Servicios de Cuentas de Banco (Bank account services)\n",
        "\n",
        "* Reportes de Robos (Theft/Dispute reporting)\n",
        "\n",
        "* Prestamos Hipotecarios y Otros Prestamos (Mortgages/loans)\n",
        "\n",
        "* Otros\n",
        "\n",
        "Con la ayuda del modelado de temas, podrá asignar cada ticket a su respectivo departamento/categoría. Luego puede usar estos datos para entrenar cualquier modelo supervisado, como regresión logística, árbol de decisión o bosque aleatorio. Usando este modelo entrenado, puede clasificar cualquier nuevo ticket de soporte de quejas de clientes en su departamento correspondiente."
      ]
    },
    {
      "cell_type": "markdown",
      "metadata": {
        "id": "mcgXVNyaLUFS"
      },
      "source": [
        "## Flujo de Trajajo a Realizar:\n",
        "\n",
        "Debe realizar las siguientes ocho tareas principales para completar la tarea:\n",
        "\n",
        "1. Data Loading\n",
        "\n",
        "2. Text preprocessing\n",
        "\n",
        "3. Exploratory Data Analysis (EDA)\n",
        "\n",
        "4. Feature Extraction\n",
        "\n",
        "5. Topic modeling\n",
        "\n",
        "6. Model building using Supervised Learning\n",
        "\n",
        "7. Model training and evaluation\n",
        "\n",
        "8. Model inference"
      ]
    },
    {
      "cell_type": "markdown",
      "metadata": {
        "id": "5dn8WtJ9jscz"
      },
      "source": [
        "## Setup e Importacion de Librerias"
      ]
    },
    {
      "cell_type": "code",
      "execution_count": 1,
      "metadata": {
        "colab": {
          "base_uri": "https://localhost:8080/"
        },
        "id": "hryiAceMjscz",
        "outputId": "68c2b94b-e0ea-4ccd-9871-167899c12169"
      },
      "outputs": [
        {
          "name": "stdout",
          "output_type": "stream",
          "text": [
            "Requirement already satisfied: spacy in c:\\users\\adadf\\appdata\\roaming\\python\\python311\\site-packages (3.8.2)\n",
            "Requirement already satisfied: spacy-legacy<3.1.0,>=3.0.11 in c:\\users\\adadf\\appdata\\roaming\\python\\python311\\site-packages (from spacy) (3.0.12)\n",
            "Requirement already satisfied: spacy-loggers<2.0.0,>=1.0.0 in c:\\users\\adadf\\appdata\\roaming\\python\\python311\\site-packages (from spacy) (1.0.5)\n",
            "Requirement already satisfied: murmurhash<1.1.0,>=0.28.0 in c:\\users\\adadf\\appdata\\roaming\\python\\python311\\site-packages (from spacy) (1.0.11)\n",
            "Requirement already satisfied: cymem<2.1.0,>=2.0.2 in c:\\users\\adadf\\appdata\\roaming\\python\\python311\\site-packages (from spacy) (2.0.10)\n",
            "Requirement already satisfied: preshed<3.1.0,>=3.0.2 in c:\\users\\adadf\\appdata\\roaming\\python\\python311\\site-packages (from spacy) (3.0.9)\n",
            "Requirement already satisfied: thinc<8.4.0,>=8.3.0 in c:\\users\\adadf\\appdata\\roaming\\python\\python311\\site-packages (from spacy) (8.3.2)\n",
            "Requirement already satisfied: wasabi<1.2.0,>=0.9.1 in c:\\users\\adadf\\appdata\\roaming\\python\\python311\\site-packages (from spacy) (1.1.3)\n",
            "Requirement already satisfied: srsly<3.0.0,>=2.4.3 in c:\\users\\adadf\\appdata\\roaming\\python\\python311\\site-packages (from spacy) (2.4.8)\n",
            "Requirement already satisfied: catalogue<2.1.0,>=2.0.6 in c:\\users\\adadf\\appdata\\roaming\\python\\python311\\site-packages (from spacy) (2.0.10)\n",
            "Requirement already satisfied: weasel<0.5.0,>=0.1.0 in c:\\users\\adadf\\appdata\\roaming\\python\\python311\\site-packages (from spacy) (0.4.1)\n",
            "Requirement already satisfied: typer<1.0.0,>=0.3.0 in c:\\users\\adadf\\appdata\\roaming\\python\\python311\\site-packages (from spacy) (0.13.1)\n",
            "Requirement already satisfied: tqdm<5.0.0,>=4.38.0 in c:\\users\\adadf\\anaconda3\\lib\\site-packages (from spacy) (4.66.4)\n",
            "Requirement already satisfied: requests<3.0.0,>=2.13.0 in c:\\users\\adadf\\anaconda3\\lib\\site-packages (from spacy) (2.32.3)\n",
            "Requirement already satisfied: pydantic!=1.8,!=1.8.1,<3.0.0,>=1.7.4 in c:\\users\\adadf\\anaconda3\\lib\\site-packages (from spacy) (2.5.3)\n",
            "Requirement already satisfied: jinja2 in c:\\users\\adadf\\anaconda3\\lib\\site-packages (from spacy) (3.1.4)\n",
            "Requirement already satisfied: setuptools in c:\\users\\adadf\\anaconda3\\lib\\site-packages (from spacy) (72.1.0)\n",
            "Requirement already satisfied: packaging>=20.0 in c:\\users\\adadf\\appdata\\roaming\\python\\python311\\site-packages (from spacy) (24.1)\n",
            "Requirement already satisfied: langcodes<4.0.0,>=3.2.0 in c:\\users\\adadf\\appdata\\roaming\\python\\python311\\site-packages (from spacy) (3.5.0)\n",
            "Requirement already satisfied: numpy>=1.19.0 in c:\\users\\adadf\\appdata\\roaming\\python\\python311\\site-packages (from spacy) (2.1.3)\n",
            "Requirement already satisfied: language-data>=1.2 in c:\\users\\adadf\\appdata\\roaming\\python\\python311\\site-packages (from langcodes<4.0.0,>=3.2.0->spacy) (1.3.0)\n",
            "Requirement already satisfied: annotated-types>=0.4.0 in c:\\users\\adadf\\anaconda3\\lib\\site-packages (from pydantic!=1.8,!=1.8.1,<3.0.0,>=1.7.4->spacy) (0.6.0)\n",
            "Requirement already satisfied: pydantic-core==2.14.6 in c:\\users\\adadf\\anaconda3\\lib\\site-packages (from pydantic!=1.8,!=1.8.1,<3.0.0,>=1.7.4->spacy) (2.14.6)\n",
            "Requirement already satisfied: typing-extensions>=4.6.1 in c:\\users\\adadf\\appdata\\roaming\\python\\python311\\site-packages (from pydantic!=1.8,!=1.8.1,<3.0.0,>=1.7.4->spacy) (4.12.2)\n",
            "Requirement already satisfied: charset-normalizer<4,>=2 in c:\\users\\adadf\\anaconda3\\lib\\site-packages (from requests<3.0.0,>=2.13.0->spacy) (3.3.2)\n",
            "Requirement already satisfied: idna<4,>=2.5 in c:\\users\\adadf\\anaconda3\\lib\\site-packages (from requests<3.0.0,>=2.13.0->spacy) (3.7)\n",
            "Requirement already satisfied: urllib3<3,>=1.21.1 in c:\\users\\adadf\\anaconda3\\lib\\site-packages (from requests<3.0.0,>=2.13.0->spacy) (2.2.2)\n",
            "Requirement already satisfied: certifi>=2017.4.17 in c:\\users\\adadf\\anaconda3\\lib\\site-packages (from requests<3.0.0,>=2.13.0->spacy) (2024.7.4)\n",
            "Requirement already satisfied: blis<1.1.0,>=1.0.0 in c:\\users\\adadf\\appdata\\roaming\\python\\python311\\site-packages (from thinc<8.4.0,>=8.3.0->spacy) (1.0.1)\n",
            "Requirement already satisfied: confection<1.0.0,>=0.0.1 in c:\\users\\adadf\\appdata\\roaming\\python\\python311\\site-packages (from thinc<8.4.0,>=8.3.0->spacy) (0.1.5)\n",
            "Collecting numpy>=1.19.0 (from spacy)\n",
            "  Using cached numpy-2.0.2-cp311-cp311-win_amd64.whl.metadata (59 kB)\n",
            "Requirement already satisfied: colorama in c:\\users\\adadf\\appdata\\roaming\\python\\python311\\site-packages (from tqdm<5.0.0,>=4.38.0->spacy) (0.4.6)\n",
            "Requirement already satisfied: click>=8.0.0 in c:\\users\\adadf\\anaconda3\\lib\\site-packages (from typer<1.0.0,>=0.3.0->spacy) (8.1.7)\n",
            "Requirement already satisfied: shellingham>=1.3.0 in c:\\users\\adadf\\appdata\\roaming\\python\\python311\\site-packages (from typer<1.0.0,>=0.3.0->spacy) (1.5.4)\n",
            "Requirement already satisfied: rich>=10.11.0 in c:\\users\\adadf\\appdata\\roaming\\python\\python311\\site-packages (from typer<1.0.0,>=0.3.0->spacy) (13.7.1)\n",
            "Requirement already satisfied: cloudpathlib<1.0.0,>=0.7.0 in c:\\users\\adadf\\appdata\\roaming\\python\\python311\\site-packages (from weasel<0.5.0,>=0.1.0->spacy) (0.20.0)\n",
            "Requirement already satisfied: smart-open<8.0.0,>=5.2.1 in c:\\users\\adadf\\anaconda3\\lib\\site-packages (from weasel<0.5.0,>=0.1.0->spacy) (5.2.1)\n",
            "Requirement already satisfied: MarkupSafe>=2.0 in c:\\users\\adadf\\anaconda3\\lib\\site-packages (from jinja2->spacy) (2.1.3)\n",
            "Requirement already satisfied: marisa-trie>=1.1.0 in c:\\users\\adadf\\appdata\\roaming\\python\\python311\\site-packages (from language-data>=1.2->langcodes<4.0.0,>=3.2.0->spacy) (1.2.1)\n",
            "Requirement already satisfied: markdown-it-py>=2.2.0 in c:\\users\\adadf\\anaconda3\\lib\\site-packages (from rich>=10.11.0->typer<1.0.0,>=0.3.0->spacy) (2.2.0)\n",
            "Requirement already satisfied: pygments<3.0.0,>=2.13.0 in c:\\users\\adadf\\appdata\\roaming\\python\\python311\\site-packages (from rich>=10.11.0->typer<1.0.0,>=0.3.0->spacy) (2.18.0)\n",
            "Requirement already satisfied: mdurl~=0.1 in c:\\users\\adadf\\anaconda3\\lib\\site-packages (from markdown-it-py>=2.2.0->rich>=10.11.0->typer<1.0.0,>=0.3.0->spacy) (0.1.0)\n",
            "Using cached numpy-2.0.2-cp311-cp311-win_amd64.whl (15.9 MB)\n",
            "Installing collected packages: numpy\n",
            "  Attempting uninstall: numpy\n",
            "    Found existing installation: numpy 2.1.3\n",
            "    Uninstalling numpy-2.1.3:\n",
            "      Successfully uninstalled numpy-2.1.3\n",
            "Successfully installed numpy-2.0.2\n"
          ]
        },
        {
          "name": "stderr",
          "output_type": "stream",
          "text": [
            "ERROR: pip's dependency resolver does not currently take into account all the packages that are installed. This behaviour is the source of the following dependency conflicts.\n",
            "catboost 1.2.7 requires numpy<2.0,>=1.16.0, but you have numpy 2.0.2 which is incompatible.\n",
            "contourpy 1.2.0 requires numpy<2.0,>=1.20, but you have numpy 2.0.2 which is incompatible.\n",
            "pywavelets 1.5.0 requires numpy<2.0,>=1.22.4, but you have numpy 2.0.2 which is incompatible.\n",
            "streamlit 1.32.0 requires numpy<2,>=1.19.3, but you have numpy 2.0.2 which is incompatible.\n",
            "streamlit 1.32.0 requires packaging<24,>=16.8, but you have packaging 24.1 which is incompatible.\n"
          ]
        }
      ],
      "source": [
        "## SpaCy and en_core_web_sm installation\n",
        "!pip install spacy\n",
        "\n",
        "##run the following command in the console\n",
        "#python -m spacy download en_core_web_sm"
      ]
    },
    {
      "cell_type": "code",
      "execution_count": 1,
      "metadata": {},
      "outputs": [
        {
          "name": "stdout",
          "output_type": "stream",
          "text": [
            "c:\\Users\\adadf\\AppData\\Local\\Programs\\Python\\Python310\\python.exe\n"
          ]
        }
      ],
      "source": [
        " import sys\n",
        " print(sys.executable)"
      ]
    },
    {
      "cell_type": "code",
      "execution_count": 9,
      "metadata": {},
      "outputs": [
        {
          "name": "stdout",
          "output_type": "stream",
          "text": [
            "Defaulting to user installation because normal site-packages is not writeable\n",
            "Collecting en-core-web-sm==3.8.0\n",
            "  Downloading https://github.com/explosion/spacy-models/releases/download/en_core_web_sm-3.8.0/en_core_web_sm-3.8.0-py3-none-any.whl (12.8 MB)\n",
            "     ---------------------------------------- 0.0/12.8 MB ? eta -:--:--\n",
            "     ---- ----------------------------------- 1.6/12.8 MB 10.5 MB/s eta 0:00:02\n",
            "     -------- ------------------------------- 2.6/12.8 MB 6.9 MB/s eta 0:00:02\n",
            "     ------------- -------------------------- 4.2/12.8 MB 7.4 MB/s eta 0:00:02\n",
            "     ---------------- ----------------------- 5.2/12.8 MB 6.8 MB/s eta 0:00:02\n",
            "     ------------------ --------------------- 6.0/12.8 MB 6.1 MB/s eta 0:00:02\n",
            "     --------------------- ------------------ 6.8/12.8 MB 5.6 MB/s eta 0:00:02\n",
            "     ----------------------- ---------------- 7.6/12.8 MB 5.4 MB/s eta 0:00:01\n",
            "     --------------------------- ------------ 8.7/12.8 MB 5.2 MB/s eta 0:00:01\n",
            "     ----------------------------- ---------- 9.4/12.8 MB 5.0 MB/s eta 0:00:01\n",
            "     ------------------------------- -------- 10.2/12.8 MB 5.0 MB/s eta 0:00:01\n",
            "     ----------------------------------- ---- 11.3/12.8 MB 5.0 MB/s eta 0:00:01\n",
            "     -------------------------------------- - 12.3/12.8 MB 4.9 MB/s eta 0:00:01\n",
            "     ---------------------------------------- 12.8/12.8 MB 4.9 MB/s eta 0:00:00\n",
            "Installing collected packages: en-core-web-sm\n",
            "Successfully installed en-core-web-sm-3.8.0\n",
            "\u001b[38;5;2m✔ Download and installation successful\u001b[0m\n",
            "You can now load the package via spacy.load('en_core_web_sm')\n"
          ]
        }
      ],
      "source": [
        "!python -m spacy download en_core_web_sm"
      ]
    },
    {
      "cell_type": "markdown",
      "metadata": {
        "id": "JuLFIymAL58u"
      },
      "source": [
        "## Importing the necessary libraries"
      ]
    },
    {
      "cell_type": "code",
      "execution_count": 50,
      "metadata": {
        "id": "O-Q9pqrcJrFr"
      },
      "outputs": [],
      "source": [
        "import json\n",
        "import numpy as np\n",
        "import pandas as pd\n",
        "import re, string\n",
        "\n",
        "# Import NLTK libraries\n",
        "import nltk\n",
        "from nltk.tokenize import word_tokenize\n",
        "from nltk.probability import FreqDist\n",
        "from nltk.corpus import stopwords\n",
        "from nltk.stem import WordNetLemmatizer\n",
        "\n",
        "# Import Spacy libraries\n",
        "import spacy\n",
        "import en_core_web_sm\n",
        "nlp = en_core_web_sm.load()\n",
        "\n",
        "import seaborn as sns\n",
        "import matplotlib.pyplot as plt\n",
        "%matplotlib inline\n",
        "\n",
        "from plotly.offline import plot\n",
        "import plotly.graph_objects as go\n",
        "import plotly.express as px\n",
        "\n",
        "from sklearn.feature_extraction.text import CountVectorizer, TfidfVectorizer, TfidfTransformer\n",
        "from pprint import pprint\n",
        "\n",
        "# Suppressing Warnings\n",
        "import warnings\n",
        "warnings.filterwarnings('ignore')"
      ]
    },
    {
      "cell_type": "code",
      "execution_count": 11,
      "metadata": {
        "colab": {
          "base_uri": "https://localhost:8080/"
        },
        "id": "l9K8GdxPjsc0",
        "outputId": "e6922a72-e192-4672-fd96-9b92089b60e9"
      },
      "outputs": [
        {
          "name": "stderr",
          "output_type": "stream",
          "text": [
            "[nltk_data] Downloading package stopwords to\n",
            "[nltk_data]     C:\\Users\\adadf\\AppData\\Roaming\\nltk_data...\n",
            "[nltk_data]   Package stopwords is already up-to-date!\n",
            "[nltk_data] Downloading package punkt to\n",
            "[nltk_data]     C:\\Users\\adadf\\AppData\\Roaming\\nltk_data...\n",
            "[nltk_data]   Package punkt is already up-to-date!\n",
            "[nltk_data] Downloading package punkt_tab to\n",
            "[nltk_data]     C:\\Users\\adadf\\AppData\\Roaming\\nltk_data...\n",
            "[nltk_data]   Package punkt_tab is already up-to-date!\n",
            "[nltk_data] Downloading package wordnet to\n",
            "[nltk_data]     C:\\Users\\adadf\\AppData\\Roaming\\nltk_data...\n",
            "[nltk_data]   Package wordnet is already up-to-date!\n",
            "[nltk_data] Downloading package omw-1.4 to\n",
            "[nltk_data]     C:\\Users\\adadf\\AppData\\Roaming\\nltk_data...\n",
            "[nltk_data]   Package omw-1.4 is already up-to-date!\n"
          ]
        },
        {
          "data": {
            "text/plain": [
              "True"
            ]
          },
          "execution_count": 11,
          "metadata": {},
          "output_type": "execute_result"
        }
      ],
      "source": [
        "# Download NLTK resources\n",
        "nltk.download('stopwords')\n",
        "nltk.download('punkt')\n",
        "nltk.download('punkt_tab')\n",
        "nltk.download('wordnet')\n",
        "nltk.download('omw-1.4')"
      ]
    },
    {
      "cell_type": "code",
      "execution_count": 24,
      "metadata": {
        "colab": {
          "base_uri": "https://localhost:8080/"
        },
        "id": "uxihJIIZkex0",
        "outputId": "36e96c47-b521-4561-c0b6-e2ea0d21cf87"
      },
      "outputs": [
        {
          "name": "stdout",
          "output_type": "stream",
          "text": [
            "Requirement already satisfied: tqdm in c:\\users\\adadf\\anaconda3\\lib\\site-packages (4.66.4)\n",
            "Requirement already satisfied: colorama in c:\\users\\adadf\\appdata\\roaming\\python\\python311\\site-packages (from tqdm) (0.4.6)\n"
          ]
        }
      ],
      "source": [
        "!pip install tqdm"
      ]
    },
    {
      "cell_type": "markdown",
      "metadata": {
        "id": "KtRLCsNVJrFt"
      },
      "source": [
        "## Loading the data\n",
        "\n",
        "Los datos están en formato JSON y necesitamos convertirlos a un dataframe."
      ]
    },
    {
      "cell_type": "code",
      "execution_count": 12,
      "metadata": {
        "id": "puVzIf_iJrFt"
      },
      "outputs": [],
      "source": [
        "# Opening JSON file\n",
        "file_name=\"complaints.json\"\n",
        "f = file = open(file_name, \"r\")\n",
        "\n",
        "\n",
        "# returns JSON object as\n",
        "# a dictionary\n",
        "data = json.load(f)\n",
        "df=pd.json_normalize(data)"
      ]
    },
    {
      "cell_type": "code",
      "execution_count": 13,
      "metadata": {
        "colab": {
          "base_uri": "https://localhost:8080/"
        },
        "id": "-TeDR72UlcOs",
        "outputId": "ecd058a7-7f9a-423c-9ec8-e8666fda8e84"
      },
      "outputs": [
        {
          "data": {
            "text/plain": [
              "(11426, 22)"
            ]
          },
          "execution_count": 13,
          "metadata": {},
          "output_type": "execute_result"
        }
      ],
      "source": [
        "df.shape"
      ]
    },
    {
      "cell_type": "markdown",
      "metadata": {
        "id": "_xYpH-sAJrFu"
      },
      "source": [
        "## Data preparation"
      ]
    },
    {
      "cell_type": "code",
      "execution_count": 14,
      "metadata": {
        "colab": {
          "base_uri": "https://localhost:8080/",
          "height": 412
        },
        "id": "Lf8ufHH5JrFu",
        "outputId": "9544c14c-25f7-4b43-ff7b-dc8bf9b0b8d8"
      },
      "outputs": [
        {
          "data": {
            "text/html": [
              "<div>\n",
              "<style scoped>\n",
              "    .dataframe tbody tr th:only-of-type {\n",
              "        vertical-align: middle;\n",
              "    }\n",
              "\n",
              "    .dataframe tbody tr th {\n",
              "        vertical-align: top;\n",
              "    }\n",
              "\n",
              "    .dataframe thead th {\n",
              "        text-align: right;\n",
              "    }\n",
              "</style>\n",
              "<table border=\"1\" class=\"dataframe\">\n",
              "  <thead>\n",
              "    <tr style=\"text-align: right;\">\n",
              "      <th></th>\n",
              "      <th>_index</th>\n",
              "      <th>_type</th>\n",
              "      <th>_id</th>\n",
              "      <th>_score</th>\n",
              "      <th>_source.tags</th>\n",
              "      <th>_source.zip_code</th>\n",
              "      <th>_source.complaint_id</th>\n",
              "      <th>_source.issue</th>\n",
              "      <th>_source.date_received</th>\n",
              "      <th>_source.state</th>\n",
              "      <th>...</th>\n",
              "      <th>_source.company_response</th>\n",
              "      <th>_source.company</th>\n",
              "      <th>_source.submitted_via</th>\n",
              "      <th>_source.date_sent_to_company</th>\n",
              "      <th>_source.company_public_response</th>\n",
              "      <th>_source.sub_product</th>\n",
              "      <th>_source.timely</th>\n",
              "      <th>_source.complaint_what_happened</th>\n",
              "      <th>_source.sub_issue</th>\n",
              "      <th>_source.consumer_consent_provided</th>\n",
              "    </tr>\n",
              "  </thead>\n",
              "  <tbody>\n",
              "    <tr>\n",
              "      <th>0</th>\n",
              "      <td>complaint-public-v2</td>\n",
              "      <td>complaint</td>\n",
              "      <td>3211475</td>\n",
              "      <td>0.0</td>\n",
              "      <td>None</td>\n",
              "      <td>90301</td>\n",
              "      <td>3211475</td>\n",
              "      <td>Attempts to collect debt not owed</td>\n",
              "      <td>2019-04-13T12:00:00-05:00</td>\n",
              "      <td>CA</td>\n",
              "      <td>...</td>\n",
              "      <td>Closed with explanation</td>\n",
              "      <td>JPMORGAN CHASE &amp; CO.</td>\n",
              "      <td>Web</td>\n",
              "      <td>2019-04-13T12:00:00-05:00</td>\n",
              "      <td>None</td>\n",
              "      <td>Credit card debt</td>\n",
              "      <td>Yes</td>\n",
              "      <td></td>\n",
              "      <td>Debt is not yours</td>\n",
              "      <td>Consent not provided</td>\n",
              "    </tr>\n",
              "    <tr>\n",
              "      <th>1</th>\n",
              "      <td>complaint-public-v2</td>\n",
              "      <td>complaint</td>\n",
              "      <td>3229299</td>\n",
              "      <td>0.0</td>\n",
              "      <td>Servicemember</td>\n",
              "      <td>319XX</td>\n",
              "      <td>3229299</td>\n",
              "      <td>Written notification about debt</td>\n",
              "      <td>2019-05-01T12:00:00-05:00</td>\n",
              "      <td>GA</td>\n",
              "      <td>...</td>\n",
              "      <td>Closed with explanation</td>\n",
              "      <td>JPMORGAN CHASE &amp; CO.</td>\n",
              "      <td>Web</td>\n",
              "      <td>2019-05-01T12:00:00-05:00</td>\n",
              "      <td>None</td>\n",
              "      <td>Credit card debt</td>\n",
              "      <td>Yes</td>\n",
              "      <td>Good morning my name is XXXX XXXX and I apprec...</td>\n",
              "      <td>Didn't receive enough information to verify debt</td>\n",
              "      <td>Consent provided</td>\n",
              "    </tr>\n",
              "    <tr>\n",
              "      <th>2</th>\n",
              "      <td>complaint-public-v2</td>\n",
              "      <td>complaint</td>\n",
              "      <td>3199379</td>\n",
              "      <td>0.0</td>\n",
              "      <td>None</td>\n",
              "      <td>77069</td>\n",
              "      <td>3199379</td>\n",
              "      <td>Other features, terms, or problems</td>\n",
              "      <td>2019-04-02T12:00:00-05:00</td>\n",
              "      <td>TX</td>\n",
              "      <td>...</td>\n",
              "      <td>Closed with explanation</td>\n",
              "      <td>JPMORGAN CHASE &amp; CO.</td>\n",
              "      <td>Web</td>\n",
              "      <td>2019-04-02T12:00:00-05:00</td>\n",
              "      <td>None</td>\n",
              "      <td>General-purpose credit card or charge card</td>\n",
              "      <td>Yes</td>\n",
              "      <td>I upgraded my XXXX XXXX card in XX/XX/2018 and...</td>\n",
              "      <td>Problem with rewards from credit card</td>\n",
              "      <td>Consent provided</td>\n",
              "    </tr>\n",
              "    <tr>\n",
              "      <th>3</th>\n",
              "      <td>complaint-public-v2</td>\n",
              "      <td>complaint</td>\n",
              "      <td>2673060</td>\n",
              "      <td>0.0</td>\n",
              "      <td>None</td>\n",
              "      <td>48066</td>\n",
              "      <td>2673060</td>\n",
              "      <td>Trouble during payment process</td>\n",
              "      <td>2017-09-13T12:00:00-05:00</td>\n",
              "      <td>MI</td>\n",
              "      <td>...</td>\n",
              "      <td>Closed with explanation</td>\n",
              "      <td>JPMORGAN CHASE &amp; CO.</td>\n",
              "      <td>Web</td>\n",
              "      <td>2017-09-14T12:00:00-05:00</td>\n",
              "      <td>None</td>\n",
              "      <td>Conventional home mortgage</td>\n",
              "      <td>Yes</td>\n",
              "      <td></td>\n",
              "      <td>None</td>\n",
              "      <td>Consent not provided</td>\n",
              "    </tr>\n",
              "    <tr>\n",
              "      <th>4</th>\n",
              "      <td>complaint-public-v2</td>\n",
              "      <td>complaint</td>\n",
              "      <td>3203545</td>\n",
              "      <td>0.0</td>\n",
              "      <td>None</td>\n",
              "      <td>10473</td>\n",
              "      <td>3203545</td>\n",
              "      <td>Fees or interest</td>\n",
              "      <td>2019-04-05T12:00:00-05:00</td>\n",
              "      <td>NY</td>\n",
              "      <td>...</td>\n",
              "      <td>Closed with explanation</td>\n",
              "      <td>JPMORGAN CHASE &amp; CO.</td>\n",
              "      <td>Referral</td>\n",
              "      <td>2019-04-05T12:00:00-05:00</td>\n",
              "      <td>None</td>\n",
              "      <td>General-purpose credit card or charge card</td>\n",
              "      <td>Yes</td>\n",
              "      <td></td>\n",
              "      <td>Charged too much interest</td>\n",
              "      <td>N/A</td>\n",
              "    </tr>\n",
              "  </tbody>\n",
              "</table>\n",
              "<p>5 rows × 22 columns</p>\n",
              "</div>"
            ],
            "text/plain": [
              "                _index      _type      _id  _score   _source.tags  \\\n",
              "0  complaint-public-v2  complaint  3211475     0.0           None   \n",
              "1  complaint-public-v2  complaint  3229299     0.0  Servicemember   \n",
              "2  complaint-public-v2  complaint  3199379     0.0           None   \n",
              "3  complaint-public-v2  complaint  2673060     0.0           None   \n",
              "4  complaint-public-v2  complaint  3203545     0.0           None   \n",
              "\n",
              "  _source.zip_code _source.complaint_id                       _source.issue  \\\n",
              "0            90301              3211475   Attempts to collect debt not owed   \n",
              "1            319XX              3229299     Written notification about debt   \n",
              "2            77069              3199379  Other features, terms, or problems   \n",
              "3            48066              2673060      Trouble during payment process   \n",
              "4            10473              3203545                    Fees or interest   \n",
              "\n",
              "       _source.date_received _source.state  ... _source.company_response  \\\n",
              "0  2019-04-13T12:00:00-05:00            CA  ...  Closed with explanation   \n",
              "1  2019-05-01T12:00:00-05:00            GA  ...  Closed with explanation   \n",
              "2  2019-04-02T12:00:00-05:00            TX  ...  Closed with explanation   \n",
              "3  2017-09-13T12:00:00-05:00            MI  ...  Closed with explanation   \n",
              "4  2019-04-05T12:00:00-05:00            NY  ...  Closed with explanation   \n",
              "\n",
              "        _source.company _source.submitted_via _source.date_sent_to_company  \\\n",
              "0  JPMORGAN CHASE & CO.                   Web    2019-04-13T12:00:00-05:00   \n",
              "1  JPMORGAN CHASE & CO.                   Web    2019-05-01T12:00:00-05:00   \n",
              "2  JPMORGAN CHASE & CO.                   Web    2019-04-02T12:00:00-05:00   \n",
              "3  JPMORGAN CHASE & CO.                   Web    2017-09-14T12:00:00-05:00   \n",
              "4  JPMORGAN CHASE & CO.              Referral    2019-04-05T12:00:00-05:00   \n",
              "\n",
              "  _source.company_public_response                         _source.sub_product  \\\n",
              "0                            None                            Credit card debt   \n",
              "1                            None                            Credit card debt   \n",
              "2                            None  General-purpose credit card or charge card   \n",
              "3                            None                  Conventional home mortgage   \n",
              "4                            None  General-purpose credit card or charge card   \n",
              "\n",
              "  _source.timely                    _source.complaint_what_happened  \\\n",
              "0            Yes                                                      \n",
              "1            Yes  Good morning my name is XXXX XXXX and I apprec...   \n",
              "2            Yes  I upgraded my XXXX XXXX card in XX/XX/2018 and...   \n",
              "3            Yes                                                      \n",
              "4            Yes                                                      \n",
              "\n",
              "                                  _source.sub_issue  \\\n",
              "0                                 Debt is not yours   \n",
              "1  Didn't receive enough information to verify debt   \n",
              "2             Problem with rewards from credit card   \n",
              "3                                              None   \n",
              "4                         Charged too much interest   \n",
              "\n",
              "  _source.consumer_consent_provided  \n",
              "0              Consent not provided  \n",
              "1                  Consent provided  \n",
              "2                  Consent provided  \n",
              "3              Consent not provided  \n",
              "4                               N/A  \n",
              "\n",
              "[5 rows x 22 columns]"
            ]
          },
          "execution_count": 14,
          "metadata": {},
          "output_type": "execute_result"
        }
      ],
      "source": [
        "# Inspect the dataframe to understand the given data.\n",
        "df.head()\n"
      ]
    },
    {
      "cell_type": "code",
      "execution_count": 15,
      "metadata": {
        "colab": {
          "base_uri": "https://localhost:8080/",
          "height": 377
        },
        "id": "y5uG-nWUm1Wi",
        "outputId": "51f255c1-8afc-443c-bd22-87b9388b65e4"
      },
      "outputs": [
        {
          "data": {
            "text/html": [
              "<div>\n",
              "<style scoped>\n",
              "    .dataframe tbody tr th:only-of-type {\n",
              "        vertical-align: middle;\n",
              "    }\n",
              "\n",
              "    .dataframe tbody tr th {\n",
              "        vertical-align: top;\n",
              "    }\n",
              "\n",
              "    .dataframe thead th {\n",
              "        text-align: right;\n",
              "    }\n",
              "</style>\n",
              "<table border=\"1\" class=\"dataframe\">\n",
              "  <thead>\n",
              "    <tr style=\"text-align: right;\">\n",
              "      <th></th>\n",
              "      <th>_index</th>\n",
              "      <th>_type</th>\n",
              "      <th>_id</th>\n",
              "      <th>_score</th>\n",
              "      <th>_source.tags</th>\n",
              "      <th>_source.zip_code</th>\n",
              "      <th>_source.complaint_id</th>\n",
              "      <th>_source.issue</th>\n",
              "      <th>_source.date_received</th>\n",
              "      <th>_source.state</th>\n",
              "      <th>...</th>\n",
              "      <th>_source.company_response</th>\n",
              "      <th>_source.company</th>\n",
              "      <th>_source.submitted_via</th>\n",
              "      <th>_source.date_sent_to_company</th>\n",
              "      <th>_source.company_public_response</th>\n",
              "      <th>_source.sub_product</th>\n",
              "      <th>_source.timely</th>\n",
              "      <th>_source.complaint_what_happened</th>\n",
              "      <th>_source.sub_issue</th>\n",
              "      <th>_source.consumer_consent_provided</th>\n",
              "    </tr>\n",
              "  </thead>\n",
              "  <tbody>\n",
              "    <tr>\n",
              "      <th>11421</th>\n",
              "      <td>complaint-public-v2</td>\n",
              "      <td>complaint</td>\n",
              "      <td>3691002</td>\n",
              "      <td>0.0</td>\n",
              "      <td>None</td>\n",
              "      <td>601XX</td>\n",
              "      <td>3691002</td>\n",
              "      <td>Trouble during payment process</td>\n",
              "      <td>2020-06-08T12:00:00-05:00</td>\n",
              "      <td>IL</td>\n",
              "      <td>...</td>\n",
              "      <td>Closed with explanation</td>\n",
              "      <td>JPMORGAN CHASE &amp; CO.</td>\n",
              "      <td>Referral</td>\n",
              "      <td>2020-06-09T12:00:00-05:00</td>\n",
              "      <td>None</td>\n",
              "      <td>Conventional home mortgage</td>\n",
              "      <td>Yes</td>\n",
              "      <td></td>\n",
              "      <td>None</td>\n",
              "      <td>N/A</td>\n",
              "    </tr>\n",
              "    <tr>\n",
              "      <th>11422</th>\n",
              "      <td>complaint-public-v2</td>\n",
              "      <td>complaint</td>\n",
              "      <td>3998033</td>\n",
              "      <td>0.0</td>\n",
              "      <td>None</td>\n",
              "      <td>19115</td>\n",
              "      <td>3998033</td>\n",
              "      <td>Incorrect information on your report</td>\n",
              "      <td>2020-12-08T12:00:00-05:00</td>\n",
              "      <td>PA</td>\n",
              "      <td>...</td>\n",
              "      <td>Closed with explanation</td>\n",
              "      <td>JPMORGAN CHASE &amp; CO.</td>\n",
              "      <td>Web</td>\n",
              "      <td>2020-12-08T12:00:00-05:00</td>\n",
              "      <td>None</td>\n",
              "      <td>Credit reporting</td>\n",
              "      <td>Yes</td>\n",
              "      <td></td>\n",
              "      <td>Information belongs to someone else</td>\n",
              "      <td>Consent not provided</td>\n",
              "    </tr>\n",
              "    <tr>\n",
              "      <th>11423</th>\n",
              "      <td>complaint-public-v2</td>\n",
              "      <td>complaint</td>\n",
              "      <td>4005328</td>\n",
              "      <td>0.0</td>\n",
              "      <td>None</td>\n",
              "      <td>701XX</td>\n",
              "      <td>4005328</td>\n",
              "      <td>Closing an account</td>\n",
              "      <td>2020-12-11T12:00:00-05:00</td>\n",
              "      <td>LA</td>\n",
              "      <td>...</td>\n",
              "      <td>Closed with explanation</td>\n",
              "      <td>JPMORGAN CHASE &amp; CO.</td>\n",
              "      <td>Web</td>\n",
              "      <td>2020-12-11T12:00:00-05:00</td>\n",
              "      <td>None</td>\n",
              "      <td>Checking account</td>\n",
              "      <td>Yes</td>\n",
              "      <td></td>\n",
              "      <td>Funds not received from closed account</td>\n",
              "      <td>Consent not provided</td>\n",
              "    </tr>\n",
              "    <tr>\n",
              "      <th>11424</th>\n",
              "      <td>complaint-public-v2</td>\n",
              "      <td>complaint</td>\n",
              "      <td>3997453</td>\n",
              "      <td>0.0</td>\n",
              "      <td>None</td>\n",
              "      <td>33180</td>\n",
              "      <td>3997453</td>\n",
              "      <td>Opening an account</td>\n",
              "      <td>2020-12-08T12:00:00-05:00</td>\n",
              "      <td>FL</td>\n",
              "      <td>...</td>\n",
              "      <td>Closed with explanation</td>\n",
              "      <td>JPMORGAN CHASE &amp; CO.</td>\n",
              "      <td>Referral</td>\n",
              "      <td>2020-12-08T12:00:00-05:00</td>\n",
              "      <td>None</td>\n",
              "      <td>Checking account</td>\n",
              "      <td>Yes</td>\n",
              "      <td></td>\n",
              "      <td>Account opened as a result of fraud</td>\n",
              "      <td>N/A</td>\n",
              "    </tr>\n",
              "    <tr>\n",
              "      <th>11425</th>\n",
              "      <td>complaint-public-v2</td>\n",
              "      <td>complaint</td>\n",
              "      <td>3759084</td>\n",
              "      <td>0.0</td>\n",
              "      <td>None</td>\n",
              "      <td>101XX</td>\n",
              "      <td>3759084</td>\n",
              "      <td>Closing an account</td>\n",
              "      <td>2020-07-23T12:00:00-05:00</td>\n",
              "      <td>NY</td>\n",
              "      <td>...</td>\n",
              "      <td>Closed with explanation</td>\n",
              "      <td>JPMORGAN CHASE &amp; CO.</td>\n",
              "      <td>Web</td>\n",
              "      <td>2020-07-23T12:00:00-05:00</td>\n",
              "      <td>None</td>\n",
              "      <td>Checking account</td>\n",
              "      <td>Yes</td>\n",
              "      <td>XX/XX/XXXX Dear CFPB : I hope this finds you w...</td>\n",
              "      <td>NaN</td>\n",
              "      <td>NaN</td>\n",
              "    </tr>\n",
              "  </tbody>\n",
              "</table>\n",
              "<p>5 rows × 22 columns</p>\n",
              "</div>"
            ],
            "text/plain": [
              "                    _index      _type      _id  _score _source.tags  \\\n",
              "11421  complaint-public-v2  complaint  3691002     0.0         None   \n",
              "11422  complaint-public-v2  complaint  3998033     0.0         None   \n",
              "11423  complaint-public-v2  complaint  4005328     0.0         None   \n",
              "11424  complaint-public-v2  complaint  3997453     0.0         None   \n",
              "11425  complaint-public-v2  complaint  3759084     0.0         None   \n",
              "\n",
              "      _source.zip_code _source.complaint_id  \\\n",
              "11421            601XX              3691002   \n",
              "11422            19115              3998033   \n",
              "11423            701XX              4005328   \n",
              "11424            33180              3997453   \n",
              "11425            101XX              3759084   \n",
              "\n",
              "                              _source.issue      _source.date_received  \\\n",
              "11421        Trouble during payment process  2020-06-08T12:00:00-05:00   \n",
              "11422  Incorrect information on your report  2020-12-08T12:00:00-05:00   \n",
              "11423                    Closing an account  2020-12-11T12:00:00-05:00   \n",
              "11424                    Opening an account  2020-12-08T12:00:00-05:00   \n",
              "11425                    Closing an account  2020-07-23T12:00:00-05:00   \n",
              "\n",
              "      _source.state  ... _source.company_response       _source.company  \\\n",
              "11421            IL  ...  Closed with explanation  JPMORGAN CHASE & CO.   \n",
              "11422            PA  ...  Closed with explanation  JPMORGAN CHASE & CO.   \n",
              "11423            LA  ...  Closed with explanation  JPMORGAN CHASE & CO.   \n",
              "11424            FL  ...  Closed with explanation  JPMORGAN CHASE & CO.   \n",
              "11425            NY  ...  Closed with explanation  JPMORGAN CHASE & CO.   \n",
              "\n",
              "      _source.submitted_via _source.date_sent_to_company  \\\n",
              "11421              Referral    2020-06-09T12:00:00-05:00   \n",
              "11422                   Web    2020-12-08T12:00:00-05:00   \n",
              "11423                   Web    2020-12-11T12:00:00-05:00   \n",
              "11424              Referral    2020-12-08T12:00:00-05:00   \n",
              "11425                   Web    2020-07-23T12:00:00-05:00   \n",
              "\n",
              "      _source.company_public_response         _source.sub_product  \\\n",
              "11421                            None  Conventional home mortgage   \n",
              "11422                            None            Credit reporting   \n",
              "11423                            None            Checking account   \n",
              "11424                            None            Checking account   \n",
              "11425                            None            Checking account   \n",
              "\n",
              "      _source.timely                    _source.complaint_what_happened  \\\n",
              "11421            Yes                                                      \n",
              "11422            Yes                                                      \n",
              "11423            Yes                                                      \n",
              "11424            Yes                                                      \n",
              "11425            Yes  XX/XX/XXXX Dear CFPB : I hope this finds you w...   \n",
              "\n",
              "                            _source.sub_issue  \\\n",
              "11421                                    None   \n",
              "11422     Information belongs to someone else   \n",
              "11423  Funds not received from closed account   \n",
              "11424     Account opened as a result of fraud   \n",
              "11425                                     NaN   \n",
              "\n",
              "      _source.consumer_consent_provided  \n",
              "11421                               N/A  \n",
              "11422              Consent not provided  \n",
              "11423              Consent not provided  \n",
              "11424                               N/A  \n",
              "11425                               NaN  \n",
              "\n",
              "[5 rows x 22 columns]"
            ]
          },
          "execution_count": 15,
          "metadata": {},
          "output_type": "execute_result"
        }
      ],
      "source": [
        "df.tail()"
      ]
    },
    {
      "cell_type": "code",
      "execution_count": 16,
      "metadata": {
        "colab": {
          "base_uri": "https://localhost:8080/"
        },
        "id": "wU5RV6J3nC4X",
        "outputId": "ff2a1f78-122f-4081-c26d-5cce4f1406cc"
      },
      "outputs": [
        {
          "data": {
            "text/plain": [
              "(11426, 22)"
            ]
          },
          "execution_count": 16,
          "metadata": {},
          "output_type": "execute_result"
        }
      ],
      "source": [
        "df.shape"
      ]
    },
    {
      "cell_type": "code",
      "execution_count": 17,
      "metadata": {
        "colab": {
          "base_uri": "https://localhost:8080/"
        },
        "id": "ysOVdlWVnCyQ",
        "outputId": "435df637-9b9c-407e-a7c8-37cf9ac5293a"
      },
      "outputs": [
        {
          "name": "stdout",
          "output_type": "stream",
          "text": [
            "<class 'pandas.core.frame.DataFrame'>\n",
            "RangeIndex: 11426 entries, 0 to 11425\n",
            "Data columns (total 22 columns):\n",
            " #   Column                             Non-Null Count  Dtype  \n",
            "---  ------                             --------------  -----  \n",
            " 0   _index                             11426 non-null  object \n",
            " 1   _type                              11426 non-null  object \n",
            " 2   _id                                11426 non-null  object \n",
            " 3   _score                             11426 non-null  float64\n",
            " 4   _source.tags                       1668 non-null   object \n",
            " 5   _source.zip_code                   10059 non-null  object \n",
            " 6   _source.complaint_id               11426 non-null  object \n",
            " 7   _source.issue                      11426 non-null  object \n",
            " 8   _source.date_received              11426 non-null  object \n",
            " 9   _source.state                      10965 non-null  object \n",
            " 10  _source.consumer_disputed          11426 non-null  object \n",
            " 11  _source.product                    11426 non-null  object \n",
            " 12  _source.company_response           11426 non-null  object \n",
            " 13  _source.company                    11426 non-null  object \n",
            " 14  _source.submitted_via              11426 non-null  object \n",
            " 15  _source.date_sent_to_company       11426 non-null  object \n",
            " 16  _source.company_public_response    1 non-null      object \n",
            " 17  _source.sub_product                10879 non-null  object \n",
            " 18  _source.timely                     11426 non-null  object \n",
            " 19  _source.complaint_what_happened    11426 non-null  object \n",
            " 20  _source.sub_issue                  7462 non-null   object \n",
            " 21  _source.consumer_consent_provided  11269 non-null  object \n",
            "dtypes: float64(1), object(21)\n",
            "memory usage: 1.9+ MB\n"
          ]
        }
      ],
      "source": [
        "df.info()"
      ]
    },
    {
      "cell_type": "code",
      "execution_count": 18,
      "metadata": {
        "colab": {
          "base_uri": "https://localhost:8080/",
          "height": 774
        },
        "id": "gtxtZ0y1nQyX",
        "outputId": "aa519edc-38de-4351-a10f-e7bc0dd4bda5"
      },
      "outputs": [
        {
          "data": {
            "text/plain": [
              "_source.company_public_response      0.999912\n",
              "_source.tags                         0.854017\n",
              "_source.sub_issue                    0.346928\n",
              "_source.zip_code                     0.119639\n",
              "_source.sub_product                  0.047873\n",
              "_source.state                        0.040347\n",
              "_source.consumer_consent_provided    0.013741\n",
              "_source.company                      0.000000\n",
              "_source.complaint_what_happened      0.000000\n",
              "_source.timely                       0.000000\n",
              "_source.date_sent_to_company         0.000000\n",
              "_source.submitted_via                0.000000\n",
              "_index                               0.000000\n",
              "_source.company_response             0.000000\n",
              "_type                                0.000000\n",
              "_source.consumer_disputed            0.000000\n",
              "_source.date_received                0.000000\n",
              "_source.issue                        0.000000\n",
              "_source.complaint_id                 0.000000\n",
              "_score                               0.000000\n",
              "_id                                  0.000000\n",
              "_source.product                      0.000000\n",
              "dtype: float64"
            ]
          },
          "execution_count": 18,
          "metadata": {},
          "output_type": "execute_result"
        }
      ],
      "source": [
        "# lets check the missing value in descedning order\n",
        "(df.isna().sum() / df.shape[0]).sort_values(ascending=False)"
      ]
    },
    {
      "cell_type": "code",
      "execution_count": 19,
      "metadata": {
        "colab": {
          "base_uri": "https://localhost:8080/"
        },
        "id": "Dwcty-wmJrFw",
        "outputId": "b2c86b2f-7d49-4ce6-bead-52274dcde043"
      },
      "outputs": [
        {
          "name": "stdout",
          "output_type": "stream",
          "text": [
            "Index(['_index', '_type', '_id', '_score', '_source.tags', '_source.zip_code',\n",
            "       '_source.complaint_id', '_source.issue', '_source.date_received',\n",
            "       '_source.state', '_source.consumer_disputed', '_source.product',\n",
            "       '_source.company_response', '_source.company', '_source.submitted_via',\n",
            "       '_source.date_sent_to_company', '_source.company_public_response',\n",
            "       '_source.sub_product', '_source.timely',\n",
            "       '_source.complaint_what_happened', '_source.sub_issue',\n",
            "       '_source.consumer_consent_provided'],\n",
            "      dtype='object')\n"
          ]
        }
      ],
      "source": [
        "#print the column names\n",
        "print(df.columns)"
      ]
    },
    {
      "cell_type": "code",
      "execution_count": 20,
      "metadata": {
        "id": "FYCtKXD1JrFw"
      },
      "outputs": [],
      "source": [
        "#Assign new column names\n",
        "def rename_col(col):\n",
        "    if col.startswith('_source'):\n",
        "        col = col[len('_source.'):]\n",
        "    elif col.startswith('_'):\n",
        "        col = col[1:]\n",
        "    return col"
      ]
    },
    {
      "cell_type": "code",
      "execution_count": 21,
      "metadata": {
        "id": "ACYEFx85n4zg"
      },
      "outputs": [],
      "source": [
        "df.rename(lambda x: rename_col(x), axis=1, inplace=True)"
      ]
    },
    {
      "cell_type": "code",
      "execution_count": 22,
      "metadata": {
        "colab": {
          "base_uri": "https://localhost:8080/"
        },
        "id": "AGjISjhln-5w",
        "outputId": "85d60b83-d222-4a46-ce60-19c322ae5e0d"
      },
      "outputs": [
        {
          "data": {
            "text/plain": [
              "Index(['index', 'type', 'id', 'score', 'tags', 'zip_code', 'complaint_id',\n",
              "       'issue', 'date_received', 'state', 'consumer_disputed', 'product',\n",
              "       'company_response', 'company', 'submitted_via', 'date_sent_to_company',\n",
              "       'company_public_response', 'sub_product', 'timely',\n",
              "       'complaint_what_happened', 'sub_issue', 'consumer_consent_provided'],\n",
              "      dtype='object')"
            ]
          },
          "execution_count": 22,
          "metadata": {},
          "output_type": "execute_result"
        }
      ],
      "source": [
        "df.columns"
      ]
    },
    {
      "cell_type": "code",
      "execution_count": 23,
      "metadata": {
        "id": "grQUPFL5JrFx"
      },
      "outputs": [],
      "source": [
        "#Assign nan in place of blanks in the complaints column\n",
        "df['complaint_what_happened'].replace('', np.nan, inplace=True)\n"
      ]
    },
    {
      "cell_type": "code",
      "execution_count": 24,
      "metadata": {
        "colab": {
          "base_uri": "https://localhost:8080/",
          "height": 122
        },
        "id": "aFm4IycRoNcE",
        "outputId": "2db165dd-c4ca-47b6-c683-02be79ff8ff8"
      },
      "outputs": [
        {
          "data": {
            "text/plain": [
              "'Good morning my name is XXXX XXXX and I appreciate it if you could help me put a stop to Chase Bank cardmember services. \\nIn 2018 I wrote to Chase asking for debt verification and what they sent me a statement which is not acceptable. I am asking the bank to validate the debt. Instead I been receiving mail every month from them attempting to collect a debt. \\nI have a right to know this information as a consumer. \\n\\nChase account # XXXX XXXX XXXX XXXX Thanks in advance for your help.'"
            ]
          },
          "execution_count": 24,
          "metadata": {},
          "output_type": "execute_result"
        }
      ],
      "source": [
        "df['complaint_what_happened'][1]"
      ]
    },
    {
      "cell_type": "code",
      "execution_count": 25,
      "metadata": {
        "colab": {
          "base_uri": "https://localhost:8080/"
        },
        "id": "Jfxd8VSmJrFy",
        "outputId": "dfb744ba-4148-4380-a9f4-c2e2012ae154"
      },
      "outputs": [
        {
          "data": {
            "text/plain": [
              "7395"
            ]
          },
          "execution_count": 25,
          "metadata": {},
          "output_type": "execute_result"
        }
      ],
      "source": [
        "#Remove all rows where complaints column is nan\n",
        "df['complaint_what_happened'].isnull().sum()"
      ]
    },
    {
      "cell_type": "code",
      "execution_count": 26,
      "metadata": {
        "id": "7daXHsEdhlwv"
      },
      "outputs": [],
      "source": [
        "df.dropna(subset=['complaint_what_happened'],inplace=True)"
      ]
    },
    {
      "cell_type": "code",
      "execution_count": 27,
      "metadata": {
        "colab": {
          "base_uri": "https://localhost:8080/"
        },
        "id": "KuWygO6TrGe0",
        "outputId": "7ba130c6-d4ae-448a-b186-635d3f2eac1d"
      },
      "outputs": [
        {
          "data": {
            "text/plain": [
              "(4031, 22)"
            ]
          },
          "execution_count": 27,
          "metadata": {},
          "output_type": "execute_result"
        }
      ],
      "source": [
        "df.shape"
      ]
    },
    {
      "cell_type": "markdown",
      "metadata": {
        "id": "L944HZpsJrFy"
      },
      "source": [
        "## Prepare the text for topic modeling\n",
        "\n",
        "Una vez que haya eliminado todas las quejas en blanco, debe:\n",
        "\n",
        "* Make the text lowercase\n",
        "* Remove text in square brackets\n",
        "* Remove punctuation\n",
        "* Remove words containing numbers\n",
        "\n",
        "Una vez que haya realizado estas operaciones de limpieza, debe realizar lo siguiente:\n",
        "\n",
        "* Lemmatize the texts\n",
        "* Extract the POS tags of the lemmatized text and remove all the words which have tags other than NN[tag == \"NN\"].\n"
      ]
    },
    {
      "cell_type": "code",
      "execution_count": 28,
      "metadata": {
        "id": "qm7SjjSkJrFz"
      },
      "outputs": [],
      "source": [
        "# Write your function here to clean the text and remove all the unnecessary elements.\n",
        "def clean_text(text):\n",
        "  text = text.lower()  # Make the text lowercase\n",
        "  text=re.sub(r'\\[.*?\\]',' ',text) #Remove text in square brackets\n",
        "  text=re.sub(r'[^\\w\\s]',' ',text) #Remove punctuation\n",
        "  text=re.sub(r'\\n', '', text) # Remove line breaks\n",
        "  text=re.sub(r'\\b\\w*\\d\\w*\\b',' ',text) #Remove words with numbers\n",
        "  text = re.sub(r' +', ' ',text) #Remove unnecessary white spaces\n",
        "\n",
        "  return text\n"
      ]
    },
    {
      "cell_type": "code",
      "execution_count": 29,
      "metadata": {
        "id": "U8FJwsfLrav2"
      },
      "outputs": [],
      "source": [
        "#df['complaint_what_happened'][101]\n",
        "#text=\"I Purchase is an airline ticket on XX/XX/XXXX and it was XXXX dollar but the I [realize] it was the wrong airport so I called right away to cancel the ticket and since it was before 24 hours so I could cancel it and get a refund which is what supposed to post in my account in 5 days and on XX/XX/XXXX I got the money back so I purchase another airline ticket with the same money that I got back but it was XXXX dollar and the money was taking out of my available balance on XX/XX/XXXX but it was saying pending on the statement but it was out of my available balance already on XX/XX/XXXX the XXXX dollar Was taking again out of my account but showing in my account as it was only one charge .. and I am not even able to see the first airline ticket or the refund on my statement because they said it was dropped charge like it was never happened but it did happened..thats not the first time this happened it did happened before but I usually get the money back after the weekend on Monday but this time no it did got back .. I tried calling them and they explaining but they only say one thing.. I dont see it on the statement.. so why I cant see my purchase for the first airline ticket that it was refunded.. this is my money and I am supposed to see all the charges I made and the refund on my account.. I am missing XXXX dollar from my account which is got Disappeared from my bank account and I need to get this money back I dont know what to do\"\n",
        "rows=df.shape[0]\n",
        "df= df.reset_index(drop=True)\n",
        "\n",
        "for i in range(rows):\n",
        "  df['complaint_what_happened'][i]=clean_text(df['complaint_what_happened'][i])\n"
      ]
    },
    {
      "cell_type": "code",
      "execution_count": 30,
      "metadata": {
        "colab": {
          "base_uri": "https://localhost:8080/",
          "height": 458
        },
        "id": "4ikB4s0XvG9T",
        "outputId": "aad92db0-3dcc-4b05-d6c0-40b5cf8edcc5"
      },
      "outputs": [
        {
          "data": {
            "text/plain": [
              "0       good morning my name is xxxx xxxx and i apprec...\n",
              "1       i upgraded my xxxx xxxx card in xx xx and was ...\n",
              "2       chase card was reported on xx xx however fraud...\n",
              "3       on xx xx while trying to book a xxxx xxxx tick...\n",
              "4       my grand son give me check for i deposit it in...\n",
              "                              ...                        \n",
              "4026    jpmcb auto finance has been on my credit repor...\n",
              "4027    on xx xx xxxx a vendor double charged my chase...\n",
              "4028    i filed an application for a mortgage refinanc...\n",
              "4029    re claim xxxx i do not feel that chase bank pr...\n",
              "4030    xx xx xxxx dear cfpb i hope this finds you wel...\n",
              "Name: complaint_what_happened, Length: 4031, dtype: object"
            ]
          },
          "execution_count": 30,
          "metadata": {},
          "output_type": "execute_result"
        }
      ],
      "source": [
        "df['complaint_what_happened']"
      ]
    },
    {
      "cell_type": "code",
      "execution_count": 31,
      "metadata": {
        "colab": {
          "base_uri": "https://localhost:8080/"
        },
        "id": "YD95LN5htZZ-",
        "outputId": "6b2e050e-e4a3-45fd-c70f-490e51905108"
      },
      "outputs": [
        {
          "data": {
            "text/plain": [
              "(4031, 22)"
            ]
          },
          "execution_count": 31,
          "metadata": {},
          "output_type": "execute_result"
        }
      ],
      "source": [
        "df.shape"
      ]
    },
    {
      "cell_type": "code",
      "execution_count": 32,
      "metadata": {
        "id": "zgOu8t8HJrFz"
      },
      "outputs": [],
      "source": [
        "# Write your function to Lemmatize the texts\n",
        "import spacy\n",
        "stop_words = spacy.lang.en.stop_words.STOP_WORDS\n",
        "# Load the English language model\n",
        "nlp = spacy.load(\"en_core_web_sm\")\n",
        "\n",
        "def lemmatize_text(text):\n",
        "    # Process the text using spaCy\n",
        "    doc = nlp(text)\n",
        "    # Lemmatize each token and remove stop words\n",
        "    lemmatized_text = \" \".join([token.lemma_ for token in doc if not token.is_stop])\n",
        "\n",
        "    return lemmatized_text"
      ]
    },
    {
      "cell_type": "code",
      "execution_count": 33,
      "metadata": {
        "colab": {
          "base_uri": "https://localhost:8080/",
          "height": 209
        },
        "id": "eIkZyst_wnrc",
        "outputId": "224d7929-84a9-414e-8e5d-deb654d171d8"
      },
      "outputs": [
        {
          "data": {
            "text/plain": [
              "'complaint chase bank deny open check account refuse explanation chase credit card issue credit card chase bank timeline note check account denial xx xx xxxx meet xxxx xxxx private client banker xxxx xxxx xxxx location open check account check xxxx xxxx xxxx personal checking account chase check recently close chase credit card give pre print check deposit slip chase total checking account xxxx xxxx mention account close review tell reason idea assume boiler plate language assume not close electronically sign document receive copy xx xx xxxx xxxx account alert screen shot new application inquiry xx xx xxxx email chase debit atm xx xx xxxx email chase mobile app request sign mobile app electronic copy disclosure sign open account note long account long access document xx xx xxxx ask xxxx copy document receive printout deposit account agreement privacy notice xx xx xxxx xxxx account alert new account opening xx xx xxxx email chase account tool xx xx xxxx receive activate atm card xxxx exp xx xx xxxx xx xx xxxx email chase new account xx xx xxxx chance discover new checking account close notification receive discover lock online access credit card call number talk people yield message specific give account close tell account long maintain office decide end relationship tell chase require reasonthere specific reasonthe local branch reasonthe letter send reason inform online credit card access reinstate checking account officially close reinstatement tell checking account restrict xx xx xxxx letter date xx xx xxxx mail not sense account restrict xx xx xxxx able activate atm card xx xx xxxx conversation record line hang xx xx xxxx credit score xxxx xxxx xxxx xxxx xxxx xxxx xxxx xx xx xxxx meet xxxx xxxx xxxx branch manager vice president determine occur number folk basically say chase decide effective xx xx xxxx long maintain relationship reason unable provide clarity xxxx call internal department inform specific reason give xxxx elude see system closed account xxxx xxxx provide specific information xxxx say person phone say chase require disclose account close state initial document sign request paper copy document give deposit account agreement privacy notice find state appear chase bank history comply fair credit reporting act https www consumerfinance govxxxx xxxx say investigate send escalation xx xx xxxx email xxxx xxxx local bank branch manager xx xx xxxx xxxx afternoon mail receive letter chase tell specific reason give letter date xx xx xxxx appear identical letter give specific reason state inability verify identity reference xxxx credit score xxxx letter contact phone number not understand letter english letter chase xxxx xxxx tx letter date xx xx xxxx chase xxxx ohio state account block soon close information obtain consumer reporting agency xx xx xxxx email chase know overdraft option invite set overdraft preference xx xx xxxx email chase low balance alert xx xx xxxx phone record line xxxx branch escalation complaint dept xxxx xxxx ext xxxx case xxxx email xxxx send state chase decide long maintain relationship require specific reason say credit score bearing decision open checking account unable provide specific say tell xxxx xxxx credit banking separate influence decision chase bank generic response give specific provide say end line recourse resource contact option subpoena chase bank try obtain reason say not system letter date xx xx xxxx suggest number letter let know phone number letter say department supply information banking loss prevention department state letter send siting specific read letter suggest copy xxxx allow email directly say specific stay internal subpoena way possibly able obtain specific account close mention see closed account xxxx allow specific ask dig obtain letter xxxx xx xx xxxx phone record line xxxx get letter xxxx forward office say credit score bearing decision letter reference xxxx say human create letter date xx xx xxxx generic automatic thing state bank want bank say review account open close state xxxx open account place base note system note system enter banking relationship credit card chase state banking credit separate thing press press step state end line base action occur xxxx alert system open account say decision final recourse press write executive office chase bank xxxx xxxx xxxx xxxx ohio xxxx email unlikely yield resolution subpoena xx xx xxxx start process request specialized consumer disclosure report xx xx xxxx receive refund check chase date xx xx xxxx initial account opening note check stub say close account s attach check remain balance s xx xx xxxx receive marketing mail invite open chase check account xx xx xxxx email xxxx xxxx xxxx mt request find derogatory information submit xxxx personally business xxxx relation xxxx xxxx xxxx span year derogatory issue xx xx xxxx receive xxxx report information file xx xx xxxx receive xxxx report information find social security number validation xxxx xx xx xxxx proceed consumer financial protection bureau complaint contact information xxxx xxxx xxxx private client banker nmls d xxxx xxxx xxxx xxxx xxxx xxxx xxxx nmls d xxxx xxxx xxxx xxxx branch escalation complaint dept xxxx xxxx ext xxxx'"
            ]
          },
          "execution_count": 33,
          "metadata": {},
          "output_type": "execute_result"
        }
      ],
      "source": [
        "lemmatize_text(clean_text(df['complaint_what_happened'][101]))"
      ]
    },
    {
      "cell_type": "code",
      "execution_count": null,
      "metadata": {
        "id": "uXnN7aa_JrF0"
      },
      "outputs": [],
      "source": [
        "# Create a dataframe('df_clean') that will have only the complaints and the lemmatized complaints\n"
      ]
    },
    {
      "cell_type": "code",
      "execution_count": 34,
      "metadata": {
        "colab": {
          "base_uri": "https://localhost:8080/"
        },
        "id": "5OcX4oJeyMbS",
        "outputId": "bd8de148-7b62-4a50-c030-b29362dd9c44"
      },
      "outputs": [
        {
          "name": "stderr",
          "output_type": "stream",
          "text": [
            "100%|██████████| 4031/4031 [00:00<00:00, 5843.08it/s]\n"
          ]
        }
      ],
      "source": [
        "# Apply data cleaning to the complaints_what_happened column\n",
        "from tqdm import tqdm\n",
        "# Use progress_apply from tqdm on the Series\n",
        "tqdm.pandas()\n",
        "df_clean = pd.DataFrame()\n",
        "df_clean['complaints'] = df['complaint_what_happened'].progress_apply(lambda x: clean_text(x))"
      ]
    },
    {
      "cell_type": "code",
      "execution_count": 35,
      "metadata": {
        "colab": {
          "base_uri": "https://localhost:8080/"
        },
        "id": "VOp5O30Xyfb5",
        "outputId": "1bd952ef-10bc-4612-f06e-59e850333795"
      },
      "outputs": [
        {
          "data": {
            "text/plain": [
              "(4031, 1)"
            ]
          },
          "execution_count": 35,
          "metadata": {},
          "output_type": "execute_result"
        }
      ],
      "source": [
        "df_clean.shape"
      ]
    },
    {
      "cell_type": "code",
      "execution_count": 36,
      "metadata": {
        "colab": {
          "base_uri": "https://localhost:8080/"
        },
        "id": "thDH7gH0yi8S",
        "outputId": "9c8ddb7b-e3b0-4c52-a65d-76f12c511cef"
      },
      "outputs": [
        {
          "name": "stderr",
          "output_type": "stream",
          "text": [
            "100%|██████████| 4031/4031 [02:09<00:00, 31.03it/s]\n"
          ]
        }
      ],
      "source": [
        "tqdm.pandas()\n",
        "df_clean['lemmatized'] = df_clean['complaints'].progress_apply(lambda x:lemmatize_text(x))"
      ]
    },
    {
      "cell_type": "code",
      "execution_count": 37,
      "metadata": {
        "colab": {
          "base_uri": "https://localhost:8080/"
        },
        "id": "P9UniGFP0YPy",
        "outputId": "16ee8a7c-8801-4677-d41d-6ee2f483e105"
      },
      "outputs": [
        {
          "data": {
            "text/plain": [
              "(4031, 2)"
            ]
          },
          "execution_count": 37,
          "metadata": {},
          "output_type": "execute_result"
        }
      ],
      "source": [
        "df_clean.shape"
      ]
    },
    {
      "cell_type": "code",
      "execution_count": 38,
      "metadata": {
        "colab": {
          "base_uri": "https://localhost:8080/",
          "height": 206
        },
        "id": "ZpXOw6ZY0lTT",
        "outputId": "4eda2782-43c5-4636-ce8f-404b33b84c43"
      },
      "outputs": [
        {
          "data": {
            "text/html": [
              "<div>\n",
              "<style scoped>\n",
              "    .dataframe tbody tr th:only-of-type {\n",
              "        vertical-align: middle;\n",
              "    }\n",
              "\n",
              "    .dataframe tbody tr th {\n",
              "        vertical-align: top;\n",
              "    }\n",
              "\n",
              "    .dataframe thead th {\n",
              "        text-align: right;\n",
              "    }\n",
              "</style>\n",
              "<table border=\"1\" class=\"dataframe\">\n",
              "  <thead>\n",
              "    <tr style=\"text-align: right;\">\n",
              "      <th></th>\n",
              "      <th>complaints</th>\n",
              "      <th>lemmatized</th>\n",
              "    </tr>\n",
              "  </thead>\n",
              "  <tbody>\n",
              "    <tr>\n",
              "      <th>0</th>\n",
              "      <td>good morning my name is xxxx xxxx and i apprec...</td>\n",
              "      <td>good morning xxxx xxxx appreciate help stop ch...</td>\n",
              "    </tr>\n",
              "    <tr>\n",
              "      <th>1</th>\n",
              "      <td>i upgraded my xxxx xxxx card in xx xx and was ...</td>\n",
              "      <td>upgrade xxxx xxxx card xx xx tell agent upgrad...</td>\n",
              "    </tr>\n",
              "    <tr>\n",
              "      <th>2</th>\n",
              "      <td>chase card was reported on xx xx however fraud...</td>\n",
              "      <td>chase card report xx xx fraudulent application...</td>\n",
              "    </tr>\n",
              "    <tr>\n",
              "      <th>3</th>\n",
              "      <td>on xx xx while trying to book a xxxx xxxx tick...</td>\n",
              "      <td>xx xx try book xxxx xxxx ticket come offer app...</td>\n",
              "    </tr>\n",
              "    <tr>\n",
              "      <th>4</th>\n",
              "      <td>my grand son give me check for i deposit it in...</td>\n",
              "      <td>grand son check deposit chase account fund cle...</td>\n",
              "    </tr>\n",
              "  </tbody>\n",
              "</table>\n",
              "</div>"
            ],
            "text/plain": [
              "                                          complaints  \\\n",
              "0  good morning my name is xxxx xxxx and i apprec...   \n",
              "1  i upgraded my xxxx xxxx card in xx xx and was ...   \n",
              "2  chase card was reported on xx xx however fraud...   \n",
              "3  on xx xx while trying to book a xxxx xxxx tick...   \n",
              "4  my grand son give me check for i deposit it in...   \n",
              "\n",
              "                                          lemmatized  \n",
              "0  good morning xxxx xxxx appreciate help stop ch...  \n",
              "1  upgrade xxxx xxxx card xx xx tell agent upgrad...  \n",
              "2  chase card report xx xx fraudulent application...  \n",
              "3  xx xx try book xxxx xxxx ticket come offer app...  \n",
              "4  grand son check deposit chase account fund cle...  "
            ]
          },
          "execution_count": 38,
          "metadata": {},
          "output_type": "execute_result"
        }
      ],
      "source": [
        "df_clean.head()"
      ]
    },
    {
      "cell_type": "code",
      "execution_count": null,
      "metadata": {
        "colab": {
          "base_uri": "https://localhost:8080/"
        },
        "id": "giYStSIz0tYn",
        "outputId": "82b8a4fc-4c96-46bf-a159-2c014ea4e8e5"
      },
      "outputs": [
        {
          "data": {
            "text/plain": [
              "(4031, 2)"
            ]
          },
          "execution_count": 48,
          "metadata": {},
          "output_type": "execute_result"
        }
      ],
      "source": [
        "df_clean.shape"
      ]
    },
    {
      "cell_type": "code",
      "execution_count": 39,
      "metadata": {
        "colab": {
          "base_uri": "https://localhost:8080/",
          "height": 380
        },
        "id": "Kk7fc4DuJrF1",
        "outputId": "f6d4145e-52e3-42c3-bb43-2fe2653c8d67"
      },
      "outputs": [
        {
          "data": {
            "text/html": [
              "<div>\n",
              "<style scoped>\n",
              "    .dataframe tbody tr th:only-of-type {\n",
              "        vertical-align: middle;\n",
              "    }\n",
              "\n",
              "    .dataframe tbody tr th {\n",
              "        vertical-align: top;\n",
              "    }\n",
              "\n",
              "    .dataframe thead th {\n",
              "        text-align: right;\n",
              "    }\n",
              "</style>\n",
              "<table border=\"1\" class=\"dataframe\">\n",
              "  <thead>\n",
              "    <tr style=\"text-align: right;\">\n",
              "      <th></th>\n",
              "      <th>complaints</th>\n",
              "      <th>lemmatized</th>\n",
              "      <th>complaint_POS_removed</th>\n",
              "    </tr>\n",
              "  </thead>\n",
              "  <tbody>\n",
              "    <tr>\n",
              "      <th>0</th>\n",
              "      <td>good morning my name is xxxx xxxx and i apprec...</td>\n",
              "      <td>good morning xxxx xxxx appreciate help stop ch...</td>\n",
              "      <td>morning help chase debt verification statement...</td>\n",
              "    </tr>\n",
              "    <tr>\n",
              "      <th>1</th>\n",
              "      <td>i upgraded my xxxx xxxx card in xx xx and was ...</td>\n",
              "      <td>upgrade xxxx xxxx card xx xx tell agent upgrad...</td>\n",
              "      <td>agent anniversary date change agent informatio...</td>\n",
              "    </tr>\n",
              "    <tr>\n",
              "      <th>2</th>\n",
              "      <td>chase card was reported on xx xx however fraud...</td>\n",
              "      <td>chase card report xx xx fraudulent application...</td>\n",
              "      <td>card application identity consent service exte...</td>\n",
              "    </tr>\n",
              "    <tr>\n",
              "      <th>3</th>\n",
              "      <td>on xx xx while trying to book a xxxx xxxx tick...</td>\n",
              "      <td>xx xx try book xxxx xxxx ticket come offer app...</td>\n",
              "      <td>offer ticket reward card information minute no...</td>\n",
              "    </tr>\n",
              "    <tr>\n",
              "      <th>4</th>\n",
              "      <td>my grand son give me check for i deposit it in...</td>\n",
              "      <td>grand son check deposit chase account fund cle...</td>\n",
              "      <td>son deposit chase account fund account pay mon...</td>\n",
              "    </tr>\n",
              "  </tbody>\n",
              "</table>\n",
              "</div>"
            ],
            "text/plain": [
              "                                          complaints  \\\n",
              "0  good morning my name is xxxx xxxx and i apprec...   \n",
              "1  i upgraded my xxxx xxxx card in xx xx and was ...   \n",
              "2  chase card was reported on xx xx however fraud...   \n",
              "3  on xx xx while trying to book a xxxx xxxx tick...   \n",
              "4  my grand son give me check for i deposit it in...   \n",
              "\n",
              "                                          lemmatized  \\\n",
              "0  good morning xxxx xxxx appreciate help stop ch...   \n",
              "1  upgrade xxxx xxxx card xx xx tell agent upgrad...   \n",
              "2  chase card report xx xx fraudulent application...   \n",
              "3  xx xx try book xxxx xxxx ticket come offer app...   \n",
              "4  grand son check deposit chase account fund cle...   \n",
              "\n",
              "                               complaint_POS_removed  \n",
              "0  morning help chase debt verification statement...  \n",
              "1  agent anniversary date change agent informatio...  \n",
              "2  card application identity consent service exte...  \n",
              "3  offer ticket reward card information minute no...  \n",
              "4  son deposit chase account fund account pay mon...  "
            ]
          },
          "execution_count": 39,
          "metadata": {},
          "output_type": "execute_result"
        }
      ],
      "source": [
        "#Write your function to extract the POS tags\n",
        "\n",
        "def extract_pos_tags(text):\n",
        "    doc = nlp(text)\n",
        "    pos_tags = [token.text for token in doc if token.tag_ == 'NN']\n",
        "    return ' '.join(pos_tags)\n",
        "\n",
        "df_clean['complaint_POS_removed'] =  df_clean.lemmatized.apply(lambda x: extract_pos_tags(x))\n",
        "df_clean.head()\n"
      ]
    },
    {
      "cell_type": "code",
      "execution_count": 40,
      "metadata": {
        "colab": {
          "base_uri": "https://localhost:8080/",
          "height": 52
        },
        "id": "N0PXLpEy1fye",
        "outputId": "0240fea1-c728-4d87-89da-41623aab842f"
      },
      "outputs": [
        {
          "data": {
            "text/plain": [
              "'morning help chase debt verification statement validate debt mail month attempt debt information consumer chase account advance help'"
            ]
          },
          "execution_count": 40,
          "metadata": {},
          "output_type": "execute_result"
        }
      ],
      "source": [
        "extract_pos_tags(df_clean['lemmatized'][0])"
      ]
    },
    {
      "cell_type": "code",
      "execution_count": 41,
      "metadata": {
        "colab": {
          "base_uri": "https://localhost:8080/",
          "height": 597
        },
        "id": "AjxfchvFJrF2",
        "outputId": "22edc851-3f0c-4b3c-cf6d-231d176d4154"
      },
      "outputs": [
        {
          "data": {
            "text/html": [
              "<div>\n",
              "<style scoped>\n",
              "    .dataframe tbody tr th:only-of-type {\n",
              "        vertical-align: middle;\n",
              "    }\n",
              "\n",
              "    .dataframe tbody tr th {\n",
              "        vertical-align: top;\n",
              "    }\n",
              "\n",
              "    .dataframe thead th {\n",
              "        text-align: right;\n",
              "    }\n",
              "</style>\n",
              "<table border=\"1\" class=\"dataframe\">\n",
              "  <thead>\n",
              "    <tr style=\"text-align: right;\">\n",
              "      <th></th>\n",
              "      <th>complaints</th>\n",
              "      <th>lemmatized</th>\n",
              "      <th>complaint_POS_removed</th>\n",
              "    </tr>\n",
              "  </thead>\n",
              "  <tbody>\n",
              "    <tr>\n",
              "      <th>0</th>\n",
              "      <td>good morning my name is xxxx xxxx and i apprec...</td>\n",
              "      <td>good morning xxxx xxxx appreciate help stop ch...</td>\n",
              "      <td>morning help chase debt verification statement...</td>\n",
              "    </tr>\n",
              "    <tr>\n",
              "      <th>1</th>\n",
              "      <td>i upgraded my xxxx xxxx card in xx xx and was ...</td>\n",
              "      <td>upgrade xxxx xxxx card xx xx tell agent upgrad...</td>\n",
              "      <td>agent anniversary date change agent informatio...</td>\n",
              "    </tr>\n",
              "    <tr>\n",
              "      <th>2</th>\n",
              "      <td>chase card was reported on xx xx however fraud...</td>\n",
              "      <td>chase card report xx xx fraudulent application...</td>\n",
              "      <td>card application identity consent service exte...</td>\n",
              "    </tr>\n",
              "    <tr>\n",
              "      <th>3</th>\n",
              "      <td>on xx xx while trying to book a xxxx xxxx tick...</td>\n",
              "      <td>xx xx try book xxxx xxxx ticket come offer app...</td>\n",
              "      <td>offer ticket reward card information minute no...</td>\n",
              "    </tr>\n",
              "    <tr>\n",
              "      <th>4</th>\n",
              "      <td>my grand son give me check for i deposit it in...</td>\n",
              "      <td>grand son check deposit chase account fund cle...</td>\n",
              "      <td>son deposit chase account fund account pay mon...</td>\n",
              "    </tr>\n",
              "    <tr>\n",
              "      <th>...</th>\n",
              "      <td>...</td>\n",
              "      <td>...</td>\n",
              "      <td>...</td>\n",
              "    </tr>\n",
              "    <tr>\n",
              "      <th>4026</th>\n",
              "      <td>jpmcb auto finance has been on my credit repor...</td>\n",
              "      <td>jpmcb auto finance credit report thatn month c...</td>\n",
              "      <td>auto finance credit report month charge hardsh...</td>\n",
              "    </tr>\n",
              "    <tr>\n",
              "      <th>4027</th>\n",
              "      <td>on xx xx xxxx a vendor double charged my chase...</td>\n",
              "      <td>xx xx xxxx vendor double charge chase card tel...</td>\n",
              "      <td>charge chase card chase problem phone problem ...</td>\n",
              "    </tr>\n",
              "    <tr>\n",
              "      <th>4028</th>\n",
              "      <td>i filed an application for a mortgage refinanc...</td>\n",
              "      <td>file application mortgage refinance loan chase...</td>\n",
              "      <td>file application mortgage refinance loan chase...</td>\n",
              "    </tr>\n",
              "    <tr>\n",
              "      <th>4029</th>\n",
              "      <td>re claim xxxx i do not feel that chase bank pr...</td>\n",
              "      <td>claim xxxx feel chase bank properly take time ...</td>\n",
              "      <td>time address dispute merchant cancel transacti...</td>\n",
              "    </tr>\n",
              "    <tr>\n",
              "      <th>4030</th>\n",
              "      <td>xx xx xxxx dear cfpb i hope this finds you wel...</td>\n",
              "      <td>xx xx xxxx dear cfpb hope find safe appeal ass...</td>\n",
              "      <td>cfpb hope appeal assistance resolve issue than...</td>\n",
              "    </tr>\n",
              "  </tbody>\n",
              "</table>\n",
              "<p>4031 rows × 3 columns</p>\n",
              "</div>"
            ],
            "text/plain": [
              "                                             complaints  \\\n",
              "0     good morning my name is xxxx xxxx and i apprec...   \n",
              "1     i upgraded my xxxx xxxx card in xx xx and was ...   \n",
              "2     chase card was reported on xx xx however fraud...   \n",
              "3     on xx xx while trying to book a xxxx xxxx tick...   \n",
              "4     my grand son give me check for i deposit it in...   \n",
              "...                                                 ...   \n",
              "4026  jpmcb auto finance has been on my credit repor...   \n",
              "4027  on xx xx xxxx a vendor double charged my chase...   \n",
              "4028  i filed an application for a mortgage refinanc...   \n",
              "4029  re claim xxxx i do not feel that chase bank pr...   \n",
              "4030  xx xx xxxx dear cfpb i hope this finds you wel...   \n",
              "\n",
              "                                             lemmatized  \\\n",
              "0     good morning xxxx xxxx appreciate help stop ch...   \n",
              "1     upgrade xxxx xxxx card xx xx tell agent upgrad...   \n",
              "2     chase card report xx xx fraudulent application...   \n",
              "3     xx xx try book xxxx xxxx ticket come offer app...   \n",
              "4     grand son check deposit chase account fund cle...   \n",
              "...                                                 ...   \n",
              "4026  jpmcb auto finance credit report thatn month c...   \n",
              "4027  xx xx xxxx vendor double charge chase card tel...   \n",
              "4028  file application mortgage refinance loan chase...   \n",
              "4029  claim xxxx feel chase bank properly take time ...   \n",
              "4030  xx xx xxxx dear cfpb hope find safe appeal ass...   \n",
              "\n",
              "                                  complaint_POS_removed  \n",
              "0     morning help chase debt verification statement...  \n",
              "1     agent anniversary date change agent informatio...  \n",
              "2     card application identity consent service exte...  \n",
              "3     offer ticket reward card information minute no...  \n",
              "4     son deposit chase account fund account pay mon...  \n",
              "...                                                 ...  \n",
              "4026  auto finance credit report month charge hardsh...  \n",
              "4027  charge chase card chase problem phone problem ...  \n",
              "4028  file application mortgage refinance loan chase...  \n",
              "4029  time address dispute merchant cancel transacti...  \n",
              "4030  cfpb hope appeal assistance resolve issue than...  \n",
              "\n",
              "[4031 rows x 3 columns]"
            ]
          },
          "execution_count": 41,
          "metadata": {},
          "output_type": "execute_result"
        }
      ],
      "source": [
        "#The clean dataframe should now contain the raw complaint, lemmatized complaint and the complaint after removing POS tags.\n",
        "df_clean"
      ]
    },
    {
      "cell_type": "markdown",
      "metadata": {
        "id": "_7Un1AElJrF2"
      },
      "source": [
        "## Exploratory data analysis to get familiar with the data.\n",
        "\n",
        "Escriba el código en esta tarea para realizar lo siguiente:\n",
        "\n",
        "* Visualiza los datos según la longitud del carácteres 'Complaint'\n",
        "* Usando una nube de palabras, encuentre las top 40 palabras más frecuentes de todos los artículos después de procesar el texto\n",
        "* Encuentre los mejores unigramas, bigramas y trigramas por frecuencia entre todas las quejas después de procesar el texto. '"
      ]
    },
    {
      "cell_type": "code",
      "execution_count": 42,
      "metadata": {
        "colab": {
          "base_uri": "https://localhost:8080/",
          "height": 482
        },
        "id": "q-zaqJF6JrF2",
        "outputId": "3cc2c4f8-f0b0-4eed-f526-ee664dd54205"
      },
      "outputs": [
        {
          "data": {
            "image/png": "[encoded data removed]",
            "text/plain": [
              "<Figure size 1000x600 with 1 Axes>"
            ]
          },
          "metadata": {},
          "output_type": "display_data"
        }
      ],
      "source": [
        "# Write your code here to visualise the data according to the 'Complaint' character length\n",
        "plt.figure(figsize=(10, 6))\n",
        "plt.hist(df_clean['complaint_POS_removed'].str.len(), bins=30, color='skyblue', edgecolor='black')\n",
        "plt.xlabel('Complaint Length (Characters)')\n",
        "plt.ylabel('Frequency')\n",
        "plt.title('Distribution of Complaint Length')\n",
        "plt.grid(True)\n",
        "plt.show()"
      ]
    },
    {
      "cell_type": "markdown",
      "metadata": {
        "id": "T9jD_6SeJrF3"
      },
      "source": [
        "#### Find the top 40 words by frequency among all the articles after processing the text."
      ]
    },
    {
      "cell_type": "code",
      "execution_count": 43,
      "metadata": {
        "colab": {
          "base_uri": "https://localhost:8080/"
        },
        "id": "shW3BX0Q4rAE",
        "outputId": "c1cacc7b-1c51-43d5-966b-a8abeebae848"
      },
      "outputs": [
        {
          "name": "stdout",
          "output_type": "stream",
          "text": [
            "Defaulting to user installation because normal site-packages is not writeable\n",
            "Collecting wordcloud\n",
            "  Downloading wordcloud-1.9.4-cp311-cp311-win_amd64.whl.metadata (3.5 kB)\n",
            "Requirement already satisfied: numpy>=1.6.1 in c:\\programdata\\anaconda3\\lib\\site-packages (from wordcloud) (1.24.3)\n",
            "Requirement already satisfied: pillow in c:\\programdata\\anaconda3\\lib\\site-packages (from wordcloud) (9.4.0)\n",
            "Requirement already satisfied: matplotlib in c:\\programdata\\anaconda3\\lib\\site-packages (from wordcloud) (3.7.2)\n",
            "Requirement already satisfied: contourpy>=1.0.1 in c:\\programdata\\anaconda3\\lib\\site-packages (from matplotlib->wordcloud) (1.0.5)\n",
            "Requirement already satisfied: cycler>=0.10 in c:\\programdata\\anaconda3\\lib\\site-packages (from matplotlib->wordcloud) (0.11.0)\n",
            "Requirement already satisfied: fonttools>=4.22.0 in c:\\programdata\\anaconda3\\lib\\site-packages (from matplotlib->wordcloud) (4.25.0)\n",
            "Requirement already satisfied: kiwisolver>=1.0.1 in c:\\programdata\\anaconda3\\lib\\site-packages (from matplotlib->wordcloud) (1.4.4)\n",
            "Requirement already satisfied: packaging>=20.0 in c:\\users\\adadf\\appdata\\roaming\\python\\python311\\site-packages (from matplotlib->wordcloud) (24.1)\n",
            "Requirement already satisfied: pyparsing<3.1,>=2.3.1 in c:\\programdata\\anaconda3\\lib\\site-packages (from matplotlib->wordcloud) (3.0.9)\n",
            "Requirement already satisfied: python-dateutil>=2.7 in c:\\users\\adadf\\appdata\\roaming\\python\\python311\\site-packages (from matplotlib->wordcloud) (2.9.0.post0)\n",
            "Requirement already satisfied: six>=1.5 in c:\\users\\adadf\\appdata\\roaming\\python\\python311\\site-packages (from python-dateutil>=2.7->matplotlib->wordcloud) (1.16.0)\n",
            "Downloading wordcloud-1.9.4-cp311-cp311-win_amd64.whl (299 kB)\n",
            "Installing collected packages: wordcloud\n",
            "Successfully installed wordcloud-1.9.4\n"
          ]
        },
        {
          "name": "stderr",
          "output_type": "stream",
          "text": [
            "  WARNING: The script wordcloud_cli.exe is installed in 'C:\\Users\\adadf\\AppData\\Roaming\\Python\\Python311\\Scripts' which is not on PATH.\n",
            "  Consider adding this directory to PATH or, if you prefer to suppress this warning, use --no-warn-script-location.\n"
          ]
        }
      ],
      "source": [
        "!pip install wordcloud"
      ]
    },
    {
      "cell_type": "code",
      "execution_count": 44,
      "metadata": {
        "colab": {
          "base_uri": "https://localhost:8080/",
          "height": 443
        },
        "id": "a1mMNftZ-4c_",
        "outputId": "cc043273-0919-4c58-d885-3c8a1430acf8"
      },
      "outputs": [
        {
          "name": "stdout",
          "output_type": "stream",
          "text": [
            "<wordcloud.wordcloud.WordCloud object at 0x000001B1D31A5850>\n"
          ]
        },
        {
          "name": "stderr",
          "output_type": "stream",
          "text": [
            "[nltk_data] Downloading package stopwords to\n",
            "[nltk_data]     C:\\Users\\adadf\\AppData\\Roaming\\nltk_data...\n",
            "[nltk_data]   Package stopwords is already up-to-date!\n"
          ]
        },
        {
          "data": {
            "image/png": "[encoded data removed]",
            "text/plain": [
              "<Figure size 1000x600 with 1 Axes>"
            ]
          },
          "metadata": {},
          "output_type": "display_data"
        }
      ],
      "source": [
        "from wordcloud import WordCloud\n",
        "import nltk\n",
        "from nltk.corpus import stopwords\n",
        "\n",
        "nltk.download('stopwords')\n",
        "stopwords = set(stopwords.words('english'))\n",
        "\n",
        "wordcloud = WordCloud(stopwords=stopwords,max_words=40).generate(str(df_clean.complaint_POS_removed))\n",
        "\n",
        "print(wordcloud)\n",
        "plt.figure(figsize=(10,6))\n",
        "plt.imshow(wordcloud)\n",
        "plt.axis('off')\n",
        "plt.show()\n"
      ]
    },
    {
      "cell_type": "code",
      "execution_count": 45,
      "metadata": {
        "id": "IDcqG9BBmegl"
      },
      "outputs": [],
      "source": [
        "#Removing -PRON- from the text corpus\n",
        "df_clean['Complaint_clean'] = df_clean['complaint_POS_removed'].str.replace('-PRON-', '')\n",
        "df_clean = df_clean.drop(['complaint_POS_removed'],axis = 1)"
      ]
    },
    {
      "cell_type": "code",
      "execution_count": 46,
      "metadata": {
        "colab": {
          "base_uri": "https://localhost:8080/",
          "height": 458
        },
        "id": "KxGpxQQcxEvn",
        "outputId": "c1a3024d-4650-4ebb-fec3-c25185c4dd7e"
      },
      "outputs": [
        {
          "data": {
            "text/plain": [
              "0       morning help chase debt verification statement...\n",
              "1       agent anniversary date change agent informatio...\n",
              "2       card application identity consent service exte...\n",
              "3       offer ticket reward card information minute no...\n",
              "4       son deposit chase account fund account pay mon...\n",
              "                              ...                        \n",
              "4026    auto finance credit report month charge hardsh...\n",
              "4027    charge chase card chase problem phone problem ...\n",
              "4028    file application mortgage refinance loan chase...\n",
              "4029    time address dispute merchant cancel transacti...\n",
              "4030    cfpb hope appeal assistance resolve issue than...\n",
              "Name: Complaint_clean, Length: 4031, dtype: object"
            ]
          },
          "execution_count": 46,
          "metadata": {},
          "output_type": "execute_result"
        }
      ],
      "source": [
        "df_clean ['Complaint_clean']"
      ]
    },
    {
      "cell_type": "code",
      "execution_count": 47,
      "metadata": {
        "colab": {
          "base_uri": "https://localhost:8080/",
          "height": 597
        },
        "id": "JY7nuaHimZoD",
        "outputId": "85fa8678-ec1b-4dc3-8b70-0455f9e3e51e"
      },
      "outputs": [
        {
          "data": {
            "text/html": [
              "<div>\n",
              "<style scoped>\n",
              "    .dataframe tbody tr th:only-of-type {\n",
              "        vertical-align: middle;\n",
              "    }\n",
              "\n",
              "    .dataframe tbody tr th {\n",
              "        vertical-align: top;\n",
              "    }\n",
              "\n",
              "    .dataframe thead th {\n",
              "        text-align: right;\n",
              "    }\n",
              "</style>\n",
              "<table border=\"1\" class=\"dataframe\">\n",
              "  <thead>\n",
              "    <tr style=\"text-align: right;\">\n",
              "      <th></th>\n",
              "      <th>complaints</th>\n",
              "      <th>lemmatized</th>\n",
              "      <th>Complaint_clean</th>\n",
              "    </tr>\n",
              "  </thead>\n",
              "  <tbody>\n",
              "    <tr>\n",
              "      <th>0</th>\n",
              "      <td>good morning my name is xxxx xxxx and i apprec...</td>\n",
              "      <td>good morning xxxx xxxx appreciate help stop ch...</td>\n",
              "      <td>morning help chase debt verification statement...</td>\n",
              "    </tr>\n",
              "    <tr>\n",
              "      <th>1</th>\n",
              "      <td>i upgraded my xxxx xxxx card in xx xx and was ...</td>\n",
              "      <td>upgrade xxxx xxxx card xx xx tell agent upgrad...</td>\n",
              "      <td>agent anniversary date change agent informatio...</td>\n",
              "    </tr>\n",
              "    <tr>\n",
              "      <th>2</th>\n",
              "      <td>chase card was reported on xx xx however fraud...</td>\n",
              "      <td>chase card report xx xx fraudulent application...</td>\n",
              "      <td>card application identity consent service exte...</td>\n",
              "    </tr>\n",
              "    <tr>\n",
              "      <th>3</th>\n",
              "      <td>on xx xx while trying to book a xxxx xxxx tick...</td>\n",
              "      <td>xx xx try book xxxx xxxx ticket come offer app...</td>\n",
              "      <td>offer ticket reward card information minute no...</td>\n",
              "    </tr>\n",
              "    <tr>\n",
              "      <th>4</th>\n",
              "      <td>my grand son give me check for i deposit it in...</td>\n",
              "      <td>grand son check deposit chase account fund cle...</td>\n",
              "      <td>son deposit chase account fund account pay mon...</td>\n",
              "    </tr>\n",
              "    <tr>\n",
              "      <th>...</th>\n",
              "      <td>...</td>\n",
              "      <td>...</td>\n",
              "      <td>...</td>\n",
              "    </tr>\n",
              "    <tr>\n",
              "      <th>4026</th>\n",
              "      <td>jpmcb auto finance has been on my credit repor...</td>\n",
              "      <td>jpmcb auto finance credit report thatn month c...</td>\n",
              "      <td>auto finance credit report month charge hardsh...</td>\n",
              "    </tr>\n",
              "    <tr>\n",
              "      <th>4027</th>\n",
              "      <td>on xx xx xxxx a vendor double charged my chase...</td>\n",
              "      <td>xx xx xxxx vendor double charge chase card tel...</td>\n",
              "      <td>charge chase card chase problem phone problem ...</td>\n",
              "    </tr>\n",
              "    <tr>\n",
              "      <th>4028</th>\n",
              "      <td>i filed an application for a mortgage refinanc...</td>\n",
              "      <td>file application mortgage refinance loan chase...</td>\n",
              "      <td>file application mortgage refinance loan chase...</td>\n",
              "    </tr>\n",
              "    <tr>\n",
              "      <th>4029</th>\n",
              "      <td>re claim xxxx i do not feel that chase bank pr...</td>\n",
              "      <td>claim xxxx feel chase bank properly take time ...</td>\n",
              "      <td>time address dispute merchant cancel transacti...</td>\n",
              "    </tr>\n",
              "    <tr>\n",
              "      <th>4030</th>\n",
              "      <td>xx xx xxxx dear cfpb i hope this finds you wel...</td>\n",
              "      <td>xx xx xxxx dear cfpb hope find safe appeal ass...</td>\n",
              "      <td>cfpb hope appeal assistance resolve issue than...</td>\n",
              "    </tr>\n",
              "  </tbody>\n",
              "</table>\n",
              "<p>4031 rows × 3 columns</p>\n",
              "</div>"
            ],
            "text/plain": [
              "                                             complaints  \\\n",
              "0     good morning my name is xxxx xxxx and i apprec...   \n",
              "1     i upgraded my xxxx xxxx card in xx xx and was ...   \n",
              "2     chase card was reported on xx xx however fraud...   \n",
              "3     on xx xx while trying to book a xxxx xxxx tick...   \n",
              "4     my grand son give me check for i deposit it in...   \n",
              "...                                                 ...   \n",
              "4026  jpmcb auto finance has been on my credit repor...   \n",
              "4027  on xx xx xxxx a vendor double charged my chase...   \n",
              "4028  i filed an application for a mortgage refinanc...   \n",
              "4029  re claim xxxx i do not feel that chase bank pr...   \n",
              "4030  xx xx xxxx dear cfpb i hope this finds you wel...   \n",
              "\n",
              "                                             lemmatized  \\\n",
              "0     good morning xxxx xxxx appreciate help stop ch...   \n",
              "1     upgrade xxxx xxxx card xx xx tell agent upgrad...   \n",
              "2     chase card report xx xx fraudulent application...   \n",
              "3     xx xx try book xxxx xxxx ticket come offer app...   \n",
              "4     grand son check deposit chase account fund cle...   \n",
              "...                                                 ...   \n",
              "4026  jpmcb auto finance credit report thatn month c...   \n",
              "4027  xx xx xxxx vendor double charge chase card tel...   \n",
              "4028  file application mortgage refinance loan chase...   \n",
              "4029  claim xxxx feel chase bank properly take time ...   \n",
              "4030  xx xx xxxx dear cfpb hope find safe appeal ass...   \n",
              "\n",
              "                                        Complaint_clean  \n",
              "0     morning help chase debt verification statement...  \n",
              "1     agent anniversary date change agent informatio...  \n",
              "2     card application identity consent service exte...  \n",
              "3     offer ticket reward card information minute no...  \n",
              "4     son deposit chase account fund account pay mon...  \n",
              "...                                                 ...  \n",
              "4026  auto finance credit report month charge hardsh...  \n",
              "4027  charge chase card chase problem phone problem ...  \n",
              "4028  file application mortgage refinance loan chase...  \n",
              "4029  time address dispute merchant cancel transacti...  \n",
              "4030  cfpb hope appeal assistance resolve issue than...  \n",
              "\n",
              "[4031 rows x 3 columns]"
            ]
          },
          "execution_count": 47,
          "metadata": {},
          "output_type": "execute_result"
        }
      ],
      "source": [
        "df_clean"
      ]
    },
    {
      "cell_type": "markdown",
      "metadata": {
        "id": "5DfCSbbmJrF4"
      },
      "source": [
        "#### Find the top unigrams,bigrams and trigrams by frequency among all the complaints after processing the text."
      ]
    },
    {
      "cell_type": "code",
      "execution_count": 48,
      "metadata": {
        "id": "5mbk5DS5JrF4"
      },
      "outputs": [],
      "source": [
        "#Write your code here to find the top 30 unigram frequency among the complaints in the cleaned datafram(df_clean).\n",
        "def get_top_n_bigram(text, ngram=1, top=None):\n",
        "    vec = CountVectorizer(ngram_range=(ngram, ngram), stop_words='english').fit(text)\n",
        "    bag_of_words = vec.transform(text)\n",
        "\n",
        "    sum_words = bag_of_words.sum(axis=0)\n",
        "    words_freq = [(word, sum_words[0, idx]) for word, idx in vec.vocabulary_.items()]\n",
        "\n",
        "    words_freq =sorted(words_freq, key = lambda x: x[1], reverse=True)\n",
        "    return words_freq[:top]"
      ]
    },
    {
      "cell_type": "code",
      "execution_count": 51,
      "metadata": {
        "id": "i0XCdWR0n-zK"
      },
      "outputs": [],
      "source": [
        "top_30_unigrams = get_top_n_bigram(df_clean.Complaint_clean,ngram=1, top=30)\n"
      ]
    },
    {
      "cell_type": "code",
      "execution_count": 52,
      "metadata": {
        "colab": {
          "base_uri": "https://localhost:8080/"
        },
        "id": "YX7fedm1JrF8",
        "outputId": "795c1c12-9356-4cd9-c2ad-ceb866d0fb43"
      },
      "outputs": [
        {
          "name": "stdout",
          "output_type": "stream",
          "text": [
            "Top 10 Unigrams:\n",
            "chase: 10509\n",
            "account: 8141\n",
            "credit: 6587\n",
            "card: 6138\n",
            "payment: 3633\n",
            "charge: 3165\n",
            "time: 2921\n",
            "money: 2309\n",
            "day: 2283\n",
            "bank: 2231\n"
          ]
        }
      ],
      "source": [
        "#Print the top 10 words in the unigram frequency\n",
        "print(\"Top 10 Unigrams:\")\n",
        "for word, freq in top_30_unigrams[:10]:\n",
        "    print(f\"{word}: {freq}\")"
      ]
    },
    {
      "cell_type": "code",
      "execution_count": 53,
      "metadata": {
        "id": "aV7kD7w8JrF8"
      },
      "outputs": [],
      "source": [
        "#Write your code here to find the top 30 bigram frequency among the complaints in the cleaned datafram(df_clean).\n",
        "top_30_bigrams = get_top_n_bigram(df_clean.Complaint_clean,ngram=2, top=30)"
      ]
    },
    {
      "cell_type": "code",
      "execution_count": 54,
      "metadata": {
        "colab": {
          "base_uri": "https://localhost:8080/"
        },
        "id": "NPnMNIpyJrF9",
        "outputId": "b7f54598-31cd-48b3-8888-0463542118d8"
      },
      "outputs": [
        {
          "name": "stdout",
          "output_type": "stream",
          "text": [
            "Top 10 Bigrams:\n",
            "credit card: 2488\n",
            "credit report: 784\n",
            "chase credit: 598\n",
            "account chase: 586\n",
            "customer service: 561\n",
            "chase account: 452\n",
            "chase bank: 420\n",
            "account account: 416\n",
            "contact chase: 409\n",
            "debit card: 403\n"
          ]
        }
      ],
      "source": [
        "#Print the top 10 words in the bigram frequency\n",
        "print(\"Top 10 Bigrams:\")\n",
        "for word, freq in top_30_bigrams[:10]:\n",
        "    print(f\"{word}: {freq}\")"
      ]
    },
    {
      "cell_type": "code",
      "execution_count": 55,
      "metadata": {
        "id": "Xkh7vtbtJrF-"
      },
      "outputs": [],
      "source": [
        "#Write your code here to find the top 30 trigram frequency among the complaints in the cleaned datafram(df_clean).\n",
        "top_30_trigrams = get_top_n_bigram(df_clean.Complaint_clean,ngram=3, top=30)"
      ]
    },
    {
      "cell_type": "code",
      "execution_count": 56,
      "metadata": {
        "colab": {
          "base_uri": "https://localhost:8080/"
        },
        "id": "REcVxNfvJrF-",
        "outputId": "0fcbf5ad-e711-481e-8253-d479481eba60"
      },
      "outputs": [
        {
          "name": "stdout",
          "output_type": "stream",
          "text": [
            "Top 10 Trigrams:\n",
            "chase credit card: 445\n",
            "credit card company: 212\n",
            "credit card account: 187\n",
            "credit card chase: 170\n",
            "chase customer service: 112\n",
            "inquiry credit report: 107\n",
            "credit reporting act: 104\n",
            "charge credit card: 102\n",
            "credit reporting agency: 100\n",
            "credit card credit: 99\n"
          ]
        }
      ],
      "source": [
        "#Print the top 10 words in the trigram frequency\n",
        "print(\"Top 10 Trigrams:\")\n",
        "for word, freq in top_30_trigrams[:10]:\n",
        "    print(f\"{word}: {freq}\")"
      ]
    },
    {
      "cell_type": "markdown",
      "metadata": {
        "id": "yUXzFji0JrF_"
      },
      "source": [
        "## The personal details of customer has been masked in the dataset with xxxx. Let's remove the masked text as this will be of no use for our analysis"
      ]
    },
    {
      "cell_type": "code",
      "execution_count": 57,
      "metadata": {
        "id": "wKda-a_IJrF_"
      },
      "outputs": [],
      "source": [
        "df_clean['Complaint_clean'] = df_clean['Complaint_clean'].str.replace('xxxx','')"
      ]
    },
    {
      "cell_type": "code",
      "execution_count": 58,
      "metadata": {
        "colab": {
          "base_uri": "https://localhost:8080/",
          "height": 597
        },
        "id": "9UIFk8fQJrF_",
        "outputId": "be83823d-b075-4f49-e04a-d19d807c86de"
      },
      "outputs": [
        {
          "data": {
            "text/html": [
              "<div>\n",
              "<style scoped>\n",
              "    .dataframe tbody tr th:only-of-type {\n",
              "        vertical-align: middle;\n",
              "    }\n",
              "\n",
              "    .dataframe tbody tr th {\n",
              "        vertical-align: top;\n",
              "    }\n",
              "\n",
              "    .dataframe thead th {\n",
              "        text-align: right;\n",
              "    }\n",
              "</style>\n",
              "<table border=\"1\" class=\"dataframe\">\n",
              "  <thead>\n",
              "    <tr style=\"text-align: right;\">\n",
              "      <th></th>\n",
              "      <th>complaints</th>\n",
              "      <th>lemmatized</th>\n",
              "      <th>Complaint_clean</th>\n",
              "    </tr>\n",
              "  </thead>\n",
              "  <tbody>\n",
              "    <tr>\n",
              "      <th>0</th>\n",
              "      <td>good morning my name is xxxx xxxx and i apprec...</td>\n",
              "      <td>good morning xxxx xxxx appreciate help stop ch...</td>\n",
              "      <td>morning help chase debt verification statement...</td>\n",
              "    </tr>\n",
              "    <tr>\n",
              "      <th>1</th>\n",
              "      <td>i upgraded my xxxx xxxx card in xx xx and was ...</td>\n",
              "      <td>upgrade xxxx xxxx card xx xx tell agent upgrad...</td>\n",
              "      <td>agent anniversary date change agent informatio...</td>\n",
              "    </tr>\n",
              "    <tr>\n",
              "      <th>2</th>\n",
              "      <td>chase card was reported on xx xx however fraud...</td>\n",
              "      <td>chase card report xx xx fraudulent application...</td>\n",
              "      <td>card application identity consent service exte...</td>\n",
              "    </tr>\n",
              "    <tr>\n",
              "      <th>3</th>\n",
              "      <td>on xx xx while trying to book a xxxx xxxx tick...</td>\n",
              "      <td>xx xx try book xxxx xxxx ticket come offer app...</td>\n",
              "      <td>offer ticket reward card information minute no...</td>\n",
              "    </tr>\n",
              "    <tr>\n",
              "      <th>4</th>\n",
              "      <td>my grand son give me check for i deposit it in...</td>\n",
              "      <td>grand son check deposit chase account fund cle...</td>\n",
              "      <td>son deposit chase account fund account pay mon...</td>\n",
              "    </tr>\n",
              "    <tr>\n",
              "      <th>...</th>\n",
              "      <td>...</td>\n",
              "      <td>...</td>\n",
              "      <td>...</td>\n",
              "    </tr>\n",
              "    <tr>\n",
              "      <th>4026</th>\n",
              "      <td>jpmcb auto finance has been on my credit repor...</td>\n",
              "      <td>jpmcb auto finance credit report thatn month c...</td>\n",
              "      <td>auto finance credit report month charge hardsh...</td>\n",
              "    </tr>\n",
              "    <tr>\n",
              "      <th>4027</th>\n",
              "      <td>on xx xx xxxx a vendor double charged my chase...</td>\n",
              "      <td>xx xx xxxx vendor double charge chase card tel...</td>\n",
              "      <td>charge chase card chase problem phone problem ...</td>\n",
              "    </tr>\n",
              "    <tr>\n",
              "      <th>4028</th>\n",
              "      <td>i filed an application for a mortgage refinanc...</td>\n",
              "      <td>file application mortgage refinance loan chase...</td>\n",
              "      <td>file application mortgage refinance loan chase...</td>\n",
              "    </tr>\n",
              "    <tr>\n",
              "      <th>4029</th>\n",
              "      <td>re claim xxxx i do not feel that chase bank pr...</td>\n",
              "      <td>claim xxxx feel chase bank properly take time ...</td>\n",
              "      <td>time address dispute merchant cancel transacti...</td>\n",
              "    </tr>\n",
              "    <tr>\n",
              "      <th>4030</th>\n",
              "      <td>xx xx xxxx dear cfpb i hope this finds you wel...</td>\n",
              "      <td>xx xx xxxx dear cfpb hope find safe appeal ass...</td>\n",
              "      <td>cfpb hope appeal assistance resolve issue than...</td>\n",
              "    </tr>\n",
              "  </tbody>\n",
              "</table>\n",
              "<p>4031 rows × 3 columns</p>\n",
              "</div>"
            ],
            "text/plain": [
              "                                             complaints  \\\n",
              "0     good morning my name is xxxx xxxx and i apprec...   \n",
              "1     i upgraded my xxxx xxxx card in xx xx and was ...   \n",
              "2     chase card was reported on xx xx however fraud...   \n",
              "3     on xx xx while trying to book a xxxx xxxx tick...   \n",
              "4     my grand son give me check for i deposit it in...   \n",
              "...                                                 ...   \n",
              "4026  jpmcb auto finance has been on my credit repor...   \n",
              "4027  on xx xx xxxx a vendor double charged my chase...   \n",
              "4028  i filed an application for a mortgage refinanc...   \n",
              "4029  re claim xxxx i do not feel that chase bank pr...   \n",
              "4030  xx xx xxxx dear cfpb i hope this finds you wel...   \n",
              "\n",
              "                                             lemmatized  \\\n",
              "0     good morning xxxx xxxx appreciate help stop ch...   \n",
              "1     upgrade xxxx xxxx card xx xx tell agent upgrad...   \n",
              "2     chase card report xx xx fraudulent application...   \n",
              "3     xx xx try book xxxx xxxx ticket come offer app...   \n",
              "4     grand son check deposit chase account fund cle...   \n",
              "...                                                 ...   \n",
              "4026  jpmcb auto finance credit report thatn month c...   \n",
              "4027  xx xx xxxx vendor double charge chase card tel...   \n",
              "4028  file application mortgage refinance loan chase...   \n",
              "4029  claim xxxx feel chase bank properly take time ...   \n",
              "4030  xx xx xxxx dear cfpb hope find safe appeal ass...   \n",
              "\n",
              "                                        Complaint_clean  \n",
              "0     morning help chase debt verification statement...  \n",
              "1     agent anniversary date change agent informatio...  \n",
              "2     card application identity consent service exte...  \n",
              "3     offer ticket reward card information minute no...  \n",
              "4     son deposit chase account fund account pay mon...  \n",
              "...                                                 ...  \n",
              "4026  auto finance credit report month charge hardsh...  \n",
              "4027  charge chase card chase problem phone problem ...  \n",
              "4028  file application mortgage refinance loan chase...  \n",
              "4029  time address dispute merchant cancel transacti...  \n",
              "4030  cfpb hope appeal assistance resolve issue than...  \n",
              "\n",
              "[4031 rows x 3 columns]"
            ]
          },
          "execution_count": 58,
          "metadata": {},
          "output_type": "execute_result"
        }
      ],
      "source": [
        "#All masked texts has been removed\n",
        "df_clean"
      ]
    },
    {
      "cell_type": "code",
      "execution_count": 59,
      "metadata": {
        "colab": {
          "base_uri": "https://localhost:8080/"
        },
        "id": "gBvATiea0b4s",
        "outputId": "5fccebb1-659c-44b3-ca81-ebbea1aca88d"
      },
      "outputs": [
        {
          "data": {
            "text/plain": [
              "(4031, 3)"
            ]
          },
          "execution_count": 59,
          "metadata": {},
          "output_type": "execute_result"
        }
      ],
      "source": [
        "df_clean.shape"
      ]
    },
    {
      "cell_type": "markdown",
      "metadata": {
        "id": "k-I0k0QtJrGA"
      },
      "source": [
        "## Feature Extraction\n",
        "Convierta los textos sin procesar en una matriz de características TF-IDF\n",
        "\n",
        "**max_df** is used for removing terms that appear too frequently, also known as \"corpus-specific stop words\"\n",
        "max_df = 0.95 means \"ignore terms that appear in more than 95% of the complaints\"\n",
        "\n",
        "**min_df** is used for removing terms that appear too infrequently\n",
        "min_df = 2 means \"ignore terms that appear in less than 2 complaints\""
      ]
    },
    {
      "cell_type": "code",
      "execution_count": null,
      "metadata": {
        "id": "Y8fGwaCPJrGA"
      },
      "outputs": [],
      "source": [
        "# Write your code here to initialise the TfidfVectorizer\n",
        "\n"
      ]
    },
    {
      "cell_type": "markdown",
      "metadata": {
        "id": "yYzD85nTJrGA"
      },
      "source": [
        "#### Create a document term matrix using fit_transform\n",
        "\n",
        "The contents of a document term matrix are tuples of (complaint_id,token_id) tf-idf score:\n",
        "The tuples that are not there have a tf-idf score of 0"
      ]
    },
    {
      "cell_type": "code",
      "execution_count": null,
      "metadata": {
        "id": "ffzdDpp_JrGB"
      },
      "outputs": [],
      "source": [
        "# Write your code here to create the Document Term Matrix by transforming the complaints column present in df_clean.\n"
      ]
    },
    {
      "cell_type": "markdown",
      "metadata": {
        "id": "7Q9lwvNEJrGB"
      },
      "source": [
        "## Topic Modelling using NMF\n",
        "\n",
        "Non-Negative Matrix Factorization (NMF) es una técnica no supervisada, por lo que no hay etiquetas de temas en los que se entrenará el modelo. La forma en que funciona es que NMF descompone (o factoriza) vectores de alta dimensión en una representación de menor dimensión. Estos vectores de menor dimensión no son negativos, lo que también significa que sus coeficientes no son negativos.\n",
        "\n",
        "En esta tarea tienes que realizar lo siguiente:\n",
        "\n",
        "* Find the best number of clusters\n",
        "* Apply the best number to create word clusters\n",
        "* Inspect & validate the correction of each cluster wrt the complaints\n",
        "* Correct the labels if needed\n",
        "* Map the clusters to topics/cluster names\n",
        "\n",
        "* Encuentra el mejor número de clústeres\n",
        "* Aplicar el mejor número para crear grupos de palabras\n",
        "* Inspeccionar y validar la corrección de cada grupo frente a las quejas (Complaints)\n",
        "* Corrija las etiquetas si es necesario\n",
        "* Mapear el grupo de nombres de topicos/clusters"
      ]
    },
    {
      "cell_type": "code",
      "execution_count": null,
      "metadata": {
        "id": "amLT4omWJrGB"
      },
      "outputs": [],
      "source": [
        "from sklearn.decomposition import NMF"
      ]
    },
    {
      "cell_type": "markdown",
      "metadata": {
        "id": "0wYR1xUTJrGD"
      },
      "source": [
        "## Manual Topic Modeling\n",
        "Debe adoptar el enfoque de prueba y error para encontrar la mejor cantidad de topicos para su modelo NMF.\n",
        "\n",
        "El único parámetro que se requiere es el número de componentes, es decir, el número de topicos que queremos. Este es el paso más crucial en todo el proceso de modelado de topicos y afectará en gran medida la calidad de sus topicos finales."
      ]
    },
    {
      "cell_type": "code",
      "execution_count": null,
      "metadata": {
        "id": "sgd2A6bhJrGD"
      },
      "outputs": [],
      "source": [
        "#Load your nmf_model with the n_components i.e 5\n",
        "num_topics = #write the value you want to test out\n",
        "\n",
        "#keep the random_state =40\n",
        "nmf_model = #write your code here"
      ]
    },
    {
      "cell_type": "code",
      "execution_count": null,
      "metadata": {
        "id": "VPMDYbt_JrGE"
      },
      "outputs": [],
      "source": [
        "nmf_model.fit(dtm)\n",
        "len(tfidf.get_feature_names())"
      ]
    },
    {
      "cell_type": "code",
      "execution_count": null,
      "metadata": {
        "id": "16kRfat5JrGE"
      },
      "outputs": [],
      "source": [
        "#Print the Top15 words for each of the topics\n"
      ]
    },
    {
      "cell_type": "code",
      "execution_count": null,
      "metadata": {
        "id": "0OIT7LmFJrGF"
      },
      "outputs": [],
      "source": [
        "#Create the best topic for each complaint in terms of integer value 0,1,2,3 & 4\n",
        "\n"
      ]
    },
    {
      "cell_type": "code",
      "execution_count": null,
      "metadata": {
        "id": "peyYv-ORJrGF"
      },
      "outputs": [],
      "source": [
        "#Assign the best topic to each of the cmplaints in Topic Column\n",
        "\n",
        "df_clean['Topic'] = #write your code to assign topics to each rows."
      ]
    },
    {
      "cell_type": "code",
      "execution_count": null,
      "metadata": {
        "id": "fLh_Gf3nJrGF"
      },
      "outputs": [],
      "source": [
        "df_clean.head()"
      ]
    },
    {
      "cell_type": "code",
      "execution_count": null,
      "metadata": {
        "id": "aQKpufSPJrGG"
      },
      "outputs": [],
      "source": [
        "#Print the first 5 Complaint for each of the Topics\n",
        "df_clean=df_clean.groupby('Topic').head(5)\n",
        "df_clean.sort_values('Topic')"
      ]
    },
    {
      "cell_type": "markdown",
      "metadata": {
        "id": "piyLxzj6v07j"
      },
      "source": [
        "#### After evaluating the mapping, if the topics assigned are correct then assign these names to the relevant topic:\n",
        "* Bank Account services\n",
        "* Credit card or prepaid card\n",
        "* Theft/Dispute Reporting\n",
        "* Mortgage/Loan\n",
        "* Others"
      ]
    },
    {
      "cell_type": "code",
      "execution_count": null,
      "metadata": {
        "id": "TWpwDG4RJrGG"
      },
      "outputs": [],
      "source": [
        "#Create the dictionary of Topic names and Topics\n",
        "\n",
        "Topic_names = {   }\n",
        "#Replace Topics with Topic Names\n",
        "df_clean['Topic'] = df_clean['Topic'].map(Topic_names)"
      ]
    },
    {
      "cell_type": "code",
      "execution_count": null,
      "metadata": {
        "id": "-2ULY5K6JrGG"
      },
      "outputs": [],
      "source": [
        "df_clean"
      ]
    },
    {
      "cell_type": "markdown",
      "metadata": {
        "id": "7Mu0QBOcJrGH"
      },
      "source": [
        "## Supervised model to predict any new complaints to the relevant Topics.\n",
        "\n",
        "Hasta ahora ha creado el modelo para crear los temas para cada queja. Entonces, en la siguiente sección, los utilizará para clasificar cualquier queja nueva.\n",
        "\n",
        "Dado que utilizará la técnica de aprendizaje supervisado, tenemos que convertir los nombres de los temas en números (las matrices numpy solo entienden los números)"
      ]
    },
    {
      "cell_type": "code",
      "execution_count": null,
      "metadata": {
        "id": "_U8J3J8wJrGH"
      },
      "outputs": [],
      "source": [
        "#Create the dictionary again of Topic names and Topics\n",
        "\n",
        "Topic_names = {   }\n",
        "\n",
        "#Replace Topics with Topic Names\n",
        "df_clean['Topic'] = df_clean['Topic'].map(Topic_names)"
      ]
    },
    {
      "cell_type": "code",
      "execution_count": null,
      "metadata": {
        "id": "BWIgJUkQJrGH"
      },
      "outputs": [],
      "source": [
        "df_clean"
      ]
    },
    {
      "cell_type": "code",
      "execution_count": null,
      "metadata": {
        "id": "Xx-FrbkWJrGH"
      },
      "outputs": [],
      "source": [
        "#Keep the columns\"complaint_what_happened\" & \"Topic\" only in the new dataframe --> training_data\n",
        "training_data="
      ]
    },
    {
      "cell_type": "code",
      "execution_count": null,
      "metadata": {
        "id": "lVg2pa12JrGI"
      },
      "outputs": [],
      "source": [
        "training_data"
      ]
    },
    {
      "cell_type": "markdown",
      "metadata": {
        "id": "280Vbqk-7a8M"
      },
      "source": [
        "#### Apply the supervised models on the training data created. In this process, you have to do the following:\n",
        "* Create the vector counts using Count Vectoriser\n",
        "* Transform the word vecotr to tf-idf\n",
        "* Create the train & test data using the train_test_split on the tf-idf & topics\n"
      ]
    },
    {
      "cell_type": "code",
      "execution_count": null,
      "metadata": {
        "id": "oUlQpgkzJrGI"
      },
      "outputs": [],
      "source": [
        "\n",
        "#Write your code to get the Vector count\n",
        "\n",
        "\n",
        "#Write your code here to transform the word vector to tf-idf"
      ]
    },
    {
      "cell_type": "markdown",
      "metadata": {
        "id": "uMU3vj6w-wqL"
      },
      "source": [
        "You have to try atleast 3 models on the train & test data from these options:\n",
        "* Logistic regression\n",
        "* Decision Tree\n",
        "* Random Forest\n",
        "* Naive Bayes (optional)\n",
        "\n",
        "**Using the required evaluation metrics judge the tried models and select the ones performing the best**"
      ]
    },
    {
      "cell_type": "code",
      "execution_count": null,
      "metadata": {
        "id": "udLHpPsZJrGI"
      },
      "outputs": [],
      "source": [
        "# Write your code here to build any 3 models and evaluate them using the required metrics\n",
        "\n",
        "\n",
        "\n"
      ]
    },
    {
      "cell_type": "code",
      "execution_count": null,
      "metadata": {
        "id": "N2OznsObJrGP"
      },
      "outputs": [],
      "source": []
    }
  ],
  "metadata": {
    "colab": {
      "collapsed_sections": [
        "yYzD85nTJrGA",
        "piyLxzj6v07j",
        "280Vbqk-7a8M"
      ],
      "provenance": []
    },
    "kernelspec": {
      "display_name": "Python 3 (ipykernel)",
      "language": "python",
      "name": "python3"
    },
    "language_info": {
      "codemirror_mode": {
        "name": "ipython",
        "version": 3
      },
      "file_extension": ".py",
      "mimetype": "text/x-python",
      "name": "python",
      "nbconvert_exporter": "python",
      "pygments_lexer": "ipython3",
      "version": "3.11.5"
    }
  },
  "nbformat": 4,
  "nbformat_minor": 0
}
